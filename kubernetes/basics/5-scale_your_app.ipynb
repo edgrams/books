{
 "cells": [
  {
   "cell_type": "code",
   "execution_count": 1,
   "metadata": {
    "collapsed": false
   },
   "outputs": [
    {
     "name": "stdout",
     "output_type": "stream",
     "text": [
      "NAME                  DESIRED   CURRENT   UP-TO-DATE   AVAILABLE   AGE\n",
      "kubernetes-bootcamp   1         1         1            1           1h\n"
     ]
    }
   ],
   "source": [
    "kubectl get deployments"
   ]
  },
  {
   "cell_type": "code",
   "execution_count": 2,
   "metadata": {
    "collapsed": false
   },
   "outputs": [
    {
     "name": "stdout",
     "output_type": "stream",
     "text": [
      "deployment \"kubernetes-bootcamp\" scaled\n"
     ]
    }
   ],
   "source": [
    "kubectl scale deployments/kubernetes-bootcamp --replicas=4"
   ]
  },
  {
   "cell_type": "code",
   "execution_count": 3,
   "metadata": {
    "collapsed": false
   },
   "outputs": [
    {
     "name": "stdout",
     "output_type": "stream",
     "text": [
      "NAME                  DESIRED   CURRENT   UP-TO-DATE   AVAILABLE   AGE\n",
      "kubernetes-bootcamp   4         4         4            4           1h\n"
     ]
    }
   ],
   "source": [
    "kubectl get deployments"
   ]
  },
  {
   "cell_type": "code",
   "execution_count": 4,
   "metadata": {
    "collapsed": false
   },
   "outputs": [
    {
     "name": "stdout",
     "output_type": "stream",
     "text": [
      "NAME                                  READY     STATUS    RESTARTS   AGE       IP           NODE\n",
      "kubernetes-bootcamp-390780338-4n6pn   1/1       Running   0          40s       172.17.0.7   minikube\n",
      "kubernetes-bootcamp-390780338-gh361   1/1       Running   0          1h        172.17.0.4   minikube\n",
      "kubernetes-bootcamp-390780338-jjd3j   1/1       Running   0          40s       172.17.0.5   minikube\n",
      "kubernetes-bootcamp-390780338-k0qp7   1/1       Running   0          40s       172.17.0.6   minikube\n"
     ]
    }
   ],
   "source": [
    "kubectl get pods -o wide"
   ]
  },
  {
   "cell_type": "code",
   "execution_count": 5,
   "metadata": {
    "collapsed": false
   },
   "outputs": [
    {
     "name": "stdout",
     "output_type": "stream",
     "text": [
      "Name:\t\t\tkubernetes-bootcamp\n",
      "Namespace:\t\tdefault\n",
      "CreationTimestamp:\tSat, 04 Mar 2017 19:56:58 -0600\n",
      "Labels:\t\t\trun=kubernetes-bootcamp\n",
      "Selector:\t\trun=kubernetes-bootcamp\n",
      "Replicas:\t\t4 updated | 4 total | 4 available | 0 unavailable\n",
      "StrategyType:\t\tRollingUpdate\n",
      "MinReadySeconds:\t0\n",
      "RollingUpdateStrategy:\t1 max unavailable, 1 max surge\n",
      "Conditions:\n",
      "  Type\t\tStatus\tReason\n",
      "  ----\t\t------\t------\n",
      "  Available \tTrue\tMinimumReplicasAvailable\n",
      "OldReplicaSets:\t<none>\n",
      "NewReplicaSet:\tkubernetes-bootcamp-390780338 (4/4 replicas created)\n",
      "Events:\n",
      "  FirstSeen\tLastSeen\tCount\tFrom\t\t\t\tSubObjectPath\tType\t\tReason\t\t\tMessage\n",
      "  ---------\t--------\t-----\t----\t\t\t\t-------------\t--------\t------\t\t\t-------\n",
      "  1m\t\t1m\t\t1\t{deployment-controller }\t\t\tNormal\t\tScalingReplicaSet\tScaled up replica set kubernetes-bootcamp-390780338 to 4\n"
     ]
    }
   ],
   "source": [
    "kubectl describe deployments/kubernetes-bootcamp"
   ]
  },
  {
   "cell_type": "code",
   "execution_count": 9,
   "metadata": {
    "collapsed": false
   },
   "outputs": [
    {
     "name": "stdout",
     "output_type": "stream",
     "text": [
      "service \"kubernetes-bootcamp\" exposed\n"
     ]
    }
   ],
   "source": [
    "kubectl expose deployment/kubernetes-bootcamp --type=\"NodePort\" --port 8080"
   ]
  },
  {
   "cell_type": "code",
   "execution_count": 10,
   "metadata": {
    "collapsed": false
   },
   "outputs": [
    {
     "name": "stdout",
     "output_type": "stream",
     "text": [
      "Name:\t\t\tkubernetes-bootcamp\n",
      "Namespace:\t\tdefault\n",
      "Labels:\t\t\trun=kubernetes-bootcamp\n",
      "Selector:\t\trun=kubernetes-bootcamp\n",
      "Type:\t\t\tNodePort\n",
      "IP:\t\t\t10.0.0.111\n",
      "Port:\t\t\t<unset>\t8080/TCP\n",
      "NodePort:\t\t<unset>\t30871/TCP\n",
      "Endpoints:\t\t172.17.0.4:8080,172.17.0.5:8080,172.17.0.6:8080 + 1 more...\n",
      "Session Affinity:\tNone\n",
      "No events.\n"
     ]
    }
   ],
   "source": [
    "kubectl describe services/kubernetes-bootcamp"
   ]
  },
  {
   "cell_type": "code",
   "execution_count": 11,
   "metadata": {
    "collapsed": true
   },
   "outputs": [],
   "source": [
    "export NODE_PORT=$(kubectl get services/kubernetes-bootcamp -o go-template='{{(index .spec.ports 0).nodePort}}')"
   ]
  },
  {
   "cell_type": "code",
   "execution_count": 12,
   "metadata": {
    "collapsed": false
   },
   "outputs": [
    {
     "name": "stdout",
     "output_type": "stream",
     "text": [
      "Hello Kubernetes bootcamp! | Running on: kubernetes-bootcamp-390780338-4n6pn | v=1\n"
     ]
    }
   ],
   "source": [
    "curl http://$(minikube ip):$NODE_PORT"
   ]
  },
  {
   "cell_type": "code",
   "execution_count": 13,
   "metadata": {
    "collapsed": false
   },
   "outputs": [
    {
     "name": "stdout",
     "output_type": "stream",
     "text": [
      "Hello Kubernetes bootcamp! | Running on: kubernetes-bootcamp-390780338-gh361 | v=1\n"
     ]
    }
   ],
   "source": [
    "curl http://$(minikube ip):$NODE_PORT"
   ]
  },
  {
   "cell_type": "code",
   "execution_count": 14,
   "metadata": {
    "collapsed": false
   },
   "outputs": [
    {
     "name": "stdout",
     "output_type": "stream",
     "text": [
      "Hello Kubernetes bootcamp! | Running on: kubernetes-bootcamp-390780338-jjd3j | v=1\n"
     ]
    }
   ],
   "source": [
    "curl http://$(minikube ip):$NODE_PORT"
   ]
  },
  {
   "cell_type": "code",
   "execution_count": 15,
   "metadata": {
    "collapsed": false
   },
   "outputs": [
    {
     "name": "stdout",
     "output_type": "stream",
     "text": [
      "Hello Kubernetes bootcamp! | Running on: kubernetes-bootcamp-390780338-k0qp7 | v=1\n"
     ]
    }
   ],
   "source": [
    "curl http://$(minikube ip):$NODE_PORT"
   ]
  },
  {
   "cell_type": "code",
   "execution_count": 16,
   "metadata": {
    "collapsed": false
   },
   "outputs": [
    {
     "name": "stdout",
     "output_type": "stream",
     "text": [
      "deployment \"kubernetes-bootcamp\" scaled\n"
     ]
    }
   ],
   "source": [
    "kubectl scale deployments/kubernetes-bootcamp --replicas=2"
   ]
  },
  {
   "cell_type": "code",
   "execution_count": 17,
   "metadata": {
    "collapsed": false
   },
   "outputs": [
    {
     "name": "stdout",
     "output_type": "stream",
     "text": [
      "NAME                  DESIRED   CURRENT   UP-TO-DATE   AVAILABLE   AGE\n",
      "kubernetes-bootcamp   2         2         2            2           1h\n"
     ]
    }
   ],
   "source": [
    "kubectl get deployments"
   ]
  },
  {
   "cell_type": "code",
   "execution_count": 18,
   "metadata": {
    "collapsed": false
   },
   "outputs": [
    {
     "name": "stdout",
     "output_type": "stream",
     "text": [
      "NAME                                  READY     STATUS        RESTARTS   AGE       IP           NODE\n",
      "kubernetes-bootcamp-390780338-4n6pn   1/1       Terminating   0          5m        172.17.0.7   minikube\n",
      "kubernetes-bootcamp-390780338-gh361   1/1       Running       0          1h        172.17.0.4   minikube\n",
      "kubernetes-bootcamp-390780338-jjd3j   1/1       Running       0          5m        172.17.0.5   minikube\n",
      "kubernetes-bootcamp-390780338-k0qp7   1/1       Terminating   0          5m        172.17.0.6   minikube\n"
     ]
    }
   ],
   "source": [
    "kubectl get pods -o wide"
   ]
  }
 ],
 "metadata": {
  "kernelspec": {
   "display_name": "Bash",
   "language": "bash",
   "name": "bash"
  },
  "language_info": {
   "codemirror_mode": "shell",
   "file_extension": ".sh",
   "mimetype": "text/x-sh",
   "name": "bash"
  }
 },
 "nbformat": 4,
 "nbformat_minor": 2
}

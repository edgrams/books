{
 "cells": [
  {
   "cell_type": "code",
   "execution_count": 1,
   "metadata": {
    "collapsed": false
   },
   "outputs": [
    {
     "name": "stdout",
     "output_type": "stream",
     "text": [
      "Display one or many resources. \n",
      "\n",
      "Valid resource types include: \n",
      "\n",
      "  * clusters (valid only for federation apiservers)  \n",
      "  * componentstatuses (aka 'cs')  \n",
      "  * configmaps (aka 'cm')  \n",
      "  * daemonsets (aka 'ds')  \n",
      "  * deployments (aka 'deploy')  \n",
      "  * endpoints (aka 'ep')  \n",
      "  * events (aka 'ev')  \n",
      "  * horizontalpodautoscalers (aka 'hpa')  \n",
      "  * ingresses (aka 'ing')  \n",
      "  * jobs  \n",
      "  * limitranges (aka 'limits')  \n",
      "  * namespaces (aka 'ns')  \n",
      "  * networkpolicies  \n",
      "  * nodes (aka 'no')  \n",
      "  * persistentvolumeclaims (aka 'pvc')  \n",
      "  * persistentvolumes (aka 'pv')  \n",
      "  * pods (aka 'po')  \n",
      "  * podsecuritypolicies (aka 'psp')  \n",
      "  * podtemplates  \n",
      "  * replicasets (aka 'rs')  \n",
      "  * replicationcontrollers (aka 'rc')  \n",
      "  * resourcequotas (aka 'quota')  \n",
      "  * secrets  \n",
      "  * serviceaccounts (aka 'sa')  \n",
      "  * services (aka 'svc')  \n",
      "  * statefulsets  \n",
      "  * storageclasses  \n",
      "  * thirdpartyresources  \n",
      "\n",
      "This command will hide resources that have completed. For instance, pods that\n",
      "are in the Succeeded or Failed phases. You can see the full results for any\n",
      "resource by providing the '--show-all' flag. \n",
      "\n",
      "By specifying the output as 'template' and providing a Go template as the value\n",
      "of the --template flag, you can filter the attributes of the fetched\n",
      "resource(s).\n",
      "\n",
      "Examples:\n",
      "  # List all pods in ps output format.\n",
      "  kubectl get pods\n",
      "  \n",
      "  # List all pods in ps output format with more information (such as node name).\n",
      "  kubectl get pods -o wide\n",
      "  \n",
      "  # List a single replication controller with specified NAME in ps output\n",
      "format.\n",
      "  kubectl get replicationcontroller web\n",
      "  \n",
      "  # List a single pod in JSON output format.\n",
      "  kubectl get -o json pod web-pod-13je7\n",
      "  \n",
      "  # List a pod identified by type and name specified in \"pod.yaml\" in JSON\n",
      "output format.\n",
      "  kubectl get -f pod.yaml -o json\n",
      "  \n",
      "  # Return only the phase value of the specified pod.\n",
      "  kubectl get -o template pod/web-pod-13je7 --template={{.status.phase}}\n",
      "  \n",
      "  # List all replication controllers and services together in ps output format.\n",
      "  kubectl get rc,services\n",
      "  \n",
      "  # List one or more resources by their type and names.\n",
      "  kubectl get rc/web service/frontend pods/web-pod-13je7\n",
      "\n",
      "Options:\n",
      "      --all-namespaces=false: If present, list the requested object(s) across\n",
      "all namespaces. Namespace in current context is ignored even if specified with\n",
      "--namespace.\n",
      "      --allow-missing-template-keys=true: If true, ignore any errors in\n",
      "templates when a field or map key is missing in the template. Only applies to\n",
      "golang and jsonpath output formats.\n",
      "      --export=false: If true, use 'export' for the resources.  Exported\n",
      "resources are stripped of cluster-specific information.\n",
      "  -f, --filename=[]: Filename, directory, or URL to files identifying the\n",
      "resource to get from a server.\n",
      "      --include-extended-apis=true: If true, include definitions of new APIs via\n",
      "calls to the API server. [default true]\n",
      "  -L, --label-columns=[]: Accepts a comma separated list of labels that are\n",
      "going to be presented as columns. Names are case-sensitive. You can also use\n",
      "multiple flag options like -L label1 -L label2...\n",
      "      --no-headers=false: When using the default or custom-column output format,\n",
      "don't print headers.\n",
      "  -o, --output='': Output format. One of:\n",
      "json|yaml|wide|name|custom-columns=...|custom-columns-file=...|go-template=...|go-template-file=...|jsonpath=...|jsonpath-file=...\n",
      "See custom columns\n",
      "[http://kubernetes.io/docs/user-guide/kubectl-overview/#custom-columns], golang\n",
      "template [http://golang.org/pkg/text/template/#pkg-overview] and jsonpath\n",
      "template [http://kubernetes.io/docs/user-guide/jsonpath].\n",
      "      --output-version='': Output the formatted object with the given group\n",
      "version (for ex: 'extensions/v1beta1').\n",
      "      --raw='': Raw URI to request from the server.  Uses the transport\n",
      "specified by the kubeconfig file.\n",
      "  -R, --recursive=false: Process the directory used in -f, --filename\n",
      "recursively. Useful when you want to manage related manifests organized within\n",
      "the same directory.\n",
      "  -l, --selector='': Selector (label query) to filter on\n",
      "  -a, --show-all=false: When printing, show all resources (default hide\n",
      "terminated pods.)\n",
      "      --show-kind=false: If present, list the resource type for the requested\n",
      "object(s).\n",
      "      --show-labels=false: When printing, show all labels as the last column\n",
      "(default hide labels column)\n",
      "      --sort-by='': If non-empty, sort list types using this field\n",
      "specification.  The field specification is expressed as a JSONPath expression\n",
      "(e.g. '{.metadata.name}'). The field in the API resource specified by this\n",
      "JSONPath expression must be an integer or a string.\n",
      "      --template='': Template string or path to template file to use when\n",
      "-o=go-template, -o=go-template-file. The template format is golang templates\n",
      "[http://golang.org/pkg/text/template/#pkg-overview].\n",
      "  -w, --watch=false: After listing/getting the requested object, watch for\n",
      "changes.\n",
      "      --watch-only=false: Watch for changes to the requested object(s), without\n",
      "listing/getting first.\n",
      "\n",
      "Usage:\n",
      "  kubectl get\n",
      "[(-o|--output=)json|yaml|wide|custom-columns=...|custom-columns-file=...|go-template=...|go-template-file=...|jsonpath=...|jsonpath-file=...]\n",
      "(TYPE [NAME | -l label] | TYPE/NAME ...) [flags] [options]\n",
      "\n",
      "Use \"kubectl options\" for a list of global command-line options (applies to all\n",
      "commands).\n"
     ]
    }
   ],
   "source": [
    "kubectl get nodes --help"
   ]
  },
  {
   "cell_type": "code",
   "execution_count": 2,
   "metadata": {
    "collapsed": false
   },
   "outputs": [
    {
     "name": "stdout",
     "output_type": "stream",
     "text": [
      "Client Version: version.Info{Major:\"1\", Minor:\"5\", GitVersion:\"v1.5.3\", GitCommit:\"029c3a408176b55c30846f0faedf56aae5992e9b\", GitTreeState:\"clean\", BuildDate:\"2017-02-15T06:40:50Z\", GoVersion:\"go1.7.4\", Compiler:\"gc\", Platform:\"linux/amd64\"}\n",
      "Server Version: version.Info{Major:\"1\", Minor:\"5\", GitVersion:\"v1.5.3\", GitCommit:\"029c3a408176b55c30846f0faedf56aae5992e9b\", GitTreeState:\"clean\", BuildDate:\"1970-01-01T00:00:00Z\", GoVersion:\"go1.7.1\", Compiler:\"gc\", Platform:\"linux/amd64\"}\n"
     ]
    }
   ],
   "source": [
    "kubectl version"
   ]
  },
  {
   "cell_type": "code",
   "execution_count": 3,
   "metadata": {
    "collapsed": false
   },
   "outputs": [
    {
     "name": "stdout",
     "output_type": "stream",
     "text": [
      "NAME       STATUS    AGE\n",
      "minikube   Ready     1h\n"
     ]
    }
   ],
   "source": [
    "kubectl get nodes"
   ]
  },
  {
   "cell_type": "code",
   "execution_count": 4,
   "metadata": {
    "collapsed": false
   },
   "outputs": [
    {
     "name": "stdout",
     "output_type": "stream",
     "text": [
      "deployment \"kubernetes-bootcamp\" created\n"
     ]
    }
   ],
   "source": [
    "kubectl run kubernetes-bootcamp --image=docker.io/jocatalin/kubernetes-bootcamp:v1 --port=8080"
   ]
  },
  {
   "cell_type": "code",
   "execution_count": 5,
   "metadata": {
    "collapsed": false
   },
   "outputs": [
    {
     "name": "stdout",
     "output_type": "stream",
     "text": [
      "NAME                  DESIRED   CURRENT   UP-TO-DATE   AVAILABLE   AGE\n",
      "kubernetes-bootcamp   1         1         1            0           24s\n"
     ]
    }
   ],
   "source": [
    "kubectl get deployments"
   ]
  },
  {
   "cell_type": "code",
   "execution_count": 24,
   "metadata": {
    "collapsed": false
   },
   "outputs": [
    {
     "name": "stdout",
     "output_type": "stream",
     "text": [
      "Starting to serve on 127.0.0.1:8001\r\n"
     ]
    }
   ],
   "source": [
    "kubectl proxy"
   ]
  },
  {
   "cell_type": "code",
   "execution_count": 21,
   "metadata": {
    "collapsed": false
   },
   "outputs": [],
   "source": [
    "export POD_NAME=$(kubectl get pods -o go-template --template '{{range .items}}{{.metadata.name}}{{\"\\n\"}}{{end}}')"
   ]
  },
  {
   "cell_type": "code",
   "execution_count": 22,
   "metadata": {
    "collapsed": false
   },
   "outputs": [
    {
     "name": "stdout",
     "output_type": "stream",
     "text": [
      "Name of the Pod: kubernetes-bootcamp-390780338-gh361\n"
     ]
    }
   ],
   "source": [
    "echo Name of the Pod: $POD_NAME"
   ]
  },
  {
   "cell_type": "code",
   "execution_count": 26,
   "metadata": {
    "collapsed": false
   },
   "outputs": [],
   "source": [
    "curl http://localhost:8001/api/v1/proxy/namespaces/default/pods/$POD_NAME"
   ]
  }
 ],
 "metadata": {
  "kernelspec": {
   "display_name": "Bash",
   "language": "bash",
   "name": "bash"
  },
  "language_info": {
   "codemirror_mode": "shell",
   "file_extension": ".sh",
   "mimetype": "text/x-sh",
   "name": "bash"
  }
 },
 "nbformat": 4,
 "nbformat_minor": 2
}

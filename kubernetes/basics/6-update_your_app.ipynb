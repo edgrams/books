{
 "cells": [
  {
   "cell_type": "code",
   "execution_count": 1,
   "metadata": {
    "collapsed": false
   },
   "outputs": [
    {
     "name": "stdout",
     "output_type": "stream",
     "text": [
      "NAME                  DESIRED   CURRENT   UP-TO-DATE   AVAILABLE   AGE\n",
      "kubernetes-bootcamp   2         2         2            2           1h\n"
     ]
    }
   ],
   "source": [
    "kubectl get deployments"
   ]
  },
  {
   "cell_type": "code",
   "execution_count": 2,
   "metadata": {
    "collapsed": false
   },
   "outputs": [
    {
     "name": "stdout",
     "output_type": "stream",
     "text": [
      "NAME                                  READY     STATUS    RESTARTS   AGE\n",
      "kubernetes-bootcamp-390780338-gh361   1/1       Running   0          1h\n",
      "kubernetes-bootcamp-390780338-jjd3j   1/1       Running   0          10m\n"
     ]
    }
   ],
   "source": [
    "kubectl get pods"
   ]
  },
  {
   "cell_type": "code",
   "execution_count": 3,
   "metadata": {
    "collapsed": false
   },
   "outputs": [
    {
     "name": "stdout",
     "output_type": "stream",
     "text": [
      "Name:\t\tkubernetes-bootcamp-390780338-gh361\n",
      "Namespace:\tdefault\n",
      "Node:\t\tminikube/192.168.42.241\n",
      "Start Time:\tSat, 04 Mar 2017 19:56:58 -0600\n",
      "Labels:\t\tapp=v1\n",
      "\t\tpod-template-hash=390780338\n",
      "\t\trun=kubernetes-bootcamp\n",
      "Status:\t\tRunning\n",
      "IP:\t\t172.17.0.4\n",
      "Controllers:\tReplicaSet/kubernetes-bootcamp-390780338\n",
      "Containers:\n",
      "  kubernetes-bootcamp:\n",
      "    Container ID:\tdocker://813905dc67c6882061f309523b75fb70516fcb651918d84573e5a5027dd67520\n",
      "    Image:\t\tdocker.io/jocatalin/kubernetes-bootcamp:v1\n",
      "    Image ID:\t\tdocker://sha256:8fafd8af70e9aa7c3ab40222ca4fd58050cf3e49cb14a4e7c0f460cd4f78e9fe\n",
      "    Port:\t\t8080/TCP\n",
      "    State:\t\tRunning\n",
      "      Started:\t\tSat, 04 Mar 2017 19:58:43 -0600\n",
      "    Ready:\t\tTrue\n",
      "    Restart Count:\t0\n",
      "    Volume Mounts:\n",
      "      /var/run/secrets/kubernetes.io/serviceaccount from default-token-6jxcd (ro)\n",
      "    Environment Variables:\t<none>\n",
      "Conditions:\n",
      "  Type\t\tStatus\n",
      "  Initialized \tTrue \n",
      "  Ready \tTrue \n",
      "  PodScheduled \tTrue \n",
      "Volumes:\n",
      "  default-token-6jxcd:\n",
      "    Type:\tSecret (a volume populated by a Secret)\n",
      "    SecretName:\tdefault-token-6jxcd\n",
      "QoS Class:\tBestEffort\n",
      "Tolerations:\t<none>\n",
      "No events.\n",
      "\n",
      "\n",
      "Name:\t\tkubernetes-bootcamp-390780338-jjd3j\n",
      "Namespace:\tdefault\n",
      "Node:\t\tminikube/192.168.42.241\n",
      "Start Time:\tSat, 04 Mar 2017 21:21:38 -0600\n",
      "Labels:\t\tpod-template-hash=390780338\n",
      "\t\trun=kubernetes-bootcamp\n",
      "Status:\t\tRunning\n",
      "IP:\t\t172.17.0.5\n",
      "Controllers:\tReplicaSet/kubernetes-bootcamp-390780338\n",
      "Containers:\n",
      "  kubernetes-bootcamp:\n",
      "    Container ID:\tdocker://303fa65284b34466f565c809dddd48363e0f8f5cbfe1e673d5fd20986d058d56\n",
      "    Image:\t\tdocker.io/jocatalin/kubernetes-bootcamp:v1\n",
      "    Image ID:\t\tdocker://sha256:8fafd8af70e9aa7c3ab40222ca4fd58050cf3e49cb14a4e7c0f460cd4f78e9fe\n",
      "    Port:\t\t8080/TCP\n",
      "    State:\t\tRunning\n",
      "      Started:\t\tSat, 04 Mar 2017 21:21:39 -0600\n",
      "    Ready:\t\tTrue\n",
      "    Restart Count:\t0\n",
      "    Volume Mounts:\n",
      "      /var/run/secrets/kubernetes.io/serviceaccount from default-token-6jxcd (ro)\n",
      "    Environment Variables:\t<none>\n",
      "Conditions:\n",
      "  Type\t\tStatus\n",
      "  Initialized \tTrue \n",
      "  Ready \tTrue \n",
      "  PodScheduled \tTrue \n",
      "Volumes:\n",
      "  default-token-6jxcd:\n",
      "    Type:\tSecret (a volume populated by a Secret)\n",
      "    SecretName:\tdefault-token-6jxcd\n",
      "QoS Class:\tBestEffort\n",
      "Tolerations:\t<none>\n",
      "Events:\n",
      "  FirstSeen\tLastSeen\tCount\tFrom\t\t\tSubObjectPath\t\t\t\tType\t\tReason\t\tMessage\n",
      "  ---------\t--------\t-----\t----\t\t\t-------------\t\t\t\t--------\t------\t\t-------\n",
      "  11m\t\t11m\t\t1\t{default-scheduler }\t\t\t\t\t\tNormal\t\tScheduled\tSuccessfully assigned kubernetes-bootcamp-390780338-jjd3j to minikube\n",
      "  11m\t\t11m\t\t1\t{kubelet minikube}\tspec.containers{kubernetes-bootcamp}\tNormal\t\tPulled\t\tContainer image \"docker.io/jocatalin/kubernetes-bootcamp:v1\" already present on machine\n",
      "  11m\t\t11m\t\t1\t{kubelet minikube}\tspec.containers{kubernetes-bootcamp}\tNormal\t\tCreated\t\tCreated container with docker id 303fa65284b3; Security:[seccomp=unconfined]\n",
      "  11m\t\t11m\t\t1\t{kubelet minikube}\tspec.containers{kubernetes-bootcamp}\tNormal\t\tStarted\t\tStarted container with docker id 303fa65284b3\n"
     ]
    }
   ],
   "source": [
    "kubectl describe pods"
   ]
  },
  {
   "cell_type": "code",
   "execution_count": 4,
   "metadata": {
    "collapsed": false
   },
   "outputs": [
    {
     "name": "stdout",
     "output_type": "stream",
     "text": [
      "deployment \"kubernetes-bootcamp\" image updated\n"
     ]
    }
   ],
   "source": [
    "kubectl set image deployments/kubernetes-bootcamp kubernetes-bootcamp=jocatalin/kubernetes-bootcamp:v2"
   ]
  },
  {
   "cell_type": "code",
   "execution_count": 5,
   "metadata": {
    "collapsed": false
   },
   "outputs": [
    {
     "name": "stdout",
     "output_type": "stream",
     "text": [
      "NAME                                   READY     STATUS        RESTARTS   AGE\n",
      "kubernetes-bootcamp-2100875782-bdvs5   1/1       Running       0          15s\n",
      "kubernetes-bootcamp-2100875782-gr22d   1/1       Running       0          15s\n",
      "kubernetes-bootcamp-390780338-gh361    1/1       Terminating   0          1h\n",
      "kubernetes-bootcamp-390780338-jjd3j    1/1       Terminating   0          12m\n"
     ]
    }
   ],
   "source": [
    "kubectl get pods"
   ]
  },
  {
   "cell_type": "code",
   "execution_count": 6,
   "metadata": {
    "collapsed": false
   },
   "outputs": [
    {
     "name": "stdout",
     "output_type": "stream",
     "text": [
      "Name:\t\t\tkubernetes-bootcamp\n",
      "Namespace:\t\tdefault\n",
      "Labels:\t\t\trun=kubernetes-bootcamp\n",
      "Selector:\t\trun=kubernetes-bootcamp\n",
      "Type:\t\t\tNodePort\n",
      "IP:\t\t\t10.0.0.111\n",
      "Port:\t\t\t<unset>\t8080/TCP\n",
      "NodePort:\t\t<unset>\t30871/TCP\n",
      "Endpoints:\t\t172.17.0.6:8080,172.17.0.7:8080\n",
      "Session Affinity:\tNone\n",
      "No events.\n"
     ]
    }
   ],
   "source": [
    "kubectl describe services/kubernetes-bootcamp"
   ]
  },
  {
   "cell_type": "code",
   "execution_count": 7,
   "metadata": {
    "collapsed": true
   },
   "outputs": [],
   "source": [
    "export NODE_PORT=$(kubectl get services/kubernetes-bootcamp -o go-template='{{(index .spec.ports 0).nodePort}}')"
   ]
  },
  {
   "cell_type": "code",
   "execution_count": 8,
   "metadata": {
    "collapsed": false
   },
   "outputs": [
    {
     "name": "stdout",
     "output_type": "stream",
     "text": [
      "Hello Kubernetes bootcamp! | Running on: kubernetes-bootcamp-2100875782-bdvs5 | v=2\n"
     ]
    }
   ],
   "source": [
    "curl http://$(minikube ip):$NODE_PORT"
   ]
  },
  {
   "cell_type": "code",
   "execution_count": 11,
   "metadata": {
    "collapsed": false
   },
   "outputs": [
    {
     "name": "stdout",
     "output_type": "stream",
     "text": [
      "Hello Kubernetes bootcamp! | Running on: kubernetes-bootcamp-2100875782-gr22d | v=2\n"
     ]
    }
   ],
   "source": [
    "curl http://$(minikube ip):$NODE_PORT"
   ]
  },
  {
   "cell_type": "code",
   "execution_count": 12,
   "metadata": {
    "collapsed": false
   },
   "outputs": [
    {
     "name": "stdout",
     "output_type": "stream",
     "text": [
      "deployment \"kubernetes-bootcamp\" successfully rolled out\n"
     ]
    }
   ],
   "source": [
    "kubectl rollout status deployments/kubernetes-bootcamp"
   ]
  },
  {
   "cell_type": "code",
   "execution_count": 13,
   "metadata": {
    "collapsed": false
   },
   "outputs": [
    {
     "name": "stdout",
     "output_type": "stream",
     "text": [
      "Name:\t\tkubernetes-bootcamp-2100875782-bdvs5\n",
      "Namespace:\tdefault\n",
      "Node:\t\tminikube/192.168.42.241\n",
      "Start Time:\tSat, 04 Mar 2017 21:33:49 -0600\n",
      "Labels:\t\tpod-template-hash=2100875782\n",
      "\t\trun=kubernetes-bootcamp\n",
      "Status:\t\tRunning\n",
      "IP:\t\t172.17.0.7\n",
      "Controllers:\tReplicaSet/kubernetes-bootcamp-2100875782\n",
      "Containers:\n",
      "  kubernetes-bootcamp:\n",
      "    Container ID:\tdocker://1c69c09ef8825b5ae156536559f8737d1b51c1bbb0d3342be1187d6b769ce77a\n",
      "    Image:\t\tjocatalin/kubernetes-bootcamp:v2\n",
      "    Image ID:\t\tdocker://sha256:b6556396ebd45c517469c522c3c61ecf5ab708cafe0e59df906278d34c255ef8\n",
      "    Port:\t\t8080/TCP\n",
      "    State:\t\tRunning\n",
      "      Started:\t\tSat, 04 Mar 2017 21:33:53 -0600\n",
      "    Ready:\t\tTrue\n",
      "    Restart Count:\t0\n",
      "    Volume Mounts:\n",
      "      /var/run/secrets/kubernetes.io/serviceaccount from default-token-6jxcd (ro)\n",
      "    Environment Variables:\t<none>\n",
      "Conditions:\n",
      "  Type\t\tStatus\n",
      "  Initialized \tTrue \n",
      "  Ready \tTrue \n",
      "  PodScheduled \tTrue \n",
      "Volumes:\n",
      "  default-token-6jxcd:\n",
      "    Type:\tSecret (a volume populated by a Secret)\n",
      "    SecretName:\tdefault-token-6jxcd\n",
      "QoS Class:\tBestEffort\n",
      "Tolerations:\t<none>\n",
      "Events:\n",
      "  FirstSeen\tLastSeen\tCount\tFrom\t\t\tSubObjectPath\t\t\t\tType\t\tReason\t\tMessage\n",
      "  ---------\t--------\t-----\t----\t\t\t-------------\t\t\t\t--------\t------\t\t-------\n",
      "  3m\t\t3m\t\t1\t{default-scheduler }\t\t\t\t\t\tNormal\t\tScheduled\tSuccessfully assigned kubernetes-bootcamp-2100875782-bdvs5 to minikube\n",
      "  3m\t\t3m\t\t1\t{kubelet minikube}\tspec.containers{kubernetes-bootcamp}\tNormal\t\tPulling\t\tpulling image \"jocatalin/kubernetes-bootcamp:v2\"\n",
      "  3m\t\t3m\t\t1\t{kubelet minikube}\tspec.containers{kubernetes-bootcamp}\tNormal\t\tPulled\t\tSuccessfully pulled image \"jocatalin/kubernetes-bootcamp:v2\"\n",
      "  3m\t\t3m\t\t1\t{kubelet minikube}\tspec.containers{kubernetes-bootcamp}\tNormal\t\tCreated\t\tCreated container with docker id 1c69c09ef882; Security:[seccomp=unconfined]\n",
      "  3m\t\t3m\t\t1\t{kubelet minikube}\tspec.containers{kubernetes-bootcamp}\tNormal\t\tStarted\t\tStarted container with docker id 1c69c09ef882\n",
      "\n",
      "\n",
      "Name:\t\tkubernetes-bootcamp-2100875782-gr22d\n",
      "Namespace:\tdefault\n",
      "Node:\t\tminikube/192.168.42.241\n",
      "Start Time:\tSat, 04 Mar 2017 21:33:49 -0600\n",
      "Labels:\t\tpod-template-hash=2100875782\n",
      "\t\trun=kubernetes-bootcamp\n",
      "Status:\t\tRunning\n",
      "IP:\t\t172.17.0.6\n",
      "Controllers:\tReplicaSet/kubernetes-bootcamp-2100875782\n",
      "Containers:\n",
      "  kubernetes-bootcamp:\n",
      "    Container ID:\tdocker://7a2b08c49619753c1780141f9bcedf44ff795c4f3f8f1c78a7de4b4cfe611f74\n",
      "    Image:\t\tjocatalin/kubernetes-bootcamp:v2\n",
      "    Image ID:\t\tdocker://sha256:b6556396ebd45c517469c522c3c61ecf5ab708cafe0e59df906278d34c255ef8\n",
      "    Port:\t\t8080/TCP\n",
      "    State:\t\tRunning\n",
      "      Started:\t\tSat, 04 Mar 2017 21:33:52 -0600\n",
      "    Ready:\t\tTrue\n",
      "    Restart Count:\t0\n",
      "    Volume Mounts:\n",
      "      /var/run/secrets/kubernetes.io/serviceaccount from default-token-6jxcd (ro)\n",
      "    Environment Variables:\t<none>\n",
      "Conditions:\n",
      "  Type\t\tStatus\n",
      "  Initialized \tTrue \n",
      "  Ready \tTrue \n",
      "  PodScheduled \tTrue \n",
      "Volumes:\n",
      "  default-token-6jxcd:\n",
      "    Type:\tSecret (a volume populated by a Secret)\n",
      "    SecretName:\tdefault-token-6jxcd\n",
      "QoS Class:\tBestEffort\n",
      "Tolerations:\t<none>\n",
      "Events:\n",
      "  FirstSeen\tLastSeen\tCount\tFrom\t\t\tSubObjectPath\t\t\t\tType\t\tReason\t\tMessage\n",
      "  ---------\t--------\t-----\t----\t\t\t-------------\t\t\t\t--------\t------\t\t-------\n",
      "  3m\t\t3m\t\t1\t{default-scheduler }\t\t\t\t\t\tNormal\t\tScheduled\tSuccessfully assigned kubernetes-bootcamp-2100875782-gr22d to minikube\n",
      "  3m\t\t3m\t\t1\t{kubelet minikube}\tspec.containers{kubernetes-bootcamp}\tNormal\t\tPulling\t\tpulling image \"jocatalin/kubernetes-bootcamp:v2\"\n",
      "  3m\t\t3m\t\t1\t{kubelet minikube}\tspec.containers{kubernetes-bootcamp}\tNormal\t\tPulled\t\tSuccessfully pulled image \"jocatalin/kubernetes-bootcamp:v2\"\n",
      "  3m\t\t3m\t\t1\t{kubelet minikube}\tspec.containers{kubernetes-bootcamp}\tNormal\t\tCreated\t\tCreated container with docker id 7a2b08c49619; Security:[seccomp=unconfined]\n",
      "  3m\t\t3m\t\t1\t{kubelet minikube}\tspec.containers{kubernetes-bootcamp}\tNormal\t\tStarted\t\tStarted container with docker id 7a2b08c49619\n"
     ]
    }
   ],
   "source": [
    "kubectl describe pods"
   ]
  },
  {
   "cell_type": "code",
   "execution_count": 14,
   "metadata": {
    "collapsed": false
   },
   "outputs": [
    {
     "name": "stdout",
     "output_type": "stream",
     "text": [
      "deployment \"kubernetes-bootcamp\" image updated\n"
     ]
    }
   ],
   "source": [
    "kubectl set image deployments/kubernetes-bootcamp kubernetes-bootcamp=jocatalin/kubernetes-bootcamp:v10"
   ]
  },
  {
   "cell_type": "code",
   "execution_count": 15,
   "metadata": {
    "collapsed": false
   },
   "outputs": [
    {
     "name": "stdout",
     "output_type": "stream",
     "text": [
      "NAME                  DESIRED   CURRENT   UP-TO-DATE   AVAILABLE   AGE\n",
      "kubernetes-bootcamp   2         3         2            1           1h\n"
     ]
    }
   ],
   "source": [
    "kubectl get deployments"
   ]
  },
  {
   "cell_type": "code",
   "execution_count": 16,
   "metadata": {
    "collapsed": false
   },
   "outputs": [
    {
     "name": "stdout",
     "output_type": "stream",
     "text": [
      "NAME                                   READY     STATUS             RESTARTS   AGE\n",
      "kubernetes-bootcamp-1951388213-nkp2j   0/1       ImagePullBackOff   0          28s\n",
      "kubernetes-bootcamp-1951388213-s5h5w   0/1       ImagePullBackOff   0          28s\n",
      "kubernetes-bootcamp-2100875782-bdvs5   1/1       Terminating        0          4m\n",
      "kubernetes-bootcamp-2100875782-gr22d   1/1       Running            0          4m\n"
     ]
    }
   ],
   "source": [
    "kubectl get pods"
   ]
  },
  {
   "cell_type": "code",
   "execution_count": 17,
   "metadata": {
    "collapsed": false
   },
   "outputs": [
    {
     "name": "stdout",
     "output_type": "stream",
     "text": [
      "deployment \"kubernetes-bootcamp\" rolled back\n"
     ]
    }
   ],
   "source": [
    "kubectl rollout undo deployments/kubernetes-bootcamp"
   ]
  },
  {
   "cell_type": "code",
   "execution_count": 18,
   "metadata": {
    "collapsed": false
   },
   "outputs": [
    {
     "name": "stdout",
     "output_type": "stream",
     "text": [
      "NAME                                   READY     STATUS        RESTARTS   AGE\n",
      "kubernetes-bootcamp-1951388213-nkp2j   0/1       Terminating   0          1m\n",
      "kubernetes-bootcamp-1951388213-s5h5w   0/1       Terminating   0          1m\n",
      "kubernetes-bootcamp-2100875782-gr22d   1/1       Running       0          5m\n",
      "kubernetes-bootcamp-2100875782-r0vhq   1/1       Running       0          14s\n"
     ]
    }
   ],
   "source": [
    "kubectl get pods"
   ]
  },
  {
   "cell_type": "code",
   "execution_count": null,
   "metadata": {
    "collapsed": true
   },
   "outputs": [],
   "source": []
  }
 ],
 "metadata": {
  "kernelspec": {
   "display_name": "Bash",
   "language": "bash",
   "name": "bash"
  },
  "language_info": {
   "codemirror_mode": "shell",
   "file_extension": ".sh",
   "mimetype": "text/x-sh",
   "name": "bash"
  }
 },
 "nbformat": 4,
 "nbformat_minor": 2
}

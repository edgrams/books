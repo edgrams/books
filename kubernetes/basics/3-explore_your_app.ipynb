{
 "cells": [
  {
   "cell_type": "code",
   "execution_count": 1,
   "metadata": {
    "collapsed": false
   },
   "outputs": [
    {
     "name": "stdout",
     "output_type": "stream",
     "text": [
      "NAME                                  READY     STATUS    RESTARTS   AGE\n",
      "kubernetes-bootcamp-390780338-gh361   1/1       Running   0          25m\n"
     ]
    }
   ],
   "source": [
    "kubectl get pods"
   ]
  },
  {
   "cell_type": "code",
   "execution_count": 2,
   "metadata": {
    "collapsed": false
   },
   "outputs": [
    {
     "name": "stdout",
     "output_type": "stream",
     "text": [
      "Name:\t\tkubernetes-bootcamp-390780338-gh361\n",
      "Namespace:\tdefault\n",
      "Node:\t\tminikube/192.168.42.241\n",
      "Start Time:\tSat, 04 Mar 2017 19:56:58 -0600\n",
      "Labels:\t\tpod-template-hash=390780338\n",
      "\t\trun=kubernetes-bootcamp\n",
      "Status:\t\tRunning\n",
      "IP:\t\t172.17.0.4\n",
      "Controllers:\tReplicaSet/kubernetes-bootcamp-390780338\n",
      "Containers:\n",
      "  kubernetes-bootcamp:\n",
      "    Container ID:\tdocker://813905dc67c6882061f309523b75fb70516fcb651918d84573e5a5027dd67520\n",
      "    Image:\t\tdocker.io/jocatalin/kubernetes-bootcamp:v1\n",
      "    Image ID:\t\tdocker://sha256:8fafd8af70e9aa7c3ab40222ca4fd58050cf3e49cb14a4e7c0f460cd4f78e9fe\n",
      "    Port:\t\t8080/TCP\n",
      "    State:\t\tRunning\n",
      "      Started:\t\tSat, 04 Mar 2017 19:58:43 -0600\n",
      "    Ready:\t\tTrue\n",
      "    Restart Count:\t0\n",
      "    Volume Mounts:\n",
      "      /var/run/secrets/kubernetes.io/serviceaccount from default-token-6jxcd (ro)\n",
      "    Environment Variables:\t<none>\n",
      "Conditions:\n",
      "  Type\t\tStatus\n",
      "  Initialized \tTrue \n",
      "  Ready \tTrue \n",
      "  PodScheduled \tTrue \n",
      "Volumes:\n",
      "  default-token-6jxcd:\n",
      "    Type:\tSecret (a volume populated by a Secret)\n",
      "    SecretName:\tdefault-token-6jxcd\n",
      "QoS Class:\tBestEffort\n",
      "Tolerations:\t<none>\n",
      "Events:\n",
      "  FirstSeen\tLastSeen\tCount\tFrom\t\t\tSubObjectPath\t\t\t\tType\t\tReason\t\tMessage\n",
      "  ---------\t--------\t-----\t----\t\t\t-------------\t\t\t\t--------\t------\t\t-------\n",
      "  26m\t\t26m\t\t1\t{default-scheduler }\t\t\t\t\t\tNormal\t\tScheduled\tSuccessfully assigned kubernetes-bootcamp-390780338-gh361 to minikube\n",
      "  26m\t\t26m\t\t1\t{kubelet minikube}\tspec.containers{kubernetes-bootcamp}\tNormal\t\tPulling\t\tpulling image \"docker.io/jocatalin/kubernetes-bootcamp:v1\"\n",
      "  25m\t\t25m\t\t1\t{kubelet minikube}\tspec.containers{kubernetes-bootcamp}\tNormal\t\tPulled\t\tSuccessfully pulled image \"docker.io/jocatalin/kubernetes-bootcamp:v1\"\n",
      "  25m\t\t25m\t\t1\t{kubelet minikube}\tspec.containers{kubernetes-bootcamp}\tNormal\t\tCreated\t\tCreated container with docker id 813905dc67c6; Security:[seccomp=unconfined]\n",
      "  25m\t\t25m\t\t1\t{kubelet minikube}\tspec.containers{kubernetes-bootcamp}\tNormal\t\tStarted\t\tStarted container with docker id 813905dc67c6\n"
     ]
    }
   ],
   "source": [
    "kubectl describe pods"
   ]
  },
  {
   "cell_type": "code",
   "execution_count": 23,
   "metadata": {
    "collapsed": false
   },
   "outputs": [
    {
     "name": "stdout",
     "output_type": "stream",
     "text": [
      "Starting to serve on 127.0.0.1:8001\r\n"
     ]
    }
   ],
   "source": [
    "kubectl proxy"
   ]
  },
  {
   "cell_type": "code",
   "execution_count": 19,
   "metadata": {
    "collapsed": true
   },
   "outputs": [],
   "source": [
    "export POD_NAME=$(kubectl get pods -o go-template --template '{{range .items}}{{.metadata.name}}{{\"\\n\"}}{{end}}')"
   ]
  },
  {
   "cell_type": "code",
   "execution_count": 20,
   "metadata": {
    "collapsed": false
   },
   "outputs": [
    {
     "name": "stdout",
     "output_type": "stream",
     "text": [
      "Name of the Pod: kubernetes-bootcamp-390780338-gh361\n"
     ]
    }
   ],
   "source": [
    "echo Name of the Pod: $POD_NAME"
   ]
  },
  {
   "cell_type": "code",
   "execution_count": 25,
   "metadata": {
    "collapsed": false
   },
   "outputs": [],
   "source": [
    "curl http://localhost:8001/api/v1/proxy/namespaces/default/pods/$POD_NAME"
   ]
  },
  {
   "cell_type": "code",
   "execution_count": 22,
   "metadata": {
    "collapsed": false
   },
   "outputs": [
    {
     "name": "stdout",
     "output_type": "stream",
     "text": [
      "Kubernetes Bootcamp App Started At: 2017-03-05T01:58:43.252Z | Running On:  kubernetes-bootcamp-390780338-gh361 \n",
      "\n"
     ]
    }
   ],
   "source": [
    "kubectl logs $POD_NAME"
   ]
  },
  {
   "cell_type": "code",
   "execution_count": 26,
   "metadata": {
    "collapsed": false
   },
   "outputs": [
    {
     "name": "stdout",
     "output_type": "stream",
     "text": [
      "PATH=/usr/local/sbin:/usr/local/bin:/usr/sbin:/usr/bin:/sbin:/bin\n",
      "HOSTNAME=kubernetes-bootcamp-390780338-gh361\n",
      "KUBERNETES_PORT_443_TCP=tcp://10.0.0.1:443\n",
      "KUBERNETES_PORT_443_TCP_PROTO=tcp\n",
      "KUBERNETES_PORT_443_TCP_PORT=443\n",
      "KUBERNETES_PORT_443_TCP_ADDR=10.0.0.1\n",
      "KUBERNETES_SERVICE_HOST=10.0.0.1\n",
      "KUBERNETES_SERVICE_PORT=443\n",
      "KUBERNETES_SERVICE_PORT_HTTPS=443\n",
      "KUBERNETES_PORT=tcp://10.0.0.1:443\n",
      "NPM_CONFIG_LOGLEVEL=info\n",
      "NODE_VERSION=6.3.1\n",
      "HOME=/root\n"
     ]
    }
   ],
   "source": [
    "kubectl exec $POD_NAME env"
   ]
  },
  {
   "cell_type": "markdown",
   "metadata": {},
   "source": [
    "This code should be ran inside a seperate shell!"
   ]
  },
  {
   "cell_type": "code",
   "execution_count": null,
   "metadata": {
    "collapsed": true
   },
   "outputs": [],
   "source": [
    "kubectl exec -ti $POD_NAME bash"
   ]
  },
  {
   "cell_type": "code",
   "execution_count": null,
   "metadata": {
    "collapsed": true
   },
   "outputs": [],
   "source": [
    "cat server.js"
   ]
  },
  {
   "cell_type": "code",
   "execution_count": null,
   "metadata": {
    "collapsed": true
   },
   "outputs": [],
   "source": [
    "curl localhost:8080"
   ]
  }
 ],
 "metadata": {
  "kernelspec": {
   "display_name": "Bash",
   "language": "bash",
   "name": "bash"
  },
  "language_info": {
   "codemirror_mode": "shell",
   "file_extension": ".sh",
   "mimetype": "text/x-sh",
   "name": "bash"
  }
 },
 "nbformat": 4,
 "nbformat_minor": 2
}

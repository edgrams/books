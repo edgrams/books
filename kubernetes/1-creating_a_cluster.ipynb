{
 "cells": [
  {
   "cell_type": "code",
   "execution_count": 1,
   "metadata": {
    "collapsed": false
   },
   "outputs": [
    {
     "name": "stdout",
     "output_type": "stream",
     "text": [
      "minikube version: v0.17.1\n"
     ]
    }
   ],
   "source": [
    "minikube version"
   ]
  },
  {
   "cell_type": "code",
   "execution_count": 6,
   "metadata": {
    "collapsed": false
   },
   "outputs": [
    {
     "name": "stdout",
     "output_type": "stream",
     "text": [
      "Deleting local Kubernetes cluster...\n",
      "Machine deleted.\n",
      "Starting local Kubernetes cluster...\n",
      "Starting VM...\n",
      "SSH-ing files into VM...\n",
      "Setting up certs...\n",
      "Starting cluster components...\n",
      "Connecting to cluster...\n",
      "Setting up kubeconfig...\n",
      "Kubectl is now configured to use the cluster.\n"
     ]
    }
   ],
   "source": [
    "minikube delete && minikube start --vm-driver=kvm"
   ]
  },
  {
   "cell_type": "code",
   "execution_count": 7,
   "metadata": {
    "collapsed": false
   },
   "outputs": [
    {
     "name": "stdout",
     "output_type": "stream",
     "text": [
      "Client Version: version.Info{Major:\"1\", Minor:\"5\", GitVersion:\"v1.5.3\", GitCommit:\"029c3a408176b55c30846f0faedf56aae5992e9b\", GitTreeState:\"clean\", BuildDate:\"2017-02-15T06:40:50Z\", GoVersion:\"go1.7.4\", Compiler:\"gc\", Platform:\"linux/amd64\"}\n",
      "Server Version: version.Info{Major:\"1\", Minor:\"5\", GitVersion:\"v1.5.3\", GitCommit:\"029c3a408176b55c30846f0faedf56aae5992e9b\", GitTreeState:\"clean\", BuildDate:\"1970-01-01T00:00:00Z\", GoVersion:\"go1.7.1\", Compiler:\"gc\", Platform:\"linux/amd64\"}\n"
     ]
    }
   ],
   "source": [
    "kubectl version"
   ]
  },
  {
   "cell_type": "code",
   "execution_count": 8,
   "metadata": {
    "collapsed": false
   },
   "outputs": [
    {
     "name": "stdout",
     "output_type": "stream",
     "text": [
      "\u001b[0;32mKubernetes master\u001b[0m is running at \u001b[0;33mhttps://192.168.42.241:8443\u001b[0m\n",
      "\u001b[0;32mKubeDNS\u001b[0m is running at \u001b[0;33mhttps://192.168.42.241:8443/api/v1/proxy/namespaces/kube-system/services/kube-dns\u001b[0m\n",
      "\u001b[0;32mkubernetes-dashboard\u001b[0m is running at \u001b[0;33mhttps://192.168.42.241:8443/api/v1/proxy/namespaces/kube-system/services/kubernetes-dashboard\u001b[0m\n",
      "\n",
      "To further debug and diagnose cluster problems, use 'kubectl cluster-info dump'.\n"
     ]
    }
   ],
   "source": [
    "kubectl cluster-info"
   ]
  },
  {
   "cell_type": "code",
   "execution_count": 9,
   "metadata": {
    "collapsed": false
   },
   "outputs": [
    {
     "name": "stdout",
     "output_type": "stream",
     "text": [
      "NAME       STATUS    AGE\n",
      "minikube   Ready     1h\n"
     ]
    }
   ],
   "source": [
    "kubectl get nodes"
   ]
  }
 ],
 "metadata": {
  "kernelspec": {
   "display_name": "Bash",
   "language": "bash",
   "name": "bash"
  },
  "language_info": {
   "codemirror_mode": "shell",
   "file_extension": ".sh",
   "mimetype": "text/x-sh",
   "name": "bash"
  }
 },
 "nbformat": 4,
 "nbformat_minor": 2
}

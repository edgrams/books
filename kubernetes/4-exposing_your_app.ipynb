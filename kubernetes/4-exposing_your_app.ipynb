{
 "cells": [
  {
   "cell_type": "code",
   "execution_count": 12,
   "metadata": {
    "collapsed": false
   },
   "outputs": [
    {
     "name": "stdout",
     "output_type": "stream",
     "text": [
      "NAME                                  READY     STATUS    RESTARTS   AGE\n",
      "kubernetes-bootcamp-390780338-gh361   1/1       Running   0          1h\n"
     ]
    }
   ],
   "source": [
    "kubectl get pods"
   ]
  },
  {
   "cell_type": "code",
   "execution_count": 2,
   "metadata": {
    "collapsed": false
   },
   "outputs": [
    {
     "name": "stdout",
     "output_type": "stream",
     "text": [
      "NAME         CLUSTER-IP   EXTERNAL-IP   PORT(S)   AGE\n",
      "kubernetes   10.0.0.1     <none>        443/TCP   2h\n"
     ]
    }
   ],
   "source": [
    "kubectl get services"
   ]
  },
  {
   "cell_type": "code",
   "execution_count": 3,
   "metadata": {
    "collapsed": false
   },
   "outputs": [
    {
     "name": "stdout",
     "output_type": "stream",
     "text": [
      "service \"kubernetes-bootcamp\" exposed\n"
     ]
    }
   ],
   "source": [
    "kubectl expose deployment/kubernetes-bootcamp --type=\"NodePort\" --port 8080"
   ]
  },
  {
   "cell_type": "code",
   "execution_count": 4,
   "metadata": {
    "collapsed": false
   },
   "outputs": [
    {
     "name": "stdout",
     "output_type": "stream",
     "text": [
      "NAME                  CLUSTER-IP   EXTERNAL-IP   PORT(S)          AGE\n",
      "kubernetes            10.0.0.1     <none>        443/TCP          2h\n",
      "kubernetes-bootcamp   10.0.0.104   <nodes>       8080:31414/TCP   11s\n"
     ]
    }
   ],
   "source": [
    "kubectl get services"
   ]
  },
  {
   "cell_type": "code",
   "execution_count": 11,
   "metadata": {
    "collapsed": false
   },
   "outputs": [
    {
     "name": "stdout",
     "output_type": "stream",
     "text": [
      "Name:\t\t\tkubernetes-bootcamp\n",
      "Namespace:\t\tdefault\n",
      "Labels:\t\t\trun=kubernetes-bootcamp\n",
      "Selector:\t\trun=kubernetes-bootcamp\n",
      "Type:\t\t\tNodePort\n",
      "IP:\t\t\t10.0.0.104\n",
      "Port:\t\t\t<unset>\t8080/TCP\n",
      "NodePort:\t\t<unset>\t31414/TCP\n",
      "Endpoints:\t\t172.17.0.4:8080\n",
      "Session Affinity:\tNone\n",
      "No events.\n"
     ]
    }
   ],
   "source": [
    "kubectl describe services/kubernetes-bootcamp"
   ]
  },
  {
   "cell_type": "code",
   "execution_count": 6,
   "metadata": {
    "collapsed": true
   },
   "outputs": [],
   "source": [
    "export NODE_PORT=$(kubectl get services/kubernetes-bootcamp -o go-template='{{(index .spec.ports 0).nodePort}}')"
   ]
  },
  {
   "cell_type": "code",
   "execution_count": 13,
   "metadata": {
    "collapsed": false
   },
   "outputs": [
    {
     "name": "stdout",
     "output_type": "stream",
     "text": [
      "NODE_PORT=31414\n"
     ]
    }
   ],
   "source": [
    "echo NODE_PORT=$NODE_PORT"
   ]
  },
  {
   "cell_type": "code",
   "execution_count": 17,
   "metadata": {
    "collapsed": false
   },
   "outputs": [
    {
     "name": "stdout",
     "output_type": "stream",
     "text": [
      "Hello Kubernetes bootcamp! | Running on: kubernetes-bootcamp-390780338-gh361 | v=1\n"
     ]
    }
   ],
   "source": [
    "curl http://$(minikube ip):$NODE_PORT"
   ]
  },
  {
   "cell_type": "code",
   "execution_count": 18,
   "metadata": {
    "collapsed": false
   },
   "outputs": [
    {
     "name": "stdout",
     "output_type": "stream",
     "text": [
      "Name:\t\t\tkubernetes-bootcamp\n",
      "Namespace:\t\tdefault\n",
      "CreationTimestamp:\tSat, 04 Mar 2017 19:56:58 -0600\n",
      "Labels:\t\t\trun=kubernetes-bootcamp\n",
      "Selector:\t\trun=kubernetes-bootcamp\n",
      "Replicas:\t\t1 updated | 1 total | 1 available | 0 unavailable\n",
      "StrategyType:\t\tRollingUpdate\n",
      "MinReadySeconds:\t0\n",
      "RollingUpdateStrategy:\t1 max unavailable, 1 max surge\n",
      "Conditions:\n",
      "  Type\t\tStatus\tReason\n",
      "  ----\t\t------\t------\n",
      "  Available \tTrue\tMinimumReplicasAvailable\n",
      "OldReplicaSets:\t<none>\n",
      "NewReplicaSet:\tkubernetes-bootcamp-390780338 (1/1 replicas created)\n",
      "No events.\n"
     ]
    }
   ],
   "source": [
    "kubectl describe deployment"
   ]
  },
  {
   "cell_type": "code",
   "execution_count": 19,
   "metadata": {
    "collapsed": false
   },
   "outputs": [
    {
     "name": "stdout",
     "output_type": "stream",
     "text": [
      "NAME                                  READY     STATUS    RESTARTS   AGE\n",
      "kubernetes-bootcamp-390780338-gh361   1/1       Running   0          1h\n"
     ]
    }
   ],
   "source": [
    "kubectl get pods -l run=kubernetes-bootcamp"
   ]
  },
  {
   "cell_type": "code",
   "execution_count": 20,
   "metadata": {
    "collapsed": false
   },
   "outputs": [
    {
     "name": "stdout",
     "output_type": "stream",
     "text": [
      "NAME                  CLUSTER-IP   EXTERNAL-IP   PORT(S)          AGE\n",
      "kubernetes-bootcamp   10.0.0.104   <nodes>       8080:31414/TCP   17m\n"
     ]
    }
   ],
   "source": [
    "kubectl get services -l run=kubernetes-bootcamp"
   ]
  },
  {
   "cell_type": "code",
   "execution_count": 21,
   "metadata": {
    "collapsed": true
   },
   "outputs": [],
   "source": [
    "export POD_NAME=$(kubectl get pods -o go-template --template '{{range .items}}{{.metadata.name}}{{\"\\n\"}}{{end}}')"
   ]
  },
  {
   "cell_type": "code",
   "execution_count": 22,
   "metadata": {
    "collapsed": false
   },
   "outputs": [
    {
     "name": "stdout",
     "output_type": "stream",
     "text": [
      "Name of the Pod: kubernetes-bootcamp-390780338-gh361\n"
     ]
    }
   ],
   "source": [
    "echo Name of the Pod: $POD_NAME"
   ]
  },
  {
   "cell_type": "code",
   "execution_count": 23,
   "metadata": {
    "collapsed": false
   },
   "outputs": [
    {
     "name": "stdout",
     "output_type": "stream",
     "text": [
      "pod \"kubernetes-bootcamp-390780338-gh361\" labeled\n"
     ]
    }
   ],
   "source": [
    "kubectl label pod $POD_NAME app=v1"
   ]
  },
  {
   "cell_type": "code",
   "execution_count": 24,
   "metadata": {
    "collapsed": false
   },
   "outputs": [
    {
     "name": "stdout",
     "output_type": "stream",
     "text": [
      "Name:\t\tkubernetes-bootcamp-390780338-gh361\n",
      "Namespace:\tdefault\n",
      "Node:\t\tminikube/192.168.42.241\n",
      "Start Time:\tSat, 04 Mar 2017 19:56:58 -0600\n",
      "Labels:\t\tapp=v1\n",
      "\t\tpod-template-hash=390780338\n",
      "\t\trun=kubernetes-bootcamp\n",
      "Status:\t\tRunning\n",
      "IP:\t\t172.17.0.4\n",
      "Controllers:\tReplicaSet/kubernetes-bootcamp-390780338\n",
      "Containers:\n",
      "  kubernetes-bootcamp:\n",
      "    Container ID:\tdocker://813905dc67c6882061f309523b75fb70516fcb651918d84573e5a5027dd67520\n",
      "    Image:\t\tdocker.io/jocatalin/kubernetes-bootcamp:v1\n",
      "    Image ID:\t\tdocker://sha256:8fafd8af70e9aa7c3ab40222ca4fd58050cf3e49cb14a4e7c0f460cd4f78e9fe\n",
      "    Port:\t\t8080/TCP\n",
      "    State:\t\tRunning\n",
      "      Started:\t\tSat, 04 Mar 2017 19:58:43 -0600\n",
      "    Ready:\t\tTrue\n",
      "    Restart Count:\t0\n",
      "    Volume Mounts:\n",
      "      /var/run/secrets/kubernetes.io/serviceaccount from default-token-6jxcd (ro)\n",
      "    Environment Variables:\t<none>\n",
      "Conditions:\n",
      "  Type\t\tStatus\n",
      "  Initialized \tTrue \n",
      "  Ready \tTrue \n",
      "  PodScheduled \tTrue \n",
      "Volumes:\n",
      "  default-token-6jxcd:\n",
      "    Type:\tSecret (a volume populated by a Secret)\n",
      "    SecretName:\tdefault-token-6jxcd\n",
      "QoS Class:\tBestEffort\n",
      "Tolerations:\t<none>\n",
      "No events.\n"
     ]
    }
   ],
   "source": [
    "kubectl describe pods $POD_NAME"
   ]
  },
  {
   "cell_type": "code",
   "execution_count": 25,
   "metadata": {
    "collapsed": false
   },
   "outputs": [
    {
     "name": "stdout",
     "output_type": "stream",
     "text": [
      "NAME                                  READY     STATUS    RESTARTS   AGE\n",
      "kubernetes-bootcamp-390780338-gh361   1/1       Running   0          1h\n"
     ]
    }
   ],
   "source": [
    "kubectl get pods -l app=v1"
   ]
  },
  {
   "cell_type": "code",
   "execution_count": 26,
   "metadata": {
    "collapsed": false
   },
   "outputs": [
    {
     "name": "stdout",
     "output_type": "stream",
     "text": [
      "service \"kubernetes-bootcamp\" deleted\n"
     ]
    }
   ],
   "source": [
    "kubectl delete service -l run=kubernetes-bootcamp"
   ]
  },
  {
   "cell_type": "code",
   "execution_count": 27,
   "metadata": {
    "collapsed": false
   },
   "outputs": [
    {
     "name": "stdout",
     "output_type": "stream",
     "text": [
      "NAME         CLUSTER-IP   EXTERNAL-IP   PORT(S)   AGE\n",
      "kubernetes   10.0.0.1     <none>        443/TCP   2h\n"
     ]
    }
   ],
   "source": [
    "kubectl get services"
   ]
  },
  {
   "cell_type": "code",
   "execution_count": 28,
   "metadata": {
    "collapsed": false
   },
   "outputs": [
    {
     "name": "stdout",
     "output_type": "stream",
     "text": [
      "curl: (7) Failed to connect to 192.168.42.241 port 31414: Connection refused\n"
     ]
    },
    {
     "ename": "",
     "evalue": "7",
     "output_type": "error",
     "traceback": []
    }
   ],
   "source": [
    "curl http://$(minikube ip):$NODE_PORT"
   ]
  },
  {
   "cell_type": "code",
   "execution_count": 29,
   "metadata": {
    "collapsed": false
   },
   "outputs": [
    {
     "name": "stdout",
     "output_type": "stream",
     "text": [
      "Hello Kubernetes bootcamp! | Running on: kubernetes-bootcamp-390780338-gh361 | v=1\n"
     ]
    }
   ],
   "source": [
    "kubectl exec -ti $POD_NAME curl localhost:8080"
   ]
  },
  {
   "cell_type": "code",
   "execution_count": null,
   "metadata": {
    "collapsed": true
   },
   "outputs": [],
   "source": []
  }
 ],
 "metadata": {
  "kernelspec": {
   "display_name": "Bash",
   "language": "bash",
   "name": "bash"
  },
  "language_info": {
   "codemirror_mode": "shell",
   "file_extension": ".sh",
   "mimetype": "text/x-sh",
   "name": "bash"
  }
 },
 "nbformat": 4,
 "nbformat_minor": 2
}

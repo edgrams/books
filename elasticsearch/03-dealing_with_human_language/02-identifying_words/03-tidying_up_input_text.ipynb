{
 "cells": [
  {
   "cell_type": "markdown",
   "metadata": {},
   "source": [
    "cleaning up text before tokenizer will produce the best results"
   ]
  },
  {
   "cell_type": "markdown",
   "metadata": {},
   "source": [
    "passing HTML as text produces chaos"
   ]
  },
  {
   "cell_type": "code",
   "execution_count": 2,
   "metadata": {
    "collapsed": false
   },
   "outputs": [
    {
     "name": "stdout",
     "output_type": "stream",
     "text": [
      "{\n",
      "  \"tokens\" : [\n",
      "    {\n",
      "      \"token\" : \"p\",\n",
      "      \"start_offset\" : 1,\n",
      "      \"end_offset\" : 2,\n",
      "      \"type\" : \"<ALPHANUM>\",\n",
      "      \"position\" : 0\n",
      "    },\n",
      "    {\n",
      "      \"token\" : \"Some\",\n",
      "      \"start_offset\" : 3,\n",
      "      \"end_offset\" : 7,\n",
      "      \"type\" : \"<ALPHANUM>\",\n",
      "      \"position\" : 1\n",
      "    },\n",
      "    {\n",
      "      \"token\" : \"d\",\n",
      "      \"start_offset\" : 8,\n",
      "      \"end_offset\" : 9,\n",
      "      \"type\" : \"<ALPHANUM>\",\n",
      "      \"position\" : 2\n",
      "    },\n",
      "    {\n",
      "      \"token\" : \"eacute\",\n",
      "      \"start_offset\" : 10,\n",
      "      \"end_offset\" : 16,\n",
      "      \"type\" : \"<ALPHANUM>\",\n",
      "      \"position\" : 3\n",
      "    },\n",
      "    {\n",
      "      \"token\" : \"j\",\n",
      "      \"start_offset\" : 17,\n",
      "      \"end_offset\" : 18,\n",
      "      \"type\" : \"<ALPHANUM>\",\n",
      "      \"position\" : 4\n",
      "    },\n",
      "    {\n",
      "      \"token\" : \"agrave\",\n",
      "      \"start_offset\" : 19,\n",
      "      \"end_offset\" : 25,\n",
      "      \"type\" : \"<ALPHANUM>\",\n",
      "      \"position\" : 5\n",
      "    },\n",
      "    {\n",
      "      \"token\" : \"vu\",\n",
      "      \"start_offset\" : 27,\n",
      "      \"end_offset\" : 29,\n",
      "      \"type\" : \"<ALPHANUM>\",\n",
      "      \"position\" : 6\n",
      "    },\n",
      "    {\n",
      "      \"token\" : \"a\",\n",
      "      \"start_offset\" : 31,\n",
      "      \"end_offset\" : 32,\n",
      "      \"type\" : \"<ALPHANUM>\",\n",
      "      \"position\" : 7\n",
      "    },\n",
      "    {\n",
      "      \"token\" : \"href\",\n",
      "      \"start_offset\" : 33,\n",
      "      \"end_offset\" : 37,\n",
      "      \"type\" : \"<ALPHANUM>\",\n",
      "      \"position\" : 8\n",
      "    },\n",
      "    {\n",
      "      \"token\" : \"http\",\n",
      "      \"start_offset\" : 39,\n",
      "      \"end_offset\" : 43,\n",
      "      \"type\" : \"<ALPHANUM>\",\n",
      "      \"position\" : 9\n",
      "    },\n",
      "    {\n",
      "      \"token\" : \"somedomain.com\",\n",
      "      \"start_offset\" : 46,\n",
      "      \"end_offset\" : 60,\n",
      "      \"type\" : \"<ALPHANUM>\",\n",
      "      \"position\" : 10\n",
      "    },\n",
      "    {\n",
      "      \"token\" : \"website\",\n",
      "      \"start_offset\" : 63,\n",
      "      \"end_offset\" : 70,\n",
      "      \"type\" : \"<ALPHANUM>\",\n",
      "      \"position\" : 11\n",
      "    },\n",
      "    {\n",
      "      \"token\" : \"a\",\n",
      "      \"start_offset\" : 72,\n",
      "      \"end_offset\" : 73,\n",
      "      \"type\" : \"<ALPHANUM>\",\n",
      "      \"position\" : 12\n",
      "    }\n",
      "  ]\n",
      "}\n"
     ]
    }
   ],
   "source": [
    "curl -XGET 'localhost:9200/_analyze?tokenizer=standard&pretty' -H 'Content-Type: application/json' -d'\n",
    "{\n",
    "  \"text\": \"<p>Some d&eacute;j&agrave; vu <a href=\\\"http://somedomain.com>\\\">website</a>\" \n",
    "}\n",
    "'"
   ]
  },
  {
   "cell_type": "markdown",
   "metadata": {},
   "source": [
    "character filters can be used to preprocess text before it is analyzed. Use html filter in this example"
   ]
  },
  {
   "cell_type": "code",
   "execution_count": 17,
   "metadata": {
    "collapsed": false
   },
   "outputs": [
    {
     "name": "stdout",
     "output_type": "stream",
     "text": [
      "{\"acknowledged\":true}"
     ]
    }
   ],
   "source": [
    "curl -XDELETE 'localhost:9200/my_index'"
   ]
  },
  {
   "cell_type": "code",
   "execution_count": 18,
   "metadata": {
    "collapsed": false
   },
   "outputs": [
    {
     "name": "stdout",
     "output_type": "stream",
     "text": [
      "{\n",
      "  \"acknowledged\" : true,\n",
      "  \"shards_acknowledged\" : true\n",
      "}\n"
     ]
    }
   ],
   "source": [
    "curl -XPUT 'localhost:9200/my_index?pretty' -H 'Content-Type: application/json' -d'\n",
    "{\n",
    "    \"settings\": {\n",
    "        \"analysis\": {\n",
    "            \"analyzer\": {\n",
    "                \"my_html_analyzer\": {\n",
    "                    \"tokenizer\":     \"standard\",\n",
    "                    \"char_filter\": [ \"html_strip\" ]\n",
    "                }\n",
    "            }\n",
    "        }\n",
    "    }\n",
    "}\n",
    "'"
   ]
  },
  {
   "cell_type": "code",
   "execution_count": 20,
   "metadata": {
    "collapsed": false
   },
   "outputs": [
    {
     "name": "stdout",
     "output_type": "stream",
     "text": [
      "{\n",
      "  \"tokens\" : [\n",
      "    {\n",
      "      \"token\" : \"Some\",\n",
      "      \"start_offset\" : 3,\n",
      "      \"end_offset\" : 7,\n",
      "      \"type\" : \"<ALPHANUM>\",\n",
      "      \"position\" : 0\n",
      "    },\n",
      "    {\n",
      "      \"token\" : \"déjà\",\n",
      "      \"start_offset\" : 8,\n",
      "      \"end_offset\" : 26,\n",
      "      \"type\" : \"<ALPHANUM>\",\n",
      "      \"position\" : 1\n",
      "    },\n",
      "    {\n",
      "      \"token\" : \"vu\",\n",
      "      \"start_offset\" : 27,\n",
      "      \"end_offset\" : 29,\n",
      "      \"type\" : \"<ALPHANUM>\",\n",
      "      \"position\" : 2\n",
      "    },\n",
      "    {\n",
      "      \"token\" : \"website\",\n",
      "      \"start_offset\" : 63,\n",
      "      \"end_offset\" : 74,\n",
      "      \"type\" : \"<ALPHANUM>\",\n",
      "      \"position\" : 3\n",
      "    }\n",
      "  ]\n",
      "}\n"
     ]
    }
   ],
   "source": [
    "curl -XGET 'localhost:9200/my_index/_analyze?pretty' -H 'Content-Type: application/json' -d'\n",
    "{\n",
    "  \"analyzer\": \"my_html_analyzer\",\n",
    "  \"text\": \"<p>Some d&eacute;j&agrave; vu <a href=\\\"http://somedomain.com>\\\">website</a>\"  \n",
    "}\n",
    "'"
   ]
  },
  {
   "cell_type": "markdown",
   "metadata": {},
   "source": [
    "sometimes you'll want to map characters (in the case of special apostrophe characters) to a specific character. Use a custom char filter"
   ]
  },
  {
   "cell_type": "code",
   "execution_count": 21,
   "metadata": {
    "collapsed": false
   },
   "outputs": [
    {
     "name": "stdout",
     "output_type": "stream",
     "text": [
      "{\"acknowledged\":true}"
     ]
    }
   ],
   "source": [
    "curl -XDELETE 'localhost:9200/my_index'"
   ]
  },
  {
   "cell_type": "code",
   "execution_count": 22,
   "metadata": {
    "collapsed": false
   },
   "outputs": [
    {
     "name": "stdout",
     "output_type": "stream",
     "text": [
      "{\n",
      "  \"acknowledged\" : true,\n",
      "  \"shards_acknowledged\" : true\n",
      "}\n"
     ]
    }
   ],
   "source": [
    "curl -XPUT 'localhost:9200/my_index?pretty' -H 'Content-Type: application/json' -d'\n",
    "{\n",
    "  \"settings\": {\n",
    "    \"analysis\": {\n",
    "      \"char_filter\": { \n",
    "        \"quotes\": {\n",
    "          \"type\": \"mapping\",\n",
    "          \"mappings\": [ \n",
    "            \"\\\\u0091=>\\\\u0027\",\n",
    "            \"\\\\u0092=>\\\\u0027\",\n",
    "            \"\\\\u2018=>\\\\u0027\",\n",
    "            \"\\\\u2019=>\\\\u0027\",\n",
    "            \"\\\\u201B=>\\\\u0027\"\n",
    "          ]\n",
    "        }\n",
    "      },\n",
    "      \"analyzer\": {\n",
    "        \"quotes_analyzer\": {\n",
    "          \"tokenizer\":     \"standard\",\n",
    "          \"char_filter\": [ \"quotes\" ] \n",
    "        }\n",
    "      }\n",
    "    }\n",
    "  }\n",
    "}\n",
    "'"
   ]
  },
  {
   "cell_type": "code",
   "execution_count": 23,
   "metadata": {
    "collapsed": false
   },
   "outputs": [
    {
     "name": "stdout",
     "output_type": "stream",
     "text": [
      "{\n",
      "  \"tokens\" : [\n",
      "    {\n",
      "      \"token\" : \"You're\",\n",
      "      \"start_offset\" : 0,\n",
      "      \"end_offset\" : 6,\n",
      "      \"type\" : \"<ALPHANUM>\",\n",
      "      \"position\" : 0\n",
      "    },\n",
      "    {\n",
      "      \"token\" : \"my\",\n",
      "      \"start_offset\" : 7,\n",
      "      \"end_offset\" : 9,\n",
      "      \"type\" : \"<ALPHANUM>\",\n",
      "      \"position\" : 1\n",
      "    },\n",
      "    {\n",
      "      \"token\" : \"favorite\",\n",
      "      \"start_offset\" : 11,\n",
      "      \"end_offset\" : 19,\n",
      "      \"type\" : \"<ALPHANUM>\",\n",
      "      \"position\" : 2\n",
      "    },\n",
      "    {\n",
      "      \"token\" : \"M'Coy\",\n",
      "      \"start_offset\" : 21,\n",
      "      \"end_offset\" : 26,\n",
      "      \"type\" : \"<ALPHANUM>\",\n",
      "      \"position\" : 3\n",
      "    }\n",
      "  ]\n",
      "}\n"
     ]
    }
   ],
   "source": [
    "curl -XGET 'localhost:9200/my_index/_analyze?pretty' -H 'Content-Type: application/json' -d'\n",
    "{\n",
    "  \"analyzer\": \"quotes_analyzer\",\n",
    "  \"text\": \"You’re my ‘favorite’ M‛Coy\"  \n",
    "}\n",
    "'"
   ]
  },
  {
   "cell_type": "code",
   "execution_count": null,
   "metadata": {
    "collapsed": true
   },
   "outputs": [],
   "source": []
  }
 ],
 "metadata": {
  "kernelspec": {
   "display_name": "Bash",
   "language": "bash",
   "name": "bash"
  },
  "language_info": {
   "codemirror_mode": "shell",
   "file_extension": ".sh",
   "mimetype": "text/x-sh",
   "name": "bash"
  }
 },
 "nbformat": 4,
 "nbformat_minor": 2
}

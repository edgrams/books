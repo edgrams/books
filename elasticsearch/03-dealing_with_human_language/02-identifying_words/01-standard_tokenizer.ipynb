{
 "cells": [
  {
   "cell_type": "markdown",
   "metadata": {},
   "source": [
    "whitespace tokenizer"
   ]
  },
  {
   "cell_type": "code",
   "execution_count": 6,
   "metadata": {
    "collapsed": false
   },
   "outputs": [
    {
     "name": "stdout",
     "output_type": "stream",
     "text": [
      "{\n",
      "  \"tokens\" : [\n",
      "    {\n",
      "      \"token\" : \"You're\",\n",
      "      \"start_offset\" : 0,\n",
      "      \"end_offset\" : 6,\n",
      "      \"type\" : \"word\",\n",
      "      \"position\" : 0\n",
      "    },\n",
      "    {\n",
      "      \"token\" : \"the\",\n",
      "      \"start_offset\" : 7,\n",
      "      \"end_offset\" : 10,\n",
      "      \"type\" : \"word\",\n",
      "      \"position\" : 1\n",
      "    },\n",
      "    {\n",
      "      \"token\" : \"1st\",\n",
      "      \"start_offset\" : 11,\n",
      "      \"end_offset\" : 14,\n",
      "      \"type\" : \"word\",\n",
      "      \"position\" : 2\n",
      "    },\n",
      "    {\n",
      "      \"token\" : \"runner\",\n",
      "      \"start_offset\" : 15,\n",
      "      \"end_offset\" : 21,\n",
      "      \"type\" : \"word\",\n",
      "      \"position\" : 3\n",
      "    },\n",
      "    {\n",
      "      \"token\" : \"home!\",\n",
      "      \"start_offset\" : 22,\n",
      "      \"end_offset\" : 27,\n",
      "      \"type\" : \"word\",\n",
      "      \"position\" : 4\n",
      "    }\n",
      "  ]\n",
      "}\n"
     ]
    }
   ],
   "source": [
    "curl -XGET 'localhost:9200/_analyze?tokenizer=whitespace&pretty' -H 'Content-Type: application/json' -d'\n",
    "{\n",
    "  \"text\": \"You'\\''re the 1st runner home!\" \n",
    "}\n",
    "'"
   ]
  },
  {
   "cell_type": "markdown",
   "metadata": {},
   "source": [
    "letter breaks up by any letter that is not a character"
   ]
  },
  {
   "cell_type": "code",
   "execution_count": 7,
   "metadata": {
    "collapsed": false
   },
   "outputs": [
    {
     "name": "stdout",
     "output_type": "stream",
     "text": [
      "{\n",
      "  \"tokens\" : [\n",
      "    {\n",
      "      \"token\" : \"You\",\n",
      "      \"start_offset\" : 0,\n",
      "      \"end_offset\" : 3,\n",
      "      \"type\" : \"word\",\n",
      "      \"position\" : 0\n",
      "    },\n",
      "    {\n",
      "      \"token\" : \"re\",\n",
      "      \"start_offset\" : 4,\n",
      "      \"end_offset\" : 6,\n",
      "      \"type\" : \"word\",\n",
      "      \"position\" : 1\n",
      "    },\n",
      "    {\n",
      "      \"token\" : \"the\",\n",
      "      \"start_offset\" : 7,\n",
      "      \"end_offset\" : 10,\n",
      "      \"type\" : \"word\",\n",
      "      \"position\" : 2\n",
      "    },\n",
      "    {\n",
      "      \"token\" : \"st\",\n",
      "      \"start_offset\" : 12,\n",
      "      \"end_offset\" : 14,\n",
      "      \"type\" : \"word\",\n",
      "      \"position\" : 3\n",
      "    },\n",
      "    {\n",
      "      \"token\" : \"runner\",\n",
      "      \"start_offset\" : 15,\n",
      "      \"end_offset\" : 21,\n",
      "      \"type\" : \"word\",\n",
      "      \"position\" : 4\n",
      "    },\n",
      "    {\n",
      "      \"token\" : \"home\",\n",
      "      \"start_offset\" : 22,\n",
      "      \"end_offset\" : 26,\n",
      "      \"type\" : \"word\",\n",
      "      \"position\" : 5\n",
      "    }\n",
      "  ]\n",
      "}\n"
     ]
    }
   ],
   "source": [
    "curl -XGET 'localhost:9200/_analyze?tokenizer=letter&pretty' -H 'Content-Type: application/json' -d'\n",
    "{\n",
    "  \"text\": \"You'\\''re the 1st runner home!\" \n",
    "}\n",
    "'"
   ]
  },
  {
   "cell_type": "markdown",
   "metadata": {},
   "source": [
    "the standard tokenizer finds the boundaries between words"
   ]
  },
  {
   "cell_type": "code",
   "execution_count": 8,
   "metadata": {
    "collapsed": false
   },
   "outputs": [
    {
     "name": "stdout",
     "output_type": "stream",
     "text": [
      "{\n",
      "  \"tokens\" : [\n",
      "    {\n",
      "      \"token\" : \"You're\",\n",
      "      \"start_offset\" : 0,\n",
      "      \"end_offset\" : 6,\n",
      "      \"type\" : \"<ALPHANUM>\",\n",
      "      \"position\" : 0\n",
      "    },\n",
      "    {\n",
      "      \"token\" : \"the\",\n",
      "      \"start_offset\" : 7,\n",
      "      \"end_offset\" : 10,\n",
      "      \"type\" : \"<ALPHANUM>\",\n",
      "      \"position\" : 1\n",
      "    },\n",
      "    {\n",
      "      \"token\" : \"1st\",\n",
      "      \"start_offset\" : 11,\n",
      "      \"end_offset\" : 14,\n",
      "      \"type\" : \"<ALPHANUM>\",\n",
      "      \"position\" : 2\n",
      "    },\n",
      "    {\n",
      "      \"token\" : \"runner\",\n",
      "      \"start_offset\" : 15,\n",
      "      \"end_offset\" : 21,\n",
      "      \"type\" : \"<ALPHANUM>\",\n",
      "      \"position\" : 3\n",
      "    },\n",
      "    {\n",
      "      \"token\" : \"home\",\n",
      "      \"start_offset\" : 22,\n",
      "      \"end_offset\" : 26,\n",
      "      \"type\" : \"<ALPHANUM>\",\n",
      "      \"position\" : 4\n",
      "    }\n",
      "  ]\n",
      "}\n"
     ]
    }
   ],
   "source": [
    "curl -XGET 'localhost:9200/_analyze?tokenizer=standard&pretty' -H 'Content-Type: application/json' -d'\n",
    "{\n",
    "  \"text\": \"You'\\''re the 1st runner home!\" \n",
    "}\n",
    "'"
   ]
  },
  {
   "cell_type": "markdown",
   "metadata": {},
   "source": [
    "punctuation may or may not be considered part of a word"
   ]
  },
  {
   "cell_type": "code",
   "execution_count": 9,
   "metadata": {
    "collapsed": false
   },
   "outputs": [
    {
     "name": "stdout",
     "output_type": "stream",
     "text": [
      "{\n",
      "  \"tokens\" : [\n",
      "    {\n",
      "      \"token\" : \"You're\",\n",
      "      \"start_offset\" : 0,\n",
      "      \"end_offset\" : 6,\n",
      "      \"type\" : \"<ALPHANUM>\",\n",
      "      \"position\" : 0\n",
      "    },\n",
      "    {\n",
      "      \"token\" : \"my\",\n",
      "      \"start_offset\" : 7,\n",
      "      \"end_offset\" : 9,\n",
      "      \"type\" : \"<ALPHANUM>\",\n",
      "      \"position\" : 1\n",
      "    },\n",
      "    {\n",
      "      \"token\" : \"favorite\",\n",
      "      \"start_offset\" : 11,\n",
      "      \"end_offset\" : 19,\n",
      "      \"type\" : \"<ALPHANUM>\",\n",
      "      \"position\" : 2\n",
      "    }\n",
      "  ]\n",
      "}\n"
     ]
    }
   ],
   "source": [
    "curl -XGET 'localhost:9200/_analyze?tokenizer=standard&pretty' -H 'Content-Type: application/json' -d'\n",
    "{\n",
    "  \"text\": \"You'\\''re my '\\''favorite'\\''\" \n",
    "}\n",
    "'"
   ]
  },
  {
   "cell_type": "code",
   "execution_count": null,
   "metadata": {
    "collapsed": true
   },
   "outputs": [],
   "source": []
  }
 ],
 "metadata": {
  "kernelspec": {
   "display_name": "Bash",
   "language": "bash",
   "name": "bash"
  },
  "language_info": {
   "codemirror_mode": "shell",
   "file_extension": ".sh",
   "mimetype": "text/x-sh",
   "name": "bash"
  }
 },
 "nbformat": 4,
 "nbformat_minor": 2
}

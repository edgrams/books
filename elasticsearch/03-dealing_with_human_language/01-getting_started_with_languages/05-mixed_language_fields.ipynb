{
 "cells": [
  {
   "cell_type": "markdown",
   "metadata": {},
   "source": [
    "analyze the text once per language using multi-fields"
   ]
  },
  {
   "cell_type": "code",
   "execution_count": 3,
   "metadata": {
    "collapsed": false
   },
   "outputs": [
    {
     "name": "stdout",
     "output_type": "stream",
     "text": [
      "{\n",
      "  \"acknowledged\" : true\n",
      "}\n"
     ]
    }
   ],
   "source": [
    "curl -XDELETE 'localhost:9200/movies?pretty'"
   ]
  },
  {
   "cell_type": "code",
   "execution_count": 2,
   "metadata": {
    "collapsed": false
   },
   "outputs": [
    {
     "name": "stdout",
     "output_type": "stream",
     "text": [
      "{\n",
      "  \"acknowledged\" : true,\n",
      "  \"shards_acknowledged\" : true\n",
      "}\n"
     ]
    }
   ],
   "source": [
    "curl -XPUT 'localhost:9200/movies?pretty' -H 'Content-Type: application/json' -d'\n",
    "{\n",
    "  \"mappings\": {\n",
    "    \"title\": {\n",
    "      \"properties\": {\n",
    "        \"title\": { \n",
    "          \"type\": \"string\",\n",
    "          \"fields\": {\n",
    "            \"de\": { \n",
    "              \"type\":     \"string\",\n",
    "              \"analyzer\": \"german\"\n",
    "            },\n",
    "            \"en\": { \n",
    "              \"type\":     \"string\",\n",
    "              \"analyzer\": \"english\"\n",
    "            },\n",
    "            \"fr\": { \n",
    "              \"type\":     \"string\",\n",
    "              \"analyzer\": \"french\"\n",
    "            },\n",
    "            \"es\": { \n",
    "              \"type\":     \"string\",\n",
    "              \"analyzer\": \"spanish\"\n",
    "            }\n",
    "          }\n",
    "        }\n",
    "      }\n",
    "    }\n",
    "  }\n",
    "}\n",
    "'"
   ]
  },
  {
   "cell_type": "markdown",
   "metadata": {},
   "source": [
    "use n-grams (example). Use a tri-grams analyzer in the settings section"
   ]
  },
  {
   "cell_type": "code",
   "execution_count": null,
   "metadata": {
    "collapsed": true
   },
   "outputs": [],
   "source": [
    "curl -XPUT 'localhost:9200/movies?pretty' -H 'Content-Type: application/json' -d'\n",
    "{\n",
    "  \"settings\": {\n",
    "    \"analysis\": {...} \n",
    "  },\n",
    "  \"mappings\": {\n",
    "    \"title\": {\n",
    "      \"properties\": {\n",
    "        \"title\": {\n",
    "          \"type\": \"string\",\n",
    "          \"fields\": {\n",
    "            \"de\": {\n",
    "              \"type\":     \"string\",\n",
    "              \"analyzer\": \"german\"\n",
    "            },\n",
    "            \"en\": {\n",
    "              \"type\":     \"string\",\n",
    "              \"analyzer\": \"english\"\n",
    "            },\n",
    "            \"fr\": {\n",
    "              \"type\":     \"string\",\n",
    "              \"analyzer\": \"french\"\n",
    "            },\n",
    "            \"es\": {\n",
    "              \"type\":     \"string\",\n",
    "              \"analyzer\": \"spanish\"\n",
    "            },\n",
    "            \"general\": { \n",
    "              \"type\":     \"string\",\n",
    "              \"analyzer\": \"trigrams\"\n",
    "            }\n",
    "          }\n",
    "        }\n",
    "      }\n",
    "    }\n",
    "  }\n",
    "}\n",
    "'"
   ]
  },
  {
   "cell_type": "markdown",
   "metadata": {},
   "source": [
    "here is how one would query with that search"
   ]
  },
  {
   "cell_type": "code",
   "execution_count": null,
   "metadata": {
    "collapsed": true
   },
   "outputs": [],
   "source": [
    "curl -XGET 'localhost:9200/movies/movie/_search?pretty' -H 'Content-Type: application/json' -d'\n",
    "{\n",
    "    \"query\": {\n",
    "        \"multi_match\": {\n",
    "            \"query\":    \"club de la lucha\",\n",
    "            \"fields\": [ \"title*^1.5\", \"title.general\" ], \n",
    "            \"type\":     \"most_fields\",\n",
    "            \"minimum_should_match\": \"75%\" \n",
    "        }\n",
    "    }\n",
    "}\n",
    "'"
   ]
  }
 ],
 "metadata": {
  "kernelspec": {
   "display_name": "Bash",
   "language": "bash",
   "name": "bash"
  },
  "language_info": {
   "codemirror_mode": "shell",
   "file_extension": ".sh",
   "mimetype": "text/x-sh",
   "name": "bash"
  }
 },
 "nbformat": 4,
 "nbformat_minor": 2
}

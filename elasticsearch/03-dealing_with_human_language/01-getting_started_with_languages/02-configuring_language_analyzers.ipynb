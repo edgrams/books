{
 "cells": [
  {
   "cell_type": "markdown",
   "metadata": {},
   "source": [
    "create a custom analyer that uses the english analyzer as a base"
   ]
  },
  {
   "cell_type": "code",
   "execution_count": 1,
   "metadata": {
    "collapsed": false
   },
   "outputs": [
    {
     "name": "stdout",
     "output_type": "stream",
     "text": [
      "{\n",
      "  \"acknowledged\" : true\n",
      "}\n"
     ]
    }
   ],
   "source": [
    "curl -XDELETE 'localhost:9200/my_index?pretty'"
   ]
  },
  {
   "cell_type": "code",
   "execution_count": 2,
   "metadata": {
    "collapsed": false
   },
   "outputs": [
    {
     "name": "stdout",
     "output_type": "stream",
     "text": [
      "{\n",
      "  \"acknowledged\" : true,\n",
      "  \"shards_acknowledged\" : true\n",
      "}\n"
     ]
    }
   ],
   "source": [
    "curl -XPUT 'localhost:9200/my_index?pretty' -H 'Content-Type: application/json' -d'\n",
    "{\n",
    "  \"settings\": {\n",
    "    \"analysis\": {\n",
    "      \"analyzer\": {\n",
    "        \"my_english\": {\n",
    "          \"type\": \"english\",\n",
    "          \"stem_exclusion\": [ \"organization\", \"organizations\" ], \n",
    "          \"stopwords\": [ \n",
    "            \"a\", \"an\", \"and\", \"are\", \"as\", \"at\", \"be\", \"but\", \"by\", \"for\",\n",
    "            \"if\", \"in\", \"into\", \"is\", \"it\", \"of\", \"on\", \"or\", \"such\", \"that\",\n",
    "            \"the\", \"their\", \"then\", \"there\", \"these\", \"they\", \"this\", \"to\",\n",
    "            \"was\", \"will\", \"with\"\n",
    "          ]\n",
    "        }\n",
    "      }\n",
    "    }\n",
    "  }\n",
    "}\n",
    "'"
   ]
  },
  {
   "cell_type": "markdown",
   "metadata": {},
   "source": [
    "now \"no\" and \"not\" should not be included as stop words, and organization(s) should not be stemmed"
   ]
  },
  {
   "cell_type": "code",
   "execution_count": 3,
   "metadata": {
    "collapsed": false
   },
   "outputs": [
    {
     "name": "stdout",
     "output_type": "stream",
     "text": [
      "{\n",
      "  \"tokens\" : [\n",
      "    {\n",
      "      \"token\" : \"world\",\n",
      "      \"start_offset\" : 4,\n",
      "      \"end_offset\" : 9,\n",
      "      \"type\" : \"<ALPHANUM>\",\n",
      "      \"position\" : 1\n",
      "    },\n",
      "    {\n",
      "      \"token\" : \"health\",\n",
      "      \"start_offset\" : 10,\n",
      "      \"end_offset\" : 16,\n",
      "      \"type\" : \"<ALPHANUM>\",\n",
      "      \"position\" : 2\n",
      "    },\n",
      "    {\n",
      "      \"token\" : \"organization\",\n",
      "      \"start_offset\" : 17,\n",
      "      \"end_offset\" : 29,\n",
      "      \"type\" : \"<ALPHANUM>\",\n",
      "      \"position\" : 3\n",
      "    },\n",
      "    {\n",
      "      \"token\" : \"doe\",\n",
      "      \"start_offset\" : 30,\n",
      "      \"end_offset\" : 34,\n",
      "      \"type\" : \"<ALPHANUM>\",\n",
      "      \"position\" : 4\n",
      "    },\n",
      "    {\n",
      "      \"token\" : \"not\",\n",
      "      \"start_offset\" : 35,\n",
      "      \"end_offset\" : 38,\n",
      "      \"type\" : \"<ALPHANUM>\",\n",
      "      \"position\" : 5\n",
      "    },\n",
      "    {\n",
      "      \"token\" : \"sell\",\n",
      "      \"start_offset\" : 39,\n",
      "      \"end_offset\" : 43,\n",
      "      \"type\" : \"<ALPHANUM>\",\n",
      "      \"position\" : 6\n",
      "    },\n",
      "    {\n",
      "      \"token\" : \"organ\",\n",
      "      \"start_offset\" : 44,\n",
      "      \"end_offset\" : 50,\n",
      "      \"type\" : \"<ALPHANUM>\",\n",
      "      \"position\" : 7\n",
      "    }\n",
      "  ]\n",
      "}\n"
     ]
    }
   ],
   "source": [
    "curl -XGET 'localhost:9200/my_index/_analyze?analyzer=my_english&pretty' -H 'Content-Type: application/json' -d'\n",
    "{\n",
    "  \"text\": \"The World Health Organization does not sell organs.\" \n",
    "}\n",
    "'"
   ]
  },
  {
   "cell_type": "code",
   "execution_count": null,
   "metadata": {
    "collapsed": true
   },
   "outputs": [],
   "source": []
  }
 ],
 "metadata": {
  "kernelspec": {
   "display_name": "Bash",
   "language": "bash",
   "name": "bash"
  },
  "language_info": {
   "codemirror_mode": "shell",
   "file_extension": ".sh",
   "mimetype": "text/x-sh",
   "name": "bash"
  }
 },
 "nbformat": 4,
 "nbformat_minor": 2
}

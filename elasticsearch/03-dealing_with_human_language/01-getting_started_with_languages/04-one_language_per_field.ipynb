{
 "cells": [
  {
   "cell_type": "markdown",
   "metadata": {},
   "source": [
    "store multiple languages of a field in separate fields (field per language approach)"
   ]
  },
  {
   "cell_type": "code",
   "execution_count": 2,
   "metadata": {
    "collapsed": false
   },
   "outputs": [
    {
     "name": "stdout",
     "output_type": "stream",
     "text": [
      "{\n",
      "  \"acknowledged\" : true,\n",
      "  \"shards_acknowledged\" : true\n",
      "}\n"
     ]
    }
   ],
   "source": [
    "curl -XPUT 'localhost:9200/movies?pretty' -H 'Content-Type: application/json' -d'\n",
    "{\n",
    "  \"mappings\": {\n",
    "    \"movie\": {\n",
    "      \"properties\": {\n",
    "        \"title\": { \n",
    "          \"type\":       \"string\"\n",
    "        },\n",
    "        \"title_br\": { \n",
    "            \"type\":     \"string\",\n",
    "            \"analyzer\": \"brazilian\"\n",
    "        },\n",
    "        \"title_cz\": { \n",
    "            \"type\":     \"string\",\n",
    "            \"analyzer\": \"czech\"\n",
    "        },\n",
    "        \"title_en\": { \n",
    "            \"type\":     \"string\",\n",
    "            \"analyzer\": \"english\"\n",
    "        },\n",
    "        \"title_es\": { \n",
    "            \"type\":     \"string\",\n",
    "            \"analyzer\": \"spanish\"\n",
    "        }\n",
    "      }\n",
    "    }\n",
    "  }\n",
    "}\n",
    "'"
   ]
  },
  {
   "cell_type": "markdown",
   "metadata": {},
   "source": [
    "can search multiple language fields (and boost if you'd like)"
   ]
  },
  {
   "cell_type": "code",
   "execution_count": 3,
   "metadata": {
    "collapsed": false
   },
   "outputs": [
    {
     "name": "stdout",
     "output_type": "stream",
     "text": [
      "{\n",
      "  \"took\" : 6,\n",
      "  \"timed_out\" : false,\n",
      "  \"_shards\" : {\n",
      "    \"total\" : 5,\n",
      "    \"successful\" : 5,\n",
      "    \"failed\" : 0\n",
      "  },\n",
      "  \"hits\" : {\n",
      "    \"total\" : 0,\n",
      "    \"max_score\" : null,\n",
      "    \"hits\" : [ ]\n",
      "  }\n",
      "}\n"
     ]
    }
   ],
   "source": [
    "curl -XGET 'localhost:9200/movies/movie/_search?pretty' -H 'Content-Type: application/json' -d'\n",
    "{\n",
    "    \"query\": {\n",
    "        \"multi_match\": {\n",
    "            \"query\":    \"club de la lucha\",\n",
    "            \"fields\": [ \"title*\", \"title_es^2\" ], \n",
    "            \"type\":     \"most_fields\"\n",
    "        }\n",
    "    }\n",
    "}\n",
    "'"
   ]
  },
  {
   "cell_type": "code",
   "execution_count": null,
   "metadata": {
    "collapsed": true
   },
   "outputs": [],
   "source": []
  }
 ],
 "metadata": {
  "kernelspec": {
   "display_name": "Bash",
   "language": "bash",
   "name": "bash"
  },
  "language_info": {
   "codemirror_mode": "shell",
   "file_extension": ".sh",
   "mimetype": "text/x-sh",
   "name": "bash"
  }
 },
 "nbformat": 4,
 "nbformat_minor": 2
}

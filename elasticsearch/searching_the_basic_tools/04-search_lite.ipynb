{
 "cells": [
  {
   "cell_type": "markdown",
   "metadata": {},
   "source": [
    "find all types of 'tweet' that have 'elasticsearch' in the tweet field"
   ]
  },
  {
   "cell_type": "code",
   "execution_count": 1,
   "metadata": {
    "collapsed": false
   },
   "outputs": [
    {
     "name": "stdout",
     "output_type": "stream",
     "text": [
      "{\n",
      "  \"took\" : 7,\n",
      "  \"timed_out\" : false,\n",
      "  \"_shards\" : {\n",
      "    \"total\" : 19,\n",
      "    \"successful\" : 19,\n",
      "    \"failed\" : 0\n",
      "  },\n",
      "  \"hits\" : {\n",
      "    \"total\" : 7,\n",
      "    \"max_score\" : 0.7081689,\n",
      "    \"hits\" : [\n",
      "      {\n",
      "        \"_index\" : \"gb\",\n",
      "        \"_type\" : \"tweet\",\n",
      "        \"_id\" : \"13\",\n",
      "        \"_score\" : 0.7081689,\n",
      "        \"_source\" : {\n",
      "          \"date\" : \"2014-09-23\",\n",
      "          \"name\" : \"Mary Jones\",\n",
      "          \"tweet\" : \"So yes, I am an Elasticsearch fanboy\",\n",
      "          \"user_id\" : 2\n",
      "        }\n",
      "      },\n",
      "      {\n",
      "        \"_index\" : \"gb\",\n",
      "        \"_type\" : \"tweet\",\n",
      "        \"_id\" : \"5\",\n",
      "        \"_score\" : 0.64433396,\n",
      "        \"_source\" : {\n",
      "          \"date\" : \"2014-09-15\",\n",
      "          \"name\" : \"Mary Jones\",\n",
      "          \"tweet\" : \"However did I manage before Elasticsearch?\",\n",
      "          \"user_id\" : 2\n",
      "        }\n",
      "      },\n",
      "      {\n",
      "        \"_index\" : \"us\",\n",
      "        \"_type\" : \"tweet\",\n",
      "        \"_id\" : \"6\",\n",
      "        \"_score\" : 0.6395861,\n",
      "        \"_source\" : {\n",
      "          \"date\" : \"2014-09-16\",\n",
      "          \"name\" : \"John Smith\",\n",
      "          \"tweet\" : \"The Elasticsearch API is really easy to use\",\n",
      "          \"user_id\" : 1\n",
      "        }\n",
      "      },\n",
      "      {\n",
      "        \"_index\" : \"us\",\n",
      "        \"_type\" : \"tweet\",\n",
      "        \"_id\" : \"10\",\n",
      "        \"_score\" : 0.1908771,\n",
      "        \"_source\" : {\n",
      "          \"date\" : \"2014-09-20\",\n",
      "          \"name\" : \"John Smith\",\n",
      "          \"tweet\" : \"Elasticsearch surely is one of the hottest new NoSQL products\",\n",
      "          \"user_id\" : 1\n",
      "        }\n",
      "      },\n",
      "      {\n",
      "        \"_index\" : \"gb\",\n",
      "        \"_type\" : \"tweet\",\n",
      "        \"_id\" : \"3\",\n",
      "        \"_score\" : 0.17669111,\n",
      "        \"_source\" : {\n",
      "          \"date\" : \"2014-09-13\",\n",
      "          \"name\" : \"Mary Jones\",\n",
      "          \"tweet\" : \"Elasticsearch means full text search has never been so easy\",\n",
      "          \"user_id\" : 2\n",
      "        }\n",
      "      },\n",
      "      {\n",
      "        \"_index\" : \"gb\",\n",
      "        \"_type\" : \"tweet\",\n",
      "        \"_id\" : \"11\",\n",
      "        \"_score\" : 0.17669111,\n",
      "        \"_source\" : {\n",
      "          \"date\" : \"2014-09-21\",\n",
      "          \"name\" : \"Mary Jones\",\n",
      "          \"tweet\" : \"Elasticsearch is built for the cloud, easy to scale\",\n",
      "          \"user_id\" : 2\n",
      "        }\n",
      "      },\n",
      "      {\n",
      "        \"_index\" : \"us\",\n",
      "        \"_type\" : \"tweet\",\n",
      "        \"_id\" : \"12\",\n",
      "        \"_score\" : 0.15716305,\n",
      "        \"_source\" : {\n",
      "          \"date\" : \"2014-09-22\",\n",
      "          \"name\" : \"John Smith\",\n",
      "          \"tweet\" : \"Elasticsearch and I have left the honeymoon stage, and I still love her.\",\n",
      "          \"user_id\" : 1\n",
      "        }\n",
      "      }\n",
      "    ]\n",
      "  }\n",
      "}\n"
     ]
    }
   ],
   "source": [
    "curl -XGET 'localhost:9200/_all/tweet/_search?q=tweet:elasticsearch&pretty'"
   ]
  },
  {
   "cell_type": "markdown",
   "metadata": {},
   "source": [
    "look for 'john' in the name field, and 'mary' in the tweet field"
   ]
  },
  {
   "cell_type": "code",
   "execution_count": 2,
   "metadata": {
    "collapsed": false
   },
   "outputs": [
    {
     "name": "stdout",
     "output_type": "stream",
     "text": [
      "{\n",
      "  \"took\" : 4,\n",
      "  \"timed_out\" : false,\n",
      "  \"_shards\" : {\n",
      "    \"total\" : 19,\n",
      "    \"successful\" : 19,\n",
      "    \"failed\" : 0\n",
      "  },\n",
      "  \"hits\" : {\n",
      "    \"total\" : 1,\n",
      "    \"max_score\" : 0.80316985,\n",
      "    \"hits\" : [\n",
      "      {\n",
      "        \"_index\" : \"us\",\n",
      "        \"_type\" : \"tweet\",\n",
      "        \"_id\" : \"4\",\n",
      "        \"_score\" : 0.80316985,\n",
      "        \"_source\" : {\n",
      "          \"date\" : \"2014-09-14\",\n",
      "          \"name\" : \"John Smith\",\n",
      "          \"tweet\" : \"@mary it is not just text, it does everything\",\n",
      "          \"user_id\" : 1\n",
      "        }\n",
      "      }\n",
      "    ]\n",
      "  }\n",
      "}\n"
     ]
    }
   ],
   "source": [
    "curl -XGET 'localhost:9200/_search?q=%2Bname%3Ajohn+%2Btweet%3Amary&pretty'"
   ]
  },
  {
   "cell_type": "markdown",
   "metadata": {},
   "source": [
    "return all documents that contain 'mary'"
   ]
  },
  {
   "cell_type": "code",
   "execution_count": 3,
   "metadata": {
    "collapsed": false
   },
   "outputs": [
    {
     "name": "stdout",
     "output_type": "stream",
     "text": [
      "{\n",
      "  \"took\" : 3,\n",
      "  \"timed_out\" : false,\n",
      "  \"_shards\" : {\n",
      "    \"total\" : 19,\n",
      "    \"successful\" : 19,\n",
      "    \"failed\" : 0\n",
      "  },\n",
      "  \"hits\" : {\n",
      "    \"total\" : 8,\n",
      "    \"max_score\" : 0.6650044,\n",
      "    \"hits\" : [\n",
      "      {\n",
      "        \"_index\" : \"us\",\n",
      "        \"_type\" : \"tweet\",\n",
      "        \"_id\" : \"4\",\n",
      "        \"_score\" : 0.6650044,\n",
      "        \"_source\" : {\n",
      "          \"date\" : \"2014-09-14\",\n",
      "          \"name\" : \"John Smith\",\n",
      "          \"tweet\" : \"@mary it is not just text, it does everything\",\n",
      "          \"user_id\" : 1\n",
      "        }\n",
      "      },\n",
      "      {\n",
      "        \"_index\" : \"gb\",\n",
      "        \"_type\" : \"user\",\n",
      "        \"_id\" : \"2\",\n",
      "        \"_score\" : 0.4477639,\n",
      "        \"_source\" : {\n",
      "          \"email\" : \"mary@jones.com\",\n",
      "          \"name\" : \"Mary Jones\",\n",
      "          \"username\" : \"@mary\"\n",
      "        }\n",
      "      },\n",
      "      {\n",
      "        \"_index\" : \"gb\",\n",
      "        \"_type\" : \"tweet\",\n",
      "        \"_id\" : \"3\",\n",
      "        \"_score\" : 0.1799469,\n",
      "        \"_source\" : {\n",
      "          \"date\" : \"2014-09-13\",\n",
      "          \"name\" : \"Mary Jones\",\n",
      "          \"tweet\" : \"Elasticsearch means full text search has never been so easy\",\n",
      "          \"user_id\" : 2\n",
      "        }\n",
      "      },\n",
      "      {\n",
      "        \"_index\" : \"gb\",\n",
      "        \"_type\" : \"tweet\",\n",
      "        \"_id\" : \"11\",\n",
      "        \"_score\" : 0.1799469,\n",
      "        \"_source\" : {\n",
      "          \"date\" : \"2014-09-21\",\n",
      "          \"name\" : \"Mary Jones\",\n",
      "          \"tweet\" : \"Elasticsearch is built for the cloud, easy to scale\",\n",
      "          \"user_id\" : 2\n",
      "        }\n",
      "      },\n",
      "      {\n",
      "        \"_index\" : \"gb\",\n",
      "        \"_type\" : \"tweet\",\n",
      "        \"_id\" : \"7\",\n",
      "        \"_score\" : 0.16948202,\n",
      "        \"_source\" : {\n",
      "          \"date\" : \"2014-09-17\",\n",
      "          \"name\" : \"Mary Jones\",\n",
      "          \"tweet\" : \"The Query DSL is really powerful and flexible\",\n",
      "          \"user_id\" : 2\n",
      "        }\n",
      "      },\n",
      "      {\n",
      "        \"_index\" : \"gb\",\n",
      "        \"_type\" : \"tweet\",\n",
      "        \"_id\" : \"13\",\n",
      "        \"_score\" : 0.16948202,\n",
      "        \"_source\" : {\n",
      "          \"date\" : \"2014-09-23\",\n",
      "          \"name\" : \"Mary Jones\",\n",
      "          \"tweet\" : \"So yes, I am an Elasticsearch fanboy\",\n",
      "          \"user_id\" : 2\n",
      "        }\n",
      "      },\n",
      "      {\n",
      "        \"_index\" : \"gb\",\n",
      "        \"_type\" : \"tweet\",\n",
      "        \"_id\" : \"5\",\n",
      "        \"_score\" : 0.16044298,\n",
      "        \"_source\" : {\n",
      "          \"date\" : \"2014-09-15\",\n",
      "          \"name\" : \"Mary Jones\",\n",
      "          \"tweet\" : \"However did I manage before Elasticsearch?\",\n",
      "          \"user_id\" : 2\n",
      "        }\n",
      "      },\n",
      "      {\n",
      "        \"_index\" : \"gb\",\n",
      "        \"_type\" : \"tweet\",\n",
      "        \"_id\" : \"9\",\n",
      "        \"_score\" : 0.16044298,\n",
      "        \"_source\" : {\n",
      "          \"date\" : \"2014-09-19\",\n",
      "          \"name\" : \"Mary Jones\",\n",
      "          \"tweet\" : \"Geo-location aggregations are really cool\",\n",
      "          \"user_id\" : 2\n",
      "        }\n",
      "      }\n",
      "    ]\n",
      "  }\n",
      "}\n"
     ]
    }
   ],
   "source": [
    "curl -XGET 'localhost:9200/_search?q=mary&pretty'"
   ]
  },
  {
   "cell_type": "markdown",
   "metadata": {},
   "source": [
    "a complicated query!\n",
    " - name contains 'mary' or 'john'\n",
    " - date is greater than '09-10-2014'\n",
    " - the '_all' field contains either 'aggregations' or 'geo'"
   ]
  },
  {
   "cell_type": "code",
   "execution_count": 4,
   "metadata": {
    "collapsed": false
   },
   "outputs": [
    {
     "name": "stdout",
     "output_type": "stream",
     "text": [
      "{\"took\":14,\"timed_out\":false,\"_shards\":{\"total\":19,\"successful\":19,\"failed\":0},\"hits\":{\"total\":1,\"max_score\":2.3835227,\"hits\":[{\"_index\":\"gb\",\"_type\":\"tweet\",\"_id\":\"9\",\"_score\":2.3835227,\"_source\":\n",
      "{\n",
      "   \"date\" : \"2014-09-19\",\n",
      "   \"name\" : \"Mary Jones\",\n",
      "   \"tweet\" : \"Geo-location aggregations are really cool\",\n",
      "   \"user_id\" : 2\n",
      "}\n",
      "}]}}"
     ]
    }
   ],
   "source": [
    "curl -XGET 'localhost:9200/_search?q=%2Bname%3A(mary+john)+%2Bdate%3A%3E2014-09-10+%2B(aggregations+geo)'"
   ]
  },
  {
   "cell_type": "code",
   "execution_count": null,
   "metadata": {
    "collapsed": true
   },
   "outputs": [],
   "source": []
  }
 ],
 "metadata": {
  "kernelspec": {
   "display_name": "Bash",
   "language": "bash",
   "name": "bash"
  },
  "language_info": {
   "codemirror_mode": "shell",
   "file_extension": ".sh",
   "mimetype": "text/x-sh",
   "name": "bash"
  }
 },
 "nbformat": 4,
 "nbformat_minor": 2
}

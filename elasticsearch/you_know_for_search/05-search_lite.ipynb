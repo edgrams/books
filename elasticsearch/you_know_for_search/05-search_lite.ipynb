{
 "cells": [
  {
   "cell_type": "markdown",
   "metadata": {},
   "source": [
    "search for all employees"
   ]
  },
  {
   "cell_type": "code",
   "execution_count": 1,
   "metadata": {
    "collapsed": false
   },
   "outputs": [
    {
     "name": "stdout",
     "output_type": "stream",
     "text": [
      "{\n",
      "  \"took\" : 27,\n",
      "  \"timed_out\" : false,\n",
      "  \"_shards\" : {\n",
      "    \"total\" : 5,\n",
      "    \"successful\" : 5,\n",
      "    \"failed\" : 0\n",
      "  },\n",
      "  \"hits\" : {\n",
      "    \"total\" : 3,\n",
      "    \"max_score\" : 1.0,\n",
      "    \"hits\" : [\n",
      "      {\n",
      "        \"_index\" : \"megacorp\",\n",
      "        \"_type\" : \"employee\",\n",
      "        \"_id\" : \"2\",\n",
      "        \"_score\" : 1.0,\n",
      "        \"_source\" : {\n",
      "          \"first_name\" : \"Jane\",\n",
      "          \"last_name\" : \"Smith\",\n",
      "          \"age\" : 32,\n",
      "          \"about\" : \"I like to collect rock albums\",\n",
      "          \"interests\" : [\n",
      "            \"music\"\n",
      "          ]\n",
      "        }\n",
      "      },\n",
      "      {\n",
      "        \"_index\" : \"megacorp\",\n",
      "        \"_type\" : \"employee\",\n",
      "        \"_id\" : \"1\",\n",
      "        \"_score\" : 1.0,\n",
      "        \"_source\" : {\n",
      "          \"first_name\" : \"John\",\n",
      "          \"last_name\" : \"Smith\",\n",
      "          \"age\" : 25,\n",
      "          \"about\" : \"I love to go rock climbing\",\n",
      "          \"interests\" : [\n",
      "            \"sports\",\n",
      "            \"music\"\n",
      "          ]\n",
      "        }\n",
      "      },\n",
      "      {\n",
      "        \"_index\" : \"megacorp\",\n",
      "        \"_type\" : \"employee\",\n",
      "        \"_id\" : \"3\",\n",
      "        \"_score\" : 1.0,\n",
      "        \"_source\" : {\n",
      "          \"first_name\" : \"Douglas\",\n",
      "          \"last_name\" : \"Fir\",\n",
      "          \"age\" : 35,\n",
      "          \"about\" : \"I like to build cabinets\",\n",
      "          \"interests\" : [\n",
      "            \"forestry\"\n",
      "          ]\n",
      "        }\n",
      "      }\n",
      "    ]\n",
      "  }\n",
      "}\n"
     ]
    }
   ],
   "source": [
    "curl -XGET 'localhost:9200/megacorp/employee/_search?pretty'"
   ]
  },
  {
   "cell_type": "markdown",
   "metadata": {},
   "source": [
    "query string search for matching last name"
   ]
  },
  {
   "cell_type": "code",
   "execution_count": 2,
   "metadata": {
    "collapsed": false
   },
   "outputs": [
    {
     "name": "stdout",
     "output_type": "stream",
     "text": [
      "{\n",
      "  \"took\" : 59,\n",
      "  \"timed_out\" : false,\n",
      "  \"_shards\" : {\n",
      "    \"total\" : 5,\n",
      "    \"successful\" : 5,\n",
      "    \"failed\" : 0\n",
      "  },\n",
      "  \"hits\" : {\n",
      "    \"total\" : 2,\n",
      "    \"max_score\" : 0.2876821,\n",
      "    \"hits\" : [\n",
      "      {\n",
      "        \"_index\" : \"megacorp\",\n",
      "        \"_type\" : \"employee\",\n",
      "        \"_id\" : \"2\",\n",
      "        \"_score\" : 0.2876821,\n",
      "        \"_source\" : {\n",
      "          \"first_name\" : \"Jane\",\n",
      "          \"last_name\" : \"Smith\",\n",
      "          \"age\" : 32,\n",
      "          \"about\" : \"I like to collect rock albums\",\n",
      "          \"interests\" : [\n",
      "            \"music\"\n",
      "          ]\n",
      "        }\n",
      "      },\n",
      "      {\n",
      "        \"_index\" : \"megacorp\",\n",
      "        \"_type\" : \"employee\",\n",
      "        \"_id\" : \"1\",\n",
      "        \"_score\" : 0.2876821,\n",
      "        \"_source\" : {\n",
      "          \"first_name\" : \"John\",\n",
      "          \"last_name\" : \"Smith\",\n",
      "          \"age\" : 25,\n",
      "          \"about\" : \"I love to go rock climbing\",\n",
      "          \"interests\" : [\n",
      "            \"sports\",\n",
      "            \"music\"\n",
      "          ]\n",
      "        }\n",
      "      }\n",
      "    ]\n",
      "  }\n",
      "}\n"
     ]
    }
   ],
   "source": [
    "curl -XGET 'localhost:9200/megacorp/employee/_search?q=last_name:Smith&pretty'"
   ]
  },
  {
   "cell_type": "code",
   "execution_count": null,
   "metadata": {
    "collapsed": true
   },
   "outputs": [],
   "source": []
  }
 ],
 "metadata": {
  "kernelspec": {
   "display_name": "Bash",
   "language": "bash",
   "name": "bash"
  },
  "language_info": {
   "codemirror_mode": "shell",
   "file_extension": ".sh",
   "mimetype": "text/x-sh",
   "name": "bash"
  }
 },
 "nbformat": 4,
 "nbformat_minor": 2
}

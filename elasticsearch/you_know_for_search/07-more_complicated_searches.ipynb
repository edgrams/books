{
 "cells": [
  {
   "cell_type": "markdown",
   "metadata": {},
   "source": [
    "matching search w/ filter"
   ]
  },
  {
   "cell_type": "code",
   "execution_count": 2,
   "metadata": {
    "collapsed": false
   },
   "outputs": [
    {
     "name": "stdout",
     "output_type": "stream",
     "text": [
      "{\n",
      "  \"took\" : 5,\n",
      "  \"timed_out\" : false,\n",
      "  \"_shards\" : {\n",
      "    \"total\" : 5,\n",
      "    \"successful\" : 5,\n",
      "    \"failed\" : 0\n",
      "  },\n",
      "  \"hits\" : {\n",
      "    \"total\" : 1,\n",
      "    \"max_score\" : 0.2876821,\n",
      "    \"hits\" : [\n",
      "      {\n",
      "        \"_index\" : \"megacorp\",\n",
      "        \"_type\" : \"employee\",\n",
      "        \"_id\" : \"2\",\n",
      "        \"_score\" : 0.2876821,\n",
      "        \"_source\" : {\n",
      "          \"first_name\" : \"Jane\",\n",
      "          \"last_name\" : \"Smith\",\n",
      "          \"age\" : 32,\n",
      "          \"about\" : \"I like to collect rock albums\",\n",
      "          \"interests\" : [\n",
      "            \"music\"\n",
      "          ]\n",
      "        }\n",
      "      }\n",
      "    ]\n",
      "  }\n",
      "}\n"
     ]
    }
   ],
   "source": [
    "curl -XGET 'localhost:9200/megacorp/employee/_search?pretty' -H 'Content-Type: application/json' -d'\n",
    "{\n",
    "    \"query\" : {\n",
    "        \"bool\": {\n",
    "            \"must\": {\n",
    "                \"match\" : {\n",
    "                    \"last_name\" : \"smith\" \n",
    "                }\n",
    "            },\n",
    "            \"filter\": {\n",
    "                \"range\" : {\n",
    "                    \"age\" : { \"gt\" : 30 } \n",
    "                }\n",
    "            }\n",
    "        }\n",
    "    }\n",
    "}\n",
    "'"
   ]
  },
  {
   "cell_type": "code",
   "execution_count": null,
   "metadata": {
    "collapsed": true
   },
   "outputs": [],
   "source": []
  }
 ],
 "metadata": {
  "kernelspec": {
   "display_name": "Bash",
   "language": "bash",
   "name": "bash"
  },
  "language_info": {
   "codemirror_mode": "shell",
   "file_extension": ".sh",
   "mimetype": "text/x-sh",
   "name": "bash"
  }
 },
 "nbformat": 4,
 "nbformat_minor": 2
}

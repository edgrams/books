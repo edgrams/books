{
 "cells": [
  {
   "cell_type": "markdown",
   "metadata": {},
   "source": [
    "return all documents"
   ]
  },
  {
   "cell_type": "code",
   "execution_count": 1,
   "metadata": {
    "collapsed": false
   },
   "outputs": [
    {
     "name": "stdout",
     "output_type": "stream",
     "text": [
      "{\n",
      "  \"took\" : 3,\n",
      "  \"timed_out\" : false,\n",
      "  \"_shards\" : {\n",
      "    \"total\" : 19,\n",
      "    \"successful\" : 19,\n",
      "    \"failed\" : 0\n",
      "  },\n",
      "  \"hits\" : {\n",
      "    \"total\" : 11,\n",
      "    \"max_score\" : 1.0,\n",
      "    \"hits\" : [\n",
      "      {\n",
      "        \"_index\" : \".kibana\",\n",
      "        \"_type\" : \"config\",\n",
      "        \"_id\" : \"5.2.2\",\n",
      "        \"_score\" : 1.0,\n",
      "        \"_source\" : {\n",
      "          \"buildNum\" : 14723\n",
      "        }\n",
      "      },\n",
      "      {\n",
      "        \"_index\" : \"us\",\n",
      "        \"_type\" : \"tweet\",\n",
      "        \"_id\" : \"14\",\n",
      "        \"_score\" : 1.0,\n",
      "        \"_source\" : {\n",
      "          \"date\" : \"2014-09-24\",\n",
      "          \"name\" : \"John Smith\",\n",
      "          \"tweet\" : \"How many more cheesy tweets do I have to write?\",\n",
      "          \"user_id\" : 1\n",
      "        }\n",
      "      },\n",
      "      {\n",
      "        \"_index\" : \"us\",\n",
      "        \"_type\" : \"tweet\",\n",
      "        \"_id\" : \"8\",\n",
      "        \"_score\" : 1.0,\n",
      "        \"_source\" : {\n",
      "          \"date\" : \"2014-09-18\",\n",
      "          \"name\" : \"John Smith\",\n",
      "          \"user_id\" : 1\n",
      "        }\n",
      "      },\n",
      "      {\n",
      "        \"_index\" : \"us\",\n",
      "        \"_type\" : \"tweet\",\n",
      "        \"_id\" : \"10\",\n",
      "        \"_score\" : 1.0,\n",
      "        \"_source\" : {\n",
      "          \"date\" : \"2014-09-20\",\n",
      "          \"name\" : \"John Smith\",\n",
      "          \"tweet\" : \"Elasticsearch surely is one of the hottest new NoSQL products\",\n",
      "          \"user_id\" : 1\n",
      "        }\n",
      "      },\n",
      "      {\n",
      "        \"_index\" : \"us\",\n",
      "        \"_type\" : \"tweet\",\n",
      "        \"_id\" : \"12\",\n",
      "        \"_score\" : 1.0,\n",
      "        \"_source\" : {\n",
      "          \"date\" : \"2014-09-22\",\n",
      "          \"name\" : \"John Smith\",\n",
      "          \"tweet\" : \"Elasticsearch and I have left the honeymoon stage, and I still love her.\",\n",
      "          \"user_id\" : 1\n",
      "        }\n",
      "      },\n",
      "      {\n",
      "        \"_index\" : \"megacorp\",\n",
      "        \"_type\" : \"employee\",\n",
      "        \"_id\" : \"2\",\n",
      "        \"_score\" : 1.0,\n",
      "        \"_source\" : {\n",
      "          \"first_name\" : \"Jane\",\n",
      "          \"last_name\" : \"Smith\",\n",
      "          \"age\" : 32,\n",
      "          \"about\" : \"I like to collect rock albums\",\n",
      "          \"interests\" : [\n",
      "            \"music\"\n",
      "          ]\n",
      "        }\n",
      "      },\n",
      "      {\n",
      "        \"_index\" : \"us\",\n",
      "        \"_type\" : \"tweet\",\n",
      "        \"_id\" : \"4\",\n",
      "        \"_score\" : 1.0,\n",
      "        \"_source\" : {\n",
      "          \"date\" : \"2014-09-14\",\n",
      "          \"name\" : \"John Smith\",\n",
      "          \"tweet\" : \"@mary it is not just text, it does everything\",\n",
      "          \"user_id\" : 1\n",
      "        }\n",
      "      },\n",
      "      {\n",
      "        \"_index\" : \"us\",\n",
      "        \"_type\" : \"tweet\",\n",
      "        \"_id\" : \"6\",\n",
      "        \"_score\" : 1.0,\n",
      "        \"_source\" : {\n",
      "          \"date\" : \"2014-09-16\",\n",
      "          \"name\" : \"John Smith\",\n",
      "          \"tweet\" : \"The Elasticsearch API is really easy to use\",\n",
      "          \"user_id\" : 1\n",
      "        }\n",
      "      },\n",
      "      {\n",
      "        \"_index\" : \"megacorp\",\n",
      "        \"_type\" : \"employee\",\n",
      "        \"_id\" : \"1\",\n",
      "        \"_score\" : 1.0,\n",
      "        \"_source\" : {\n",
      "          \"first_name\" : \"John\",\n",
      "          \"last_name\" : \"Smith\",\n",
      "          \"age\" : 25,\n",
      "          \"about\" : \"I love to go rock climbing\",\n",
      "          \"interests\" : [\n",
      "            \"sports\",\n",
      "            \"music\"\n",
      "          ]\n",
      "        }\n",
      "      },\n",
      "      {\n",
      "        \"_index\" : \"us\",\n",
      "        \"_type\" : \"user\",\n",
      "        \"_id\" : \"1\",\n",
      "        \"_score\" : 1.0,\n",
      "        \"_source\" : {\n",
      "          \"email\" : \"john@smith.com\",\n",
      "          \"name\" : \"John Smith\",\n",
      "          \"username\" : \"@john\"\n",
      "        }\n",
      "      }\n",
      "    ]\n",
      "  }\n",
      "}\n"
     ]
    }
   ],
   "source": [
    "curl -XGET 'localhost:9200/_search?pretty' -H 'Content-Type: application/json' -d'\n",
    "{}\n",
    "'"
   ]
  },
  {
   "cell_type": "markdown",
   "metadata": {},
   "source": [
    "use from and size params"
   ]
  },
  {
   "cell_type": "code",
   "execution_count": 3,
   "metadata": {
    "collapsed": false
   },
   "outputs": [
    {
     "name": "stdout",
     "output_type": "stream",
     "text": [
      "{\n",
      "  \"took\" : 1,\n",
      "  \"timed_out\" : false,\n",
      "  \"_shards\" : {\n",
      "    \"total\" : 19,\n",
      "    \"successful\" : 19,\n",
      "    \"failed\" : 0\n",
      "  },\n",
      "  \"hits\" : {\n",
      "    \"total\" : 18,\n",
      "    \"max_score\" : 1.0,\n",
      "    \"hits\" : [ ]\n",
      "  }\n",
      "}\n"
     ]
    }
   ],
   "source": [
    "curl -XGET 'localhost:9200/_search?pretty' -H 'Content-Type: application/json' -d'\n",
    "{\n",
    "  \"from\": 30,\n",
    "  \"size\": 10\n",
    "}\n",
    "'"
   ]
  },
  {
   "cell_type": "code",
   "execution_count": null,
   "metadata": {
    "collapsed": true
   },
   "outputs": [],
   "source": []
  }
 ],
 "metadata": {
  "kernelspec": {
   "display_name": "Bash",
   "language": "bash",
   "name": "bash"
  },
  "language_info": {
   "codemirror_mode": "shell",
   "file_extension": ".sh",
   "mimetype": "text/x-sh",
   "name": "bash"
  }
 },
 "nbformat": 4,
 "nbformat_minor": 2
}

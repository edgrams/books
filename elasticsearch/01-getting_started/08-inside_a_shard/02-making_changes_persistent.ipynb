{
 "cells": [
  {
   "cell_type": "markdown",
   "metadata": {},
   "source": [
    "perform a manual flush (write to disk, clear translog)"
   ]
  },
  {
   "cell_type": "code",
   "execution_count": 1,
   "metadata": {
    "collapsed": false
   },
   "outputs": [
    {
     "name": "stdout",
     "output_type": "stream",
     "text": [
      "{\"_shards\":{\"total\":73,\"successful\":73,\"failed\":0}}"
     ]
    }
   ],
   "source": [
    "curl -XPOST 'localhost:9200/_flush'"
   ]
  },
  {
   "cell_type": "markdown",
   "metadata": {},
   "source": [
    "flush and wait for completion"
   ]
  },
  {
   "cell_type": "code",
   "execution_count": 3,
   "metadata": {
    "collapsed": false
   },
   "outputs": [
    {
     "name": "stdout",
     "output_type": "stream",
     "text": [
      "{\"_shards\":{\"total\":73,\"successful\":73,\"failed\":0}}"
     ]
    }
   ],
   "source": [
    "curl -XPOST 'localhost:9200/_flush?wait_if_ongoing'"
   ]
  },
  {
   "cell_type": "markdown",
   "metadata": {},
   "source": [
    "write to translog every 5 seconds async"
   ]
  },
  {
   "cell_type": "code",
   "execution_count": 5,
   "metadata": {
    "collapsed": false
   },
   "outputs": [
    {
     "name": "stdout",
     "output_type": "stream",
     "text": [
      "{\"acknowledged\":true,\"shards_acknowledged\":true}"
     ]
    }
   ],
   "source": [
    "curl -XPUT 'localhost:9200/my_index' -H 'Content-Type: application/json' -d'\n",
    "{\n",
    "    \"settings\": {\n",
    "        \"index.translog.durability\": \"async\",\n",
    "        \"index.translog.sync_interval\": \"5s\"\n",
    "    }\n",
    "}\n",
    "'"
   ]
  },
  {
   "cell_type": "markdown",
   "metadata": {},
   "source": [
    "go back to the default"
   ]
  },
  {
   "cell_type": "code",
   "execution_count": 6,
   "metadata": {
    "collapsed": false
   },
   "outputs": [
    {
     "name": "stdout",
     "output_type": "stream",
     "text": [
      "{\"acknowledged\":true}"
     ]
    }
   ],
   "source": [
    "curl -XPUT 'localhost:9200/my_index/_settings' -H 'Content-Type: application/json' -d'\n",
    "{\n",
    "    \"index.translog.durability\": \"request\"\n",
    "}\n",
    "'"
   ]
  },
  {
   "cell_type": "code",
   "execution_count": null,
   "metadata": {
    "collapsed": true
   },
   "outputs": [],
   "source": []
  }
 ],
 "metadata": {
  "kernelspec": {
   "display_name": "Bash",
   "language": "bash",
   "name": "bash"
  },
  "language_info": {
   "codemirror_mode": "shell",
   "file_extension": ".sh",
   "mimetype": "text/x-sh",
   "name": "bash"
  }
 },
 "nbformat": 4,
 "nbformat_minor": 2
}

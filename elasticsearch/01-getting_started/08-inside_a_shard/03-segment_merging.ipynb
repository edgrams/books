{
 "cells": [
  {
   "cell_type": "markdown",
   "metadata": {},
   "source": [
    "optimize the merge for an index that is not dynamic (continually updated)"
   ]
  },
  {
   "cell_type": "code",
   "execution_count": 3,
   "metadata": {
    "collapsed": false
   },
   "outputs": [
    {
     "name": "stdout",
     "output_type": "stream",
     "text": [
      "{\"_shards\":{\"total\":10,\"successful\":10,\"failed\":0}}"
     ]
    }
   ],
   "source": [
    "curl -XPOST 'localhost:9200/my_index/_forcemerge?max_num_segments=1'"
   ]
  },
  {
   "cell_type": "markdown",
   "metadata": {},
   "source": [
    "good for logging (EOD), otherwise, leave it alone!"
   ]
  },
  {
   "cell_type": "code",
   "execution_count": null,
   "metadata": {
    "collapsed": true
   },
   "outputs": [],
   "source": []
  }
 ],
 "metadata": {
  "kernelspec": {
   "display_name": "Bash",
   "language": "bash",
   "name": "bash"
  },
  "language_info": {
   "codemirror_mode": "shell",
   "file_extension": ".sh",
   "mimetype": "text/x-sh",
   "name": "bash"
  }
 },
 "nbformat": 4,
 "nbformat_minor": 2
}

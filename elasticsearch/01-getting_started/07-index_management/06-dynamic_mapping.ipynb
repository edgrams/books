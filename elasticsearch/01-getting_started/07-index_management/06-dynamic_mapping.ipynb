{
 "cells": [
  {
   "cell_type": "markdown",
   "metadata": {},
   "source": [
    "delete the index first"
   ]
  },
  {
   "cell_type": "code",
   "execution_count": 12,
   "metadata": {
    "collapsed": false
   },
   "outputs": [
    {
     "name": "stdout",
     "output_type": "stream",
     "text": [
      "{\"acknowledged\":true}"
     ]
    }
   ],
   "source": [
    "curl -XDELETE 'localhost:9200/my_index'"
   ]
  },
  {
   "cell_type": "markdown",
   "metadata": {},
   "source": [
    "adjust how fields can be defined in the mapping"
   ]
  },
  {
   "cell_type": "code",
   "execution_count": 3,
   "metadata": {
    "collapsed": false
   },
   "outputs": [
    {
     "name": "stdout",
     "output_type": "stream",
     "text": [
      "{\n",
      "  \"acknowledged\" : true,\n",
      "  \"shards_acknowledged\" : true\n",
      "}\n"
     ]
    }
   ],
   "source": [
    "curl -XPUT 'localhost:9200/my_index?pretty' -H 'Content-Type: application/json' -d'\n",
    "{\n",
    "    \"mappings\": {\n",
    "        \"my_type\": {\n",
    "            \"dynamic\":      \"strict\", \n",
    "            \"properties\": {\n",
    "                \"title\":  { \"type\": \"string\"},\n",
    "                \"stash\":  {\n",
    "                    \"type\":     \"object\",\n",
    "                    \"dynamic\":  true \n",
    "                }\n",
    "            }\n",
    "        }\n",
    "    }\n",
    "}\n",
    "'"
   ]
  },
  {
   "cell_type": "markdown",
   "metadata": {},
   "source": [
    "successful add"
   ]
  },
  {
   "cell_type": "code",
   "execution_count": 5,
   "metadata": {
    "collapsed": false
   },
   "outputs": [
    {
     "name": "stdout",
     "output_type": "stream",
     "text": [
      "{\n",
      "  \"_index\" : \"my_index\",\n",
      "  \"_type\" : \"my_type\",\n",
      "  \"_id\" : \"1\",\n",
      "  \"_version\" : 1,\n",
      "  \"result\" : \"created\",\n",
      "  \"_shards\" : {\n",
      "    \"total\" : 2,\n",
      "    \"successful\" : 2,\n",
      "    \"failed\" : 0\n",
      "  },\n",
      "  \"created\" : true\n",
      "}\n"
     ]
    }
   ],
   "source": [
    "curl -XPUT 'localhost:9200/my_index/my_type/1?pretty' -H 'Content-Type: application/json' -d'\n",
    "{\n",
    "    \"title\":   \"This doc adds a new field\",\n",
    "    \"stash\": { \"new_field\": \"Success!\" }\n",
    "}\n",
    "'"
   ]
  },
  {
   "cell_type": "markdown",
   "metadata": {},
   "source": [
    "will fail, stash requires an object"
   ]
  },
  {
   "cell_type": "code",
   "execution_count": 6,
   "metadata": {
    "collapsed": false
   },
   "outputs": [
    {
     "name": "stdout",
     "output_type": "stream",
     "text": [
      "{\n",
      "  \"error\" : {\n",
      "    \"root_cause\" : [\n",
      "      {\n",
      "        \"type\" : \"strict_dynamic_mapping_exception\",\n",
      "        \"reason\" : \"mapping set to strict, dynamic introduction of [new_field] within [my_type] is not allowed\"\n",
      "      }\n",
      "    ],\n",
      "    \"type\" : \"strict_dynamic_mapping_exception\",\n",
      "    \"reason\" : \"mapping set to strict, dynamic introduction of [new_field] within [my_type] is not allowed\"\n",
      "  },\n",
      "  \"status\" : 400\n",
      "}\n"
     ]
    }
   ],
   "source": [
    "curl -XPUT 'localhost:9200/my_index/my_type/1?pretty' -H 'Content-Type: application/json' -d'\n",
    "{\n",
    "    \"title\":     \"This throws a StrictDynamicMappingException\",\n",
    "    \"new_field\": \"Fail!\"\n",
    "}\n",
    "'"
   ]
  },
  {
   "cell_type": "code",
   "execution_count": null,
   "metadata": {
    "collapsed": true
   },
   "outputs": [],
   "source": []
  }
 ],
 "metadata": {
  "kernelspec": {
   "display_name": "Bash",
   "language": "bash",
   "name": "bash"
  },
  "language_info": {
   "codemirror_mode": "shell",
   "file_extension": ".sh",
   "mimetype": "text/x-sh",
   "name": "bash"
  }
 },
 "nbformat": 4,
 "nbformat_minor": 2
}

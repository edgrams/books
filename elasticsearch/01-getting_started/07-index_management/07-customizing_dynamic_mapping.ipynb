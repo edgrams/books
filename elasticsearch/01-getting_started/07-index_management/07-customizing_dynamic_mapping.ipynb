{
 "cells": [
  {
   "cell_type": "markdown",
   "metadata": {},
   "source": [
    "disable date detection"
   ]
  },
  {
   "cell_type": "code",
   "execution_count": 2,
   "metadata": {
    "collapsed": false
   },
   "outputs": [
    {
     "name": "stdout",
     "output_type": "stream",
     "text": [
      "{\n",
      "  \"acknowledged\" : true,\n",
      "  \"shards_acknowledged\" : true\n",
      "}\n"
     ]
    }
   ],
   "source": [
    "curl -XPUT 'localhost:9200/my_index?pretty' -H 'Content-Type: application/json' -d'\n",
    "{\n",
    "    \"mappings\": {\n",
    "        \"my_type\": {\n",
    "            \"date_detection\": false\n",
    "        }\n",
    "    }\n",
    "}\n",
    "'"
   ]
  },
  {
   "cell_type": "markdown",
   "metadata": {},
   "source": [
    "use a dynamic template, that can be customized to look for specific data"
   ]
  },
  {
   "cell_type": "code",
   "execution_count": 4,
   "metadata": {
    "collapsed": false
   },
   "outputs": [
    {
     "name": "stdout",
     "output_type": "stream",
     "text": [
      "{\n",
      "  \"acknowledged\" : true,\n",
      "  \"shards_acknowledged\" : true\n",
      "}\n"
     ]
    }
   ],
   "source": [
    "curl -XPUT 'localhost:9200/my_index?pretty' -H 'Content-Type: application/json' -d'\n",
    "{\n",
    "    \"mappings\": {\n",
    "        \"my_type\": {\n",
    "            \"dynamic_templates\": [\n",
    "                { \"es\": {\n",
    "                      \"match\":              \"*_es\", \n",
    "                      \"match_mapping_type\": \"string\",\n",
    "                      \"mapping\": {\n",
    "                          \"type\":           \"string\",\n",
    "                          \"analyzer\":       \"spanish\"\n",
    "                      }\n",
    "                }},\n",
    "                { \"en\": {\n",
    "                      \"match\":              \"*\", \n",
    "                      \"match_mapping_type\": \"string\",\n",
    "                      \"mapping\": {\n",
    "                          \"type\":           \"string\",\n",
    "                          \"analyzer\":       \"english\"\n",
    "                      }\n",
    "                }}\n",
    "            ]\n",
    "}}}\n",
    "'"
   ]
  },
  {
   "cell_type": "code",
   "execution_count": null,
   "metadata": {
    "collapsed": true
   },
   "outputs": [],
   "source": []
  }
 ],
 "metadata": {
  "kernelspec": {
   "display_name": "Bash",
   "language": "bash",
   "name": "bash"
  },
  "language_info": {
   "codemirror_mode": "shell",
   "file_extension": ".sh",
   "mimetype": "text/x-sh",
   "name": "bash"
  }
 },
 "nbformat": 4,
 "nbformat_minor": 2
}

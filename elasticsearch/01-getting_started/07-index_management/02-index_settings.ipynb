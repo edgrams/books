{
 "cells": [
  {
   "cell_type": "markdown",
   "metadata": {},
   "source": [
    "one primary shard, no replication"
   ]
  },
  {
   "cell_type": "code",
   "execution_count": 1,
   "metadata": {
    "collapsed": false
   },
   "outputs": [
    {
     "name": "stdout",
     "output_type": "stream",
     "text": [
      "{\n",
      "  \"acknowledged\" : true,\n",
      "  \"shards_acknowledged\" : true\n",
      "}\n"
     ]
    }
   ],
   "source": [
    "curl -XPUT 'localhost:9200/my_temp_index?pretty' -H 'Content-Type: application/json' -d'\n",
    "{\n",
    "    \"settings\": {\n",
    "        \"number_of_shards\" :   1,\n",
    "        \"number_of_replicas\" : 0\n",
    "    }\n",
    "}\n",
    "'"
   ]
  },
  {
   "cell_type": "markdown",
   "metadata": {},
   "source": [
    "change number of shards dynamically (and later)"
   ]
  },
  {
   "cell_type": "code",
   "execution_count": 2,
   "metadata": {
    "collapsed": false
   },
   "outputs": [
    {
     "name": "stdout",
     "output_type": "stream",
     "text": [
      "{\n",
      "  \"acknowledged\" : true\n",
      "}\n"
     ]
    }
   ],
   "source": [
    "curl -XPUT 'localhost:9200/my_temp_index/_settings?pretty' -H 'Content-Type: application/json' -d'\n",
    "{\n",
    "    \"number_of_replicas\": 1\n",
    "}\n",
    "'"
   ]
  },
  {
   "cell_type": "code",
   "execution_count": null,
   "metadata": {
    "collapsed": true
   },
   "outputs": [],
   "source": []
  }
 ],
 "metadata": {
  "kernelspec": {
   "display_name": "Bash",
   "language": "bash",
   "name": "bash"
  },
  "language_info": {
   "codemirror_mode": "shell",
   "file_extension": ".sh",
   "mimetype": "text/x-sh",
   "name": "bash"
  }
 },
 "nbformat": 4,
 "nbformat_minor": 2
}

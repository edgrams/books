{
 "cells": [
  {
   "cell_type": "markdown",
   "metadata": {
    "collapsed": true
   },
   "source": [
    "create custom analyzer"
   ]
  },
  {
   "cell_type": "code",
   "execution_count": 1,
   "metadata": {
    "collapsed": false
   },
   "outputs": [
    {
     "name": "stdout",
     "output_type": "stream",
     "text": [
      "{\n",
      "  \"acknowledged\" : true,\n",
      "  \"shards_acknowledged\" : true\n",
      "}\n"
     ]
    }
   ],
   "source": [
    "curl -XPUT 'localhost:9200/my_index?pretty' -H 'Content-Type: application/json' -d'\n",
    "{\n",
    "    \"settings\": {\n",
    "        \"analysis\": {\n",
    "            \"char_filter\": {\n",
    "                \"&_to_and\": {\n",
    "                    \"type\":       \"mapping\",\n",
    "                    \"mappings\": [ \"&=> and \"]\n",
    "            }},\n",
    "            \"filter\": {\n",
    "                \"my_stopwords\": {\n",
    "                    \"type\":       \"stop\",\n",
    "                    \"stopwords\": [ \"the\", \"a\" ]\n",
    "            }},\n",
    "            \"analyzer\": {\n",
    "                \"my_analyzer\": {\n",
    "                    \"type\":         \"custom\",\n",
    "                    \"char_filter\":  [ \"html_strip\", \"&_to_and\" ],\n",
    "                    \"tokenizer\":    \"standard\",\n",
    "                    \"filter\":       [ \"lowercase\", \"my_stopwords\" ]\n",
    "            }}\n",
    "}}}\n",
    "'"
   ]
  },
  {
   "cell_type": "markdown",
   "metadata": {},
   "source": [
    "test it out!"
   ]
  },
  {
   "cell_type": "code",
   "execution_count": 2,
   "metadata": {
    "collapsed": false
   },
   "outputs": [
    {
     "name": "stdout",
     "output_type": "stream",
     "text": [
      "{\n",
      "  \"tokens\" : [\n",
      "    {\n",
      "      \"token\" : \"quick\",\n",
      "      \"start_offset\" : 4,\n",
      "      \"end_offset\" : 9,\n",
      "      \"type\" : \"<ALPHANUM>\",\n",
      "      \"position\" : 1\n",
      "    },\n",
      "    {\n",
      "      \"token\" : \"and\",\n",
      "      \"start_offset\" : 10,\n",
      "      \"end_offset\" : 11,\n",
      "      \"type\" : \"<ALPHANUM>\",\n",
      "      \"position\" : 2\n",
      "    },\n",
      "    {\n",
      "      \"token\" : \"brown\",\n",
      "      \"start_offset\" : 12,\n",
      "      \"end_offset\" : 17,\n",
      "      \"type\" : \"<ALPHANUM>\",\n",
      "      \"position\" : 3\n",
      "    },\n",
      "    {\n",
      "      \"token\" : \"fox\",\n",
      "      \"start_offset\" : 18,\n",
      "      \"end_offset\" : 21,\n",
      "      \"type\" : \"<ALPHANUM>\",\n",
      "      \"position\" : 4\n",
      "    }\n",
      "  ]\n",
      "}\n"
     ]
    }
   ],
   "source": [
    "curl -XGET 'localhost:9200/my_index/_analyze?pretty' -H 'Content-Type: application/json' -d'\n",
    "{\n",
    "    \"text\": \"The quick & brown fox\",\n",
    "    \"analyzer\": \"my_analyzer\"\n",
    "}\n",
    "'"
   ]
  },
  {
   "cell_type": "markdown",
   "metadata": {},
   "source": [
    "apply the analyzer to a string field"
   ]
  },
  {
   "cell_type": "code",
   "execution_count": 3,
   "metadata": {
    "collapsed": false
   },
   "outputs": [
    {
     "name": "stdout",
     "output_type": "stream",
     "text": [
      "{\n",
      "  \"acknowledged\" : true\n",
      "}\n"
     ]
    }
   ],
   "source": [
    "curl -XPUT 'localhost:9200/my_index/_mapping/my_type?pretty' -H 'Content-Type: application/json' -d'\n",
    "{\n",
    "    \"properties\": {\n",
    "        \"title\": {\n",
    "            \"type\":      \"string\",\n",
    "            \"analyzer\":  \"my_analyzer\"\n",
    "        }\n",
    "    }\n",
    "}\n",
    "'"
   ]
  },
  {
   "cell_type": "code",
   "execution_count": null,
   "metadata": {
    "collapsed": true
   },
   "outputs": [],
   "source": []
  }
 ],
 "metadata": {
  "kernelspec": {
   "display_name": "Bash",
   "language": "bash",
   "name": "bash"
  },
  "language_info": {
   "codemirror_mode": "shell",
   "file_extension": ".sh",
   "mimetype": "text/x-sh",
   "name": "bash"
  }
 },
 "nbformat": 4,
 "nbformat_minor": 2
}

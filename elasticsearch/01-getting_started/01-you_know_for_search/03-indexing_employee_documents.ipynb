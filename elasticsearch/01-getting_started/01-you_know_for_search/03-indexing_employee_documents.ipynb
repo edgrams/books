{
 "cells": [
  {
   "cell_type": "markdown",
   "metadata": {},
   "source": [
    "create employee 1"
   ]
  },
  {
   "cell_type": "code",
   "execution_count": 1,
   "metadata": {
    "collapsed": false
   },
   "outputs": [
    {
     "name": "stdout",
     "output_type": "stream",
     "text": [
      "{\n",
      "  \"_index\" : \"megacorp\",\n",
      "  \"_type\" : \"employee\",\n",
      "  \"_id\" : \"1\",\n",
      "  \"_version\" : 1,\n",
      "  \"result\" : \"created\",\n",
      "  \"_shards\" : {\n",
      "    \"total\" : 2,\n",
      "    \"successful\" : 1,\n",
      "    \"failed\" : 0\n",
      "  },\n",
      "  \"created\" : true\n",
      "}\n"
     ]
    }
   ],
   "source": [
    "curl -XPUT 'localhost:9200/megacorp/employee/1?pretty' -H 'Content-Type: application/json' -d'\n",
    "{\n",
    "    \"first_name\" : \"John\",\n",
    "    \"last_name\" :  \"Smith\",\n",
    "    \"age\" :        25,\n",
    "    \"about\" :      \"I love to go rock climbing\",\n",
    "    \"interests\": [ \"sports\", \"music\" ]\n",
    "}\n",
    "'"
   ]
  },
  {
   "cell_type": "markdown",
   "metadata": {},
   "source": [
    "create employee 2 & 3"
   ]
  },
  {
   "cell_type": "code",
   "execution_count": 2,
   "metadata": {
    "collapsed": false
   },
   "outputs": [
    {
     "name": "stdout",
     "output_type": "stream",
     "text": [
      "{\n",
      "  \"_index\" : \"megacorp\",\n",
      "  \"_type\" : \"employee\",\n",
      "  \"_id\" : \"2\",\n",
      "  \"_version\" : 1,\n",
      "  \"result\" : \"created\",\n",
      "  \"_shards\" : {\n",
      "    \"total\" : 2,\n",
      "    \"successful\" : 2,\n",
      "    \"failed\" : 0\n",
      "  },\n",
      "  \"created\" : true\n",
      "}\n",
      "{\n",
      "  \"_index\" : \"megacorp\",\n",
      "  \"_type\" : \"employee\",\n",
      "  \"_id\" : \"3\",\n",
      "  \"_version\" : 1,\n",
      "  \"result\" : \"created\",\n",
      "  \"_shards\" : {\n",
      "    \"total\" : 2,\n",
      "    \"successful\" : 2,\n",
      "    \"failed\" : 0\n",
      "  },\n",
      "  \"created\" : true\n",
      "}\n"
     ]
    }
   ],
   "source": [
    "curl -XPUT 'localhost:9200/megacorp/employee/2?pretty' -H 'Content-Type: application/json' -d'\n",
    "{\n",
    "    \"first_name\" :  \"Jane\",\n",
    "    \"last_name\" :   \"Smith\",\n",
    "    \"age\" :         32,\n",
    "    \"about\" :       \"I like to collect rock albums\",\n",
    "    \"interests\":  [ \"music\" ]\n",
    "}\n",
    "'\n",
    "curl -XPUT 'localhost:9200/megacorp/employee/3?pretty' -H 'Content-Type: application/json' -d'\n",
    "{\n",
    "    \"first_name\" :  \"Douglas\",\n",
    "    \"last_name\" :   \"Fir\",\n",
    "    \"age\" :         35,\n",
    "    \"about\":        \"I like to build cabinets\",\n",
    "    \"interests\":  [ \"forestry\" ]\n",
    "}\n",
    "'"
   ]
  },
  {
   "cell_type": "code",
   "execution_count": null,
   "metadata": {
    "collapsed": true
   },
   "outputs": [],
   "source": []
  }
 ],
 "metadata": {
  "kernelspec": {
   "display_name": "Bash",
   "language": "bash",
   "name": "bash"
  },
  "language_info": {
   "codemirror_mode": "shell",
   "file_extension": ".sh",
   "mimetype": "text/x-sh",
   "name": "bash"
  }
 },
 "nbformat": 4,
 "nbformat_minor": 2
}

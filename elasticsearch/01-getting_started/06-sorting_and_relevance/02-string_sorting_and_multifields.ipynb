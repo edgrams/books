{
 "cells": [
  {
   "cell_type": "markdown",
   "metadata": {},
   "source": [
    "how do you sort an analyzed string? Create another field that is the non-analyzed raw value"
   ]
  },
  {
   "cell_type": "code",
   "execution_count": 2,
   "metadata": {
    "collapsed": false
   },
   "outputs": [
    {
     "name": "stdout",
     "output_type": "stream",
     "text": [
      "{\n",
      "  \"acknowledged\" : true\n",
      "}\n"
     ]
    }
   ],
   "source": [
    "curl -XDELETE 'localhost:9200/gb?pretty'"
   ]
  },
  {
   "cell_type": "code",
   "execution_count": 3,
   "metadata": {
    "collapsed": false
   },
   "outputs": [
    {
     "name": "stdout",
     "output_type": "stream",
     "text": [
      "{\n",
      "  \"acknowledged\" : true,\n",
      "  \"shards_acknowledged\" : true\n",
      "}\n"
     ]
    }
   ],
   "source": [
    "curl -XPUT 'localhost:9200/gb?pretty' -H 'Content-Type: application/json' -d'\n",
    "{\n",
    "  \"mappings\": {\n",
    "    \"tweet\" : {\n",
    "      \"properties\" : {\n",
    "        \"tweet\" : {\n",
    "            \"type\":    \"string\",\n",
    "            \"analyzer\": \"english\",\n",
    "            \"fields\": {\n",
    "                \"raw\": { \n",
    "                    \"type\":  \"string\",\n",
    "                    \"index\": \"not_analyzed\"\n",
    "                }\n",
    "            }\n",
    "        },\n",
    "        \"date\" : {\n",
    "          \"type\" :   \"date\"\n",
    "        },\n",
    "        \"name\" : {\n",
    "          \"type\" :   \"string\"\n",
    "        },\n",
    "        \"user_id\" : {\n",
    "          \"type\" :   \"long\"\n",
    "        }\n",
    "      }\n",
    "    }\n",
    "  }\n",
    "}\n",
    "'"
   ]
  },
  {
   "cell_type": "code",
   "execution_count": 4,
   "metadata": {
    "collapsed": false
   },
   "outputs": [
    {
     "name": "stdout",
     "output_type": "stream",
     "text": [
      "{\n",
      "  \"took\" : 14,\n",
      "  \"timed_out\" : false,\n",
      "  \"_shards\" : {\n",
      "    \"total\" : 19,\n",
      "    \"successful\" : 5,\n",
      "    \"failed\" : 14,\n",
      "    \"failures\" : [\n",
      "      {\n",
      "        \"shard\" : 0,\n",
      "        \"index\" : \".kibana\",\n",
      "        \"node\" : \"FP3DCIqWT3GoWyZhWVxT3Q\",\n",
      "        \"reason\" : {\n",
      "          \"type\" : \"query_shard_exception\",\n",
      "          \"reason\" : \"No mapping found for [tweet.raw] in order to sort on\",\n",
      "          \"index_uuid\" : \"efHZ4fUIQ6ipDyP4oqN1PQ\",\n",
      "          \"index\" : \".kibana\"\n",
      "        }\n",
      "      },\n",
      "      {\n",
      "        \"shard\" : 0,\n",
      "        \"index\" : \"blogs\",\n",
      "        \"node\" : \"TI3DLtcnTOSalIEVNU1pHw\",\n",
      "        \"reason\" : {\n",
      "          \"type\" : \"query_shard_exception\",\n",
      "          \"reason\" : \"No mapping found for [tweet.raw] in order to sort on\",\n",
      "          \"index_uuid\" : \"yYg4kdQbSmCOT2WTQeVj1g\",\n",
      "          \"index\" : \"blogs\"\n",
      "        }\n",
      "      },\n",
      "      {\n",
      "        \"shard\" : 0,\n",
      "        \"index\" : \"megacorp\",\n",
      "        \"node\" : \"FP3DCIqWT3GoWyZhWVxT3Q\",\n",
      "        \"reason\" : {\n",
      "          \"type\" : \"query_shard_exception\",\n",
      "          \"reason\" : \"No mapping found for [tweet.raw] in order to sort on\",\n",
      "          \"index_uuid\" : \"qlulJeZ5Snu2jKt3f7c_9A\",\n",
      "          \"index\" : \"megacorp\"\n",
      "        }\n",
      "      },\n",
      "      {\n",
      "        \"shard\" : 0,\n",
      "        \"index\" : \"us\",\n",
      "        \"node\" : \"FP3DCIqWT3GoWyZhWVxT3Q\",\n",
      "        \"reason\" : {\n",
      "          \"type\" : \"query_shard_exception\",\n",
      "          \"reason\" : \"No mapping found for [tweet.raw] in order to sort on\",\n",
      "          \"index_uuid\" : \"WOW_HNfLSPWn-OTbwIjVWA\",\n",
      "          \"index\" : \"us\"\n",
      "        }\n",
      "      }\n",
      "    ]\n",
      "  },\n",
      "  \"hits\" : {\n",
      "    \"total\" : 4,\n",
      "    \"max_score\" : null,\n",
      "    \"hits\" : [\n",
      "      {\n",
      "        \"_index\" : \"gb\",\n",
      "        \"_type\" : \"tweet\",\n",
      "        \"_id\" : \"11\",\n",
      "        \"_score\" : null,\n",
      "        \"_source\" : {\n",
      "          \"date\" : \"2014-09-21\",\n",
      "          \"name\" : \"Mary Jones\",\n",
      "          \"tweet\" : \"Elasticsearch is built for the cloud, easy to scale\",\n",
      "          \"user_id\" : 2\n",
      "        },\n",
      "        \"sort\" : [\n",
      "          \"Elasticsearch is built for the cloud, easy to scale\"\n",
      "        ]\n",
      "      },\n",
      "      {\n",
      "        \"_index\" : \"gb\",\n",
      "        \"_type\" : \"tweet\",\n",
      "        \"_id\" : \"3\",\n",
      "        \"_score\" : null,\n",
      "        \"_source\" : {\n",
      "          \"date\" : \"2014-09-13\",\n",
      "          \"name\" : \"Mary Jones\",\n",
      "          \"tweet\" : \"Elasticsearch means full text search has never been so easy\",\n",
      "          \"user_id\" : 2\n",
      "        },\n",
      "        \"sort\" : [\n",
      "          \"Elasticsearch means full text search has never been so easy\"\n",
      "        ]\n",
      "      },\n",
      "      {\n",
      "        \"_index\" : \"gb\",\n",
      "        \"_type\" : \"tweet\",\n",
      "        \"_id\" : \"5\",\n",
      "        \"_score\" : null,\n",
      "        \"_source\" : {\n",
      "          \"date\" : \"2014-09-15\",\n",
      "          \"name\" : \"Mary Jones\",\n",
      "          \"tweet\" : \"However did I manage before Elasticsearch?\",\n",
      "          \"user_id\" : 2\n",
      "        },\n",
      "        \"sort\" : [\n",
      "          \"However did I manage before Elasticsearch?\"\n",
      "        ]\n",
      "      },\n",
      "      {\n",
      "        \"_index\" : \"gb\",\n",
      "        \"_type\" : \"tweet\",\n",
      "        \"_id\" : \"13\",\n",
      "        \"_score\" : null,\n",
      "        \"_source\" : {\n",
      "          \"date\" : \"2014-09-23\",\n",
      "          \"name\" : \"Mary Jones\",\n",
      "          \"tweet\" : \"So yes, I am an Elasticsearch fanboy\",\n",
      "          \"user_id\" : 2\n",
      "        },\n",
      "        \"sort\" : [\n",
      "          \"So yes, I am an Elasticsearch fanboy\"\n",
      "        ]\n",
      "      }\n",
      "    ]\n",
      "  }\n",
      "}\n"
     ]
    }
   ],
   "source": [
    "curl -XGET 'localhost:9200/_search?pretty' -H 'Content-Type: application/json' -d'\n",
    "{\n",
    "    \"query\": {\n",
    "        \"match\": {\n",
    "            \"tweet\": \"elasticsearch\"\n",
    "        }\n",
    "    },\n",
    "    \"sort\": \"tweet.raw\"\n",
    "}\n",
    "'"
   ]
  },
  {
   "cell_type": "code",
   "execution_count": null,
   "metadata": {
    "collapsed": true
   },
   "outputs": [],
   "source": []
  }
 ],
 "metadata": {
  "kernelspec": {
   "display_name": "Bash",
   "language": "bash",
   "name": "bash"
  },
  "language_info": {
   "codemirror_mode": "shell",
   "file_extension": ".sh",
   "mimetype": "text/x-sh",
   "name": "bash"
  }
 },
 "nbformat": 4,
 "nbformat_minor": 2
}

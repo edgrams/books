{
 "cells": [
  {
   "cell_type": "markdown",
   "metadata": {},
   "source": [
    "combine queries, some have to match, some should (will rank higher if it does)"
   ]
  },
  {
   "cell_type": "code",
   "execution_count": 1,
   "metadata": {
    "collapsed": false
   },
   "outputs": [
    {
     "name": "stdout",
     "output_type": "stream",
     "text": [
      "{\n",
      "  \"took\" : 3,\n",
      "  \"timed_out\" : false,\n",
      "  \"_shards\" : {\n",
      "    \"total\" : 19,\n",
      "    \"successful\" : 19,\n",
      "    \"failed\" : 0\n",
      "  },\n",
      "  \"hits\" : {\n",
      "    \"total\" : 0,\n",
      "    \"max_score\" : null,\n",
      "    \"hits\" : [ ]\n",
      "  }\n",
      "}\n"
     ]
    }
   ],
   "source": [
    "curl -XGET 'localhost:9200/_search?pretty' -H 'Content-Type: application/json' -d'\n",
    "{\n",
    "    \"query\": {\n",
    "      \"bool\": {\n",
    "        \"must\":     { \"match\": { \"title\": \"how to make millions\" }},\n",
    "        \"must_not\": { \"match\": { \"tag\":   \"spam\" }},\n",
    "        \"should\": [\n",
    "            { \"match\": { \"tag\": \"starred\" }},\n",
    "            { \"range\": { \"date\": { \"gte\": \"2014-01-01\" }}}\n",
    "        ]\n",
    "      }\n",
    "    }\n",
    "}\n",
    "'"
   ]
  },
  {
   "cell_type": "markdown",
   "metadata": {},
   "source": [
    "use a filter to avoid affecting the scoring"
   ]
  },
  {
   "cell_type": "code",
   "execution_count": 2,
   "metadata": {
    "collapsed": false
   },
   "outputs": [
    {
     "name": "stdout",
     "output_type": "stream",
     "text": [
      "{\n",
      "  \"took\" : 7,\n",
      "  \"timed_out\" : false,\n",
      "  \"_shards\" : {\n",
      "    \"total\" : 19,\n",
      "    \"successful\" : 19,\n",
      "    \"failed\" : 0\n",
      "  },\n",
      "  \"hits\" : {\n",
      "    \"total\" : 0,\n",
      "    \"max_score\" : null,\n",
      "    \"hits\" : [ ]\n",
      "  }\n",
      "}\n"
     ]
    }
   ],
   "source": [
    "curl -XGET 'localhost:9200/_search?pretty' -H 'Content-Type: application/json' -d'\n",
    "{\n",
    "    \"query\": {\n",
    "      \"bool\": {\n",
    "        \"must\":     { \"match\": { \"title\": \"how to make millions\" }},\n",
    "        \"must_not\": { \"match\": { \"tag\":   \"spam\" }},\n",
    "        \"should\": [\n",
    "            { \"match\": { \"tag\": \"starred\" }}\n",
    "        ],\n",
    "        \"filter\": {\n",
    "          \"range\": { \"date\": { \"gte\": \"2014-01-01\" }}\n",
    "        }\n",
    "      }\n",
    "    }\n",
    "}\n",
    "'"
   ]
  },
  {
   "cell_type": "markdown",
   "metadata": {},
   "source": [
    "using bool inside a filter, automatically makes it a non-scoring (filter)"
   ]
  },
  {
   "cell_type": "code",
   "execution_count": 3,
   "metadata": {
    "collapsed": false
   },
   "outputs": [
    {
     "name": "stdout",
     "output_type": "stream",
     "text": [
      "{\n",
      "  \"took\" : 2,\n",
      "  \"timed_out\" : false,\n",
      "  \"_shards\" : {\n",
      "    \"total\" : 19,\n",
      "    \"successful\" : 19,\n",
      "    \"failed\" : 0\n",
      "  },\n",
      "  \"hits\" : {\n",
      "    \"total\" : 0,\n",
      "    \"max_score\" : null,\n",
      "    \"hits\" : [ ]\n",
      "  }\n",
      "}\n"
     ]
    }
   ],
   "source": [
    "curl -XGET 'localhost:9200/_search?pretty' -H 'Content-Type: application/json' -d'\n",
    "{\n",
    "    \"query\": {\n",
    "      \"bool\": {\n",
    "        \"must\":     { \"match\": { \"title\": \"how to make millions\" }},\n",
    "        \"must_not\": { \"match\": { \"tag\":   \"spam\" }},\n",
    "        \"should\": [\n",
    "            { \"match\": { \"tag\": \"starred\" }}\n",
    "        ],\n",
    "        \"filter\": {\n",
    "          \"bool\": { \n",
    "              \"must\": [\n",
    "                  { \"range\": { \"date\": { \"gte\": \"2014-01-01\" }}},\n",
    "                  { \"range\": { \"price\": { \"lte\": 29.99 }}}\n",
    "              ],\n",
    "              \"must_not\": [\n",
    "                  { \"term\": { \"category\": \"ebooks\" }}\n",
    "              ]\n",
    "          }\n",
    "        }\n",
    "      }\n",
    "    }\n",
    "}\n",
    "'"
   ]
  },
  {
   "cell_type": "markdown",
   "metadata": {},
   "source": [
    "use constant_score to apply a constant score to all results"
   ]
  },
  {
   "cell_type": "code",
   "execution_count": 4,
   "metadata": {
    "collapsed": false
   },
   "outputs": [
    {
     "name": "stdout",
     "output_type": "stream",
     "text": [
      "{\n",
      "  \"took\" : 6,\n",
      "  \"timed_out\" : false,\n",
      "  \"_shards\" : {\n",
      "    \"total\" : 19,\n",
      "    \"successful\" : 19,\n",
      "    \"failed\" : 0\n",
      "  },\n",
      "  \"hits\" : {\n",
      "    \"total\" : 0,\n",
      "    \"max_score\" : null,\n",
      "    \"hits\" : [ ]\n",
      "  }\n",
      "}\n"
     ]
    }
   ],
   "source": [
    "curl -XGET 'localhost:9200/_search?pretty' -H 'Content-Type: application/json' -d'\n",
    "{\n",
    "    \"query\": {\n",
    "        \"constant_score\":   {\n",
    "            \"filter\": {\n",
    "                \"term\": { \"category\": \"ebooks\" } \n",
    "            }\n",
    "        }\n",
    "    }\n",
    "}\n",
    "'"
   ]
  },
  {
   "cell_type": "code",
   "execution_count": null,
   "metadata": {
    "collapsed": true
   },
   "outputs": [],
   "source": []
  }
 ],
 "metadata": {
  "kernelspec": {
   "display_name": "Bash",
   "language": "bash",
   "name": "bash"
  },
  "language_info": {
   "codemirror_mode": "shell",
   "file_extension": ".sh",
   "mimetype": "text/x-sh",
   "name": "bash"
  }
 },
 "nbformat": 4,
 "nbformat_minor": 2
}

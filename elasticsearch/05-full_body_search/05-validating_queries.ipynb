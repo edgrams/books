{
 "cells": [
  {
   "cell_type": "markdown",
   "metadata": {},
   "source": [
    "check if query is valid"
   ]
  },
  {
   "cell_type": "code",
   "execution_count": 1,
   "metadata": {
    "collapsed": false
   },
   "outputs": [
    {
     "name": "stdout",
     "output_type": "stream",
     "text": [
      "{\n",
      "  \"valid\" : false\n",
      "}\n"
     ]
    }
   ],
   "source": [
    "curl -XGET 'localhost:9200/gb/tweet/_validate/query?pretty' -H 'Content-Type: application/json' -d'\n",
    "{\n",
    "   \"query\": {\n",
    "      \"tweet\" : {\n",
    "         \"match\" : \"really powerful\"\n",
    "      }\n",
    "   }\n",
    "}\n",
    "'"
   ]
  },
  {
   "cell_type": "markdown",
   "metadata": {},
   "source": [
    "use explain to find out why it is invalid"
   ]
  },
  {
   "cell_type": "code",
   "execution_count": 2,
   "metadata": {
    "collapsed": false
   },
   "outputs": [
    {
     "name": "stdout",
     "output_type": "stream",
     "text": [
      "{\n",
      "  \"valid\" : false,\n",
      "  \"error\" : \"org.elasticsearch.common.ParsingException: no [query] registered for [tweet]\"\n",
      "}\n"
     ]
    }
   ],
   "source": [
    "curl -XGET 'localhost:9200/gb/tweet/_validate/query?explain&pretty' -H 'Content-Type: application/json' -d'\n",
    "{\n",
    "   \"query\": {\n",
    "      \"tweet\" : {\n",
    "         \"match\" : \"really powerful\"\n",
    "      }\n",
    "   }\n",
    "}\n",
    "'"
   ]
  },
  {
   "cell_type": "markdown",
   "metadata": {},
   "source": [
    "understand valid queries, also see how analyzer affects results"
   ]
  },
  {
   "cell_type": "code",
   "execution_count": 3,
   "metadata": {
    "collapsed": false
   },
   "outputs": [
    {
     "name": "stdout",
     "output_type": "stream",
     "text": [
      "{\n",
      "  \"valid\" : true,\n",
      "  \"_shards\" : {\n",
      "    \"total\" : 5,\n",
      "    \"successful\" : 5,\n",
      "    \"failed\" : 0\n",
      "  },\n",
      "  \"explanations\" : [\n",
      "    {\n",
      "      \"index\" : \".kibana\",\n",
      "      \"valid\" : true,\n",
      "      \"explanation\" : \"tweet:really tweet:powerful\"\n",
      "    },\n",
      "    {\n",
      "      \"index\" : \"blogs\",\n",
      "      \"valid\" : true,\n",
      "      \"explanation\" : \"tweet:really tweet:powerful\"\n",
      "    },\n",
      "    {\n",
      "      \"index\" : \"gb\",\n",
      "      \"valid\" : true,\n",
      "      \"explanation\" : \"tweet:realli tweet:power\"\n",
      "    },\n",
      "    {\n",
      "      \"index\" : \"megacorp\",\n",
      "      \"valid\" : true,\n",
      "      \"explanation\" : \"tweet:really tweet:powerful\"\n",
      "    },\n",
      "    {\n",
      "      \"index\" : \"us\",\n",
      "      \"valid\" : true,\n",
      "      \"explanation\" : \"tweet:really tweet:powerful\"\n",
      "    }\n",
      "  ]\n",
      "}\n"
     ]
    }
   ],
   "source": [
    "curl -XGET 'localhost:9200/_validate/query?explain&pretty' -H 'Content-Type: application/json' -d'\n",
    "{\n",
    "   \"query\": {\n",
    "      \"match\" : {\n",
    "         \"tweet\" : \"really powerful\"\n",
    "      }\n",
    "   }\n",
    "}\n",
    "'"
   ]
  },
  {
   "cell_type": "code",
   "execution_count": null,
   "metadata": {
    "collapsed": true
   },
   "outputs": [],
   "source": []
  }
 ],
 "metadata": {
  "kernelspec": {
   "display_name": "Bash",
   "language": "bash",
   "name": "bash"
  },
  "language_info": {
   "codemirror_mode": "shell",
   "file_extension": ".sh",
   "mimetype": "text/x-sh",
   "name": "bash"
  }
 },
 "nbformat": 4,
 "nbformat_minor": 2
}

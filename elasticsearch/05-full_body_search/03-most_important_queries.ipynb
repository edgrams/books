{
 "cells": [
  {
   "cell_type": "markdown",
   "metadata": {},
   "source": [
    "match all query"
   ]
  },
  {
   "cell_type": "code",
   "execution_count": 2,
   "metadata": {
    "collapsed": false
   },
   "outputs": [
    {
     "name": "stdout",
     "output_type": "stream",
     "text": [
      "{\n",
      "  \"took\" : 3,\n",
      "  \"timed_out\" : false,\n",
      "  \"_shards\" : {\n",
      "    \"total\" : 19,\n",
      "    \"successful\" : 19,\n",
      "    \"failed\" : 0\n",
      "  },\n",
      "  \"hits\" : {\n",
      "    \"total\" : 18,\n",
      "    \"max_score\" : 1.0,\n",
      "    \"hits\" : [\n",
      "      {\n",
      "        \"_index\" : \".kibana\",\n",
      "        \"_type\" : \"config\",\n",
      "        \"_id\" : \"5.2.2\",\n",
      "        \"_score\" : 1.0,\n",
      "        \"_source\" : {\n",
      "          \"buildNum\" : 14723\n",
      "        }\n",
      "      },\n",
      "      {\n",
      "        \"_index\" : \"us\",\n",
      "        \"_type\" : \"tweet\",\n",
      "        \"_id\" : \"14\",\n",
      "        \"_score\" : 1.0,\n",
      "        \"_source\" : {\n",
      "          \"date\" : \"2014-09-24\",\n",
      "          \"name\" : \"John Smith\",\n",
      "          \"tweet\" : \"How many more cheesy tweets do I have to write?\",\n",
      "          \"user_id\" : 1\n",
      "        }\n",
      "      },\n",
      "      {\n",
      "        \"_index\" : \"gb\",\n",
      "        \"_type\" : \"tweet\",\n",
      "        \"_id\" : \"5\",\n",
      "        \"_score\" : 1.0,\n",
      "        \"_source\" : {\n",
      "          \"date\" : \"2014-09-15\",\n",
      "          \"name\" : \"Mary Jones\",\n",
      "          \"tweet\" : \"However did I manage before Elasticsearch?\",\n",
      "          \"user_id\" : 2\n",
      "        }\n",
      "      },\n",
      "      {\n",
      "        \"_index\" : \"gb\",\n",
      "        \"_type\" : \"tweet\",\n",
      "        \"_id\" : \"9\",\n",
      "        \"_score\" : 1.0,\n",
      "        \"_source\" : {\n",
      "          \"date\" : \"2014-09-19\",\n",
      "          \"name\" : \"Mary Jones\",\n",
      "          \"tweet\" : \"Geo-location aggregations are really cool\",\n",
      "          \"user_id\" : 2\n",
      "        }\n",
      "      },\n",
      "      {\n",
      "        \"_index\" : \"us\",\n",
      "        \"_type\" : \"tweet\",\n",
      "        \"_id\" : \"8\",\n",
      "        \"_score\" : 1.0,\n",
      "        \"_source\" : {\n",
      "          \"date\" : \"2014-09-18\",\n",
      "          \"name\" : \"John Smith\",\n",
      "          \"user_id\" : 1\n",
      "        }\n",
      "      },\n",
      "      {\n",
      "        \"_index\" : \"us\",\n",
      "        \"_type\" : \"tweet\",\n",
      "        \"_id\" : \"10\",\n",
      "        \"_score\" : 1.0,\n",
      "        \"_source\" : {\n",
      "          \"date\" : \"2014-09-20\",\n",
      "          \"name\" : \"John Smith\",\n",
      "          \"tweet\" : \"Elasticsearch surely is one of the hottest new NoSQL products\",\n",
      "          \"user_id\" : 1\n",
      "        }\n",
      "      },\n",
      "      {\n",
      "        \"_index\" : \"us\",\n",
      "        \"_type\" : \"tweet\",\n",
      "        \"_id\" : \"12\",\n",
      "        \"_score\" : 1.0,\n",
      "        \"_source\" : {\n",
      "          \"date\" : \"2014-09-22\",\n",
      "          \"name\" : \"John Smith\",\n",
      "          \"tweet\" : \"Elasticsearch and I have left the honeymoon stage, and I still love her.\",\n",
      "          \"user_id\" : 1\n",
      "        }\n",
      "      },\n",
      "      {\n",
      "        \"_index\" : \"gb\",\n",
      "        \"_type\" : \"user\",\n",
      "        \"_id\" : \"2\",\n",
      "        \"_score\" : 1.0,\n",
      "        \"_source\" : {\n",
      "          \"email\" : \"mary@jones.com\",\n",
      "          \"name\" : \"Mary Jones\",\n",
      "          \"username\" : \"@mary\"\n",
      "        }\n",
      "      },\n",
      "      {\n",
      "        \"_index\" : \"megacorp\",\n",
      "        \"_type\" : \"employee\",\n",
      "        \"_id\" : \"2\",\n",
      "        \"_score\" : 1.0,\n",
      "        \"_source\" : {\n",
      "          \"first_name\" : \"Jane\",\n",
      "          \"last_name\" : \"Smith\",\n",
      "          \"age\" : 32,\n",
      "          \"about\" : \"I like to collect rock albums\",\n",
      "          \"interests\" : [\n",
      "            \"music\"\n",
      "          ]\n",
      "        }\n",
      "      },\n",
      "      {\n",
      "        \"_index\" : \"us\",\n",
      "        \"_type\" : \"tweet\",\n",
      "        \"_id\" : \"4\",\n",
      "        \"_score\" : 1.0,\n",
      "        \"_source\" : {\n",
      "          \"date\" : \"2014-09-14\",\n",
      "          \"name\" : \"John Smith\",\n",
      "          \"tweet\" : \"@mary it is not just text, it does everything\",\n",
      "          \"user_id\" : 1\n",
      "        }\n",
      "      }\n",
      "    ]\n",
      "  }\n",
      "}\n"
     ]
    }
   ],
   "source": [
    "curl -XGET 'localhost:9200/_search?pretty' -H 'Content-Type: application/json' -d'\n",
    "{\n",
    "    \"query\": {\n",
    "        \"match_all\": {}\n",
    "    }\n",
    "}\n",
    "'"
   ]
  },
  {
   "cell_type": "markdown",
   "metadata": {},
   "source": [
    "match query - uses correct analyzer"
   ]
  },
  {
   "cell_type": "code",
   "execution_count": 3,
   "metadata": {
    "collapsed": false
   },
   "outputs": [
    {
     "name": "stdout",
     "output_type": "stream",
     "text": [
      "{\n",
      "  \"took\" : 3,\n",
      "  \"timed_out\" : false,\n",
      "  \"_shards\" : {\n",
      "    \"total\" : 19,\n",
      "    \"successful\" : 19,\n",
      "    \"failed\" : 0\n",
      "  },\n",
      "  \"hits\" : {\n",
      "    \"total\" : 1,\n",
      "    \"max_score\" : 0.6030227,\n",
      "    \"hits\" : [\n",
      "      {\n",
      "        \"_index\" : \"gb\",\n",
      "        \"_type\" : \"tweet\",\n",
      "        \"_id\" : \"3\",\n",
      "        \"_score\" : 0.6030227,\n",
      "        \"_source\" : {\n",
      "          \"date\" : \"2014-09-13\",\n",
      "          \"name\" : \"Mary Jones\",\n",
      "          \"tweet\" : \"Elasticsearch means full text search has never been so easy\",\n",
      "          \"user_id\" : 2\n",
      "        }\n",
      "      }\n",
      "    ]\n",
      "  }\n",
      "}\n"
     ]
    }
   ],
   "source": [
    "curl -XGET 'localhost:9200/_search?pretty' -H 'Content-Type: application/json' -d'\n",
    "{\n",
    "    \"query\": {\n",
    "        \"match\": { \"tweet\": \"About Search\" }\n",
    "    }\n",
    "}\n",
    "'"
   ]
  },
  {
   "cell_type": "markdown",
   "metadata": {},
   "source": [
    "look for exact matches (text not analyzed field)"
   ]
  },
  {
   "cell_type": "code",
   "execution_count": 4,
   "metadata": {
    "collapsed": false
   },
   "outputs": [
    {
     "name": "stdout",
     "output_type": "stream",
     "text": [
      "{\n",
      "  \"took\" : 4,\n",
      "  \"timed_out\" : false,\n",
      "  \"_shards\" : {\n",
      "    \"total\" : 19,\n",
      "    \"successful\" : 19,\n",
      "    \"failed\" : 0\n",
      "  },\n",
      "  \"hits\" : {\n",
      "    \"total\" : 0,\n",
      "    \"max_score\" : null,\n",
      "    \"hits\" : [ ]\n",
      "  }\n",
      "}\n"
     ]
    }
   ],
   "source": [
    "curl -XGET 'localhost:9200/_search?pretty' -H 'Content-Type: application/json' -d'\n",
    "{\n",
    "    \"query\": {\n",
    "      \"bool\": {\n",
    "        \"should\": [\n",
    "          { \"match\": { \"age\": 26 }},\n",
    "          { \"match\": { \"date\":  \"2014-09-01\" }},\n",
    "          { \"match\": { \"public\": true }},\n",
    "          { \"match\": { \"tag\": \"full_text\" }}\n",
    "        ]\n",
    "      }\n",
    "    }\n",
    "}\n",
    "'"
   ]
  },
  {
   "cell_type": "markdown",
   "metadata": {},
   "source": [
    "multi-match allows you to run the same query on multiple fields"
   ]
  },
  {
   "cell_type": "code",
   "execution_count": 5,
   "metadata": {
    "collapsed": false
   },
   "outputs": [
    {
     "name": "stdout",
     "output_type": "stream",
     "text": [
      "{\n",
      "  \"took\" : 4,\n",
      "  \"timed_out\" : false,\n",
      "  \"_shards\" : {\n",
      "    \"total\" : 19,\n",
      "    \"successful\" : 19,\n",
      "    \"failed\" : 0\n",
      "  },\n",
      "  \"hits\" : {\n",
      "    \"total\" : 0,\n",
      "    \"max_score\" : null,\n",
      "    \"hits\" : [ ]\n",
      "  }\n",
      "}\n"
     ]
    }
   ],
   "source": [
    "curl -XGET 'localhost:9200/_search?pretty' -H 'Content-Type: application/json' -d'\n",
    "{\n",
    "    \"query\": {\n",
    "      \"multi_match\": {\n",
    "        \"query\":  \"full text search\",\n",
    "        \"fields\": [ \"title\", \"body\" ]\n",
    "      }\n",
    "    }\n",
    "}\n",
    "'"
   ]
  },
  {
   "cell_type": "markdown",
   "metadata": {},
   "source": [
    "range query allows you to find numbers and dates in a specified range"
   ]
  },
  {
   "cell_type": "code",
   "execution_count": 6,
   "metadata": {
    "collapsed": false
   },
   "outputs": [
    {
     "name": "stdout",
     "output_type": "stream",
     "text": [
      "{\n",
      "  \"took\" : 2,\n",
      "  \"timed_out\" : false,\n",
      "  \"_shards\" : {\n",
      "    \"total\" : 19,\n",
      "    \"successful\" : 19,\n",
      "    \"failed\" : 0\n",
      "  },\n",
      "  \"hits\" : {\n",
      "    \"total\" : 1,\n",
      "    \"max_score\" : 1.0,\n",
      "    \"hits\" : [\n",
      "      {\n",
      "        \"_index\" : \"megacorp\",\n",
      "        \"_type\" : \"employee\",\n",
      "        \"_id\" : \"1\",\n",
      "        \"_score\" : 1.0,\n",
      "        \"_source\" : {\n",
      "          \"first_name\" : \"John\",\n",
      "          \"last_name\" : \"Smith\",\n",
      "          \"age\" : 25,\n",
      "          \"about\" : \"I love to go rock climbing\",\n",
      "          \"interests\" : [\n",
      "            \"sports\",\n",
      "            \"music\"\n",
      "          ]\n",
      "        }\n",
      "      }\n",
      "    ]\n",
      "  }\n",
      "}\n"
     ]
    }
   ],
   "source": [
    "curl -XGET 'localhost:9200/_search?pretty' -H 'Content-Type: application/json' -d'\n",
    "{\n",
    "    \"query\": {\n",
    "      \"range\": {\n",
    "        \"age\": {\n",
    "          \"gte\":  20,\n",
    "          \"lt\": 30\n",
    "        }\n",
    "      }\n",
    "    }\n",
    "}\n",
    "'"
   ]
  },
  {
   "cell_type": "markdown",
   "metadata": {},
   "source": [
    "term query looks for exact values with no analyzer"
   ]
  },
  {
   "cell_type": "code",
   "execution_count": 7,
   "metadata": {
    "collapsed": false
   },
   "outputs": [
    {
     "name": "stdout",
     "output_type": "stream",
     "text": [
      "{\n",
      "  \"took\" : 3,\n",
      "  \"timed_out\" : false,\n",
      "  \"_shards\" : {\n",
      "    \"total\" : 19,\n",
      "    \"successful\" : 19,\n",
      "    \"failed\" : 0\n",
      "  },\n",
      "  \"hits\" : {\n",
      "    \"total\" : 0,\n",
      "    \"max_score\" : null,\n",
      "    \"hits\" : [ ]\n",
      "  }\n",
      "}\n"
     ]
    }
   ],
   "source": [
    "curl -XGET 'localhost:9200/_search?pretty' -H 'Content-Type: application/json' -d'\n",
    "{\n",
    "    \"query\": {\n",
    "      \"bool\": {\n",
    "        \"should\": [\n",
    "          { \"term\": { \"age\":  26  }},\n",
    "          { \"term\": { \"date\": \"2014-09-01\" }},\n",
    "          { \"term\": { \"public\": true  }},\n",
    "          { \"term\": { \"tag\":  \"full_text\" }}\n",
    "        ]\n",
    "      }\n",
    "    }\n",
    "}\n",
    "'"
   ]
  },
  {
   "cell_type": "markdown",
   "metadata": {},
   "source": [
    "terms allow you to search for more than one value for a given field"
   ]
  },
  {
   "cell_type": "code",
   "execution_count": 8,
   "metadata": {
    "collapsed": false
   },
   "outputs": [
    {
     "name": "stdout",
     "output_type": "stream",
     "text": [
      "{\n",
      "  \"took\" : 3,\n",
      "  \"timed_out\" : false,\n",
      "  \"_shards\" : {\n",
      "    \"total\" : 19,\n",
      "    \"successful\" : 19,\n",
      "    \"failed\" : 0\n",
      "  },\n",
      "  \"hits\" : {\n",
      "    \"total\" : 0,\n",
      "    \"max_score\" : null,\n",
      "    \"hits\" : [ ]\n",
      "  }\n",
      "}\n"
     ]
    }
   ],
   "source": [
    "curl -XGET 'localhost:9200/_search?pretty' -H 'Content-Type: application/json' -d'\n",
    "{\n",
    "    \"query\": {\n",
    "      \"terms\": { \"tag\": [ \"search\", \"full_text\", \"nosql\" ] }\n",
    "    }\n",
    "}\n",
    "'"
   ]
  },
  {
   "cell_type": "markdown",
   "metadata": {},
   "source": [
    "exists inspects to see if there or one or more values for a given field"
   ]
  },
  {
   "cell_type": "code",
   "execution_count": 9,
   "metadata": {
    "collapsed": false
   },
   "outputs": [
    {
     "name": "stdout",
     "output_type": "stream",
     "text": [
      "{\n",
      "  \"took\" : 1,\n",
      "  \"timed_out\" : false,\n",
      "  \"_shards\" : {\n",
      "    \"total\" : 19,\n",
      "    \"successful\" : 19,\n",
      "    \"failed\" : 0\n",
      "  },\n",
      "  \"hits\" : {\n",
      "    \"total\" : 0,\n",
      "    \"max_score\" : null,\n",
      "    \"hits\" : [ ]\n",
      "  }\n",
      "}\n"
     ]
    }
   ],
   "source": [
    "curl -XGET 'localhost:9200/_search?pretty' -H 'Content-Type: application/json' -d'\n",
    "{\n",
    "    \"query\": {\n",
    "        \"exists\":   {\n",
    "            \"field\": \"title\"\n",
    "        }\n",
    "    }\n",
    "}\n",
    "'"
   ]
  },
  {
   "cell_type": "markdown",
   "metadata": {},
   "source": [
    "opposite of exist using 'must_not'"
   ]
  },
  {
   "cell_type": "code",
   "execution_count": 10,
   "metadata": {
    "collapsed": false
   },
   "outputs": [
    {
     "name": "stdout",
     "output_type": "stream",
     "text": [
      "{\n",
      "  \"took\" : 3,\n",
      "  \"timed_out\" : false,\n",
      "  \"_shards\" : {\n",
      "    \"total\" : 19,\n",
      "    \"successful\" : 19,\n",
      "    \"failed\" : 0\n",
      "  },\n",
      "  \"hits\" : {\n",
      "    \"total\" : 18,\n",
      "    \"max_score\" : 1.0,\n",
      "    \"hits\" : [\n",
      "      {\n",
      "        \"_index\" : \".kibana\",\n",
      "        \"_type\" : \"config\",\n",
      "        \"_id\" : \"5.2.2\",\n",
      "        \"_score\" : 1.0,\n",
      "        \"_source\" : {\n",
      "          \"buildNum\" : 14723\n",
      "        }\n",
      "      },\n",
      "      {\n",
      "        \"_index\" : \"us\",\n",
      "        \"_type\" : \"tweet\",\n",
      "        \"_id\" : \"14\",\n",
      "        \"_score\" : 1.0,\n",
      "        \"_source\" : {\n",
      "          \"date\" : \"2014-09-24\",\n",
      "          \"name\" : \"John Smith\",\n",
      "          \"tweet\" : \"How many more cheesy tweets do I have to write?\",\n",
      "          \"user_id\" : 1\n",
      "        }\n",
      "      },\n",
      "      {\n",
      "        \"_index\" : \"gb\",\n",
      "        \"_type\" : \"tweet\",\n",
      "        \"_id\" : \"5\",\n",
      "        \"_score\" : 1.0,\n",
      "        \"_source\" : {\n",
      "          \"date\" : \"2014-09-15\",\n",
      "          \"name\" : \"Mary Jones\",\n",
      "          \"tweet\" : \"However did I manage before Elasticsearch?\",\n",
      "          \"user_id\" : 2\n",
      "        }\n",
      "      },\n",
      "      {\n",
      "        \"_index\" : \"gb\",\n",
      "        \"_type\" : \"tweet\",\n",
      "        \"_id\" : \"9\",\n",
      "        \"_score\" : 1.0,\n",
      "        \"_source\" : {\n",
      "          \"date\" : \"2014-09-19\",\n",
      "          \"name\" : \"Mary Jones\",\n",
      "          \"tweet\" : \"Geo-location aggregations are really cool\",\n",
      "          \"user_id\" : 2\n",
      "        }\n",
      "      },\n",
      "      {\n",
      "        \"_index\" : \"us\",\n",
      "        \"_type\" : \"tweet\",\n",
      "        \"_id\" : \"8\",\n",
      "        \"_score\" : 1.0,\n",
      "        \"_source\" : {\n",
      "          \"date\" : \"2014-09-18\",\n",
      "          \"name\" : \"John Smith\",\n",
      "          \"user_id\" : 1\n",
      "        }\n",
      "      },\n",
      "      {\n",
      "        \"_index\" : \"us\",\n",
      "        \"_type\" : \"tweet\",\n",
      "        \"_id\" : \"10\",\n",
      "        \"_score\" : 1.0,\n",
      "        \"_source\" : {\n",
      "          \"date\" : \"2014-09-20\",\n",
      "          \"name\" : \"John Smith\",\n",
      "          \"tweet\" : \"Elasticsearch surely is one of the hottest new NoSQL products\",\n",
      "          \"user_id\" : 1\n",
      "        }\n",
      "      },\n",
      "      {\n",
      "        \"_index\" : \"us\",\n",
      "        \"_type\" : \"tweet\",\n",
      "        \"_id\" : \"12\",\n",
      "        \"_score\" : 1.0,\n",
      "        \"_source\" : {\n",
      "          \"date\" : \"2014-09-22\",\n",
      "          \"name\" : \"John Smith\",\n",
      "          \"tweet\" : \"Elasticsearch and I have left the honeymoon stage, and I still love her.\",\n",
      "          \"user_id\" : 1\n",
      "        }\n",
      "      },\n",
      "      {\n",
      "        \"_index\" : \"gb\",\n",
      "        \"_type\" : \"user\",\n",
      "        \"_id\" : \"2\",\n",
      "        \"_score\" : 1.0,\n",
      "        \"_source\" : {\n",
      "          \"email\" : \"mary@jones.com\",\n",
      "          \"name\" : \"Mary Jones\",\n",
      "          \"username\" : \"@mary\"\n",
      "        }\n",
      "      },\n",
      "      {\n",
      "        \"_index\" : \"megacorp\",\n",
      "        \"_type\" : \"employee\",\n",
      "        \"_id\" : \"2\",\n",
      "        \"_score\" : 1.0,\n",
      "        \"_source\" : {\n",
      "          \"first_name\" : \"Jane\",\n",
      "          \"last_name\" : \"Smith\",\n",
      "          \"age\" : 32,\n",
      "          \"about\" : \"I like to collect rock albums\",\n",
      "          \"interests\" : [\n",
      "            \"music\"\n",
      "          ]\n",
      "        }\n",
      "      },\n",
      "      {\n",
      "        \"_index\" : \"us\",\n",
      "        \"_type\" : \"tweet\",\n",
      "        \"_id\" : \"4\",\n",
      "        \"_score\" : 1.0,\n",
      "        \"_source\" : {\n",
      "          \"date\" : \"2014-09-14\",\n",
      "          \"name\" : \"John Smith\",\n",
      "          \"tweet\" : \"@mary it is not just text, it does everything\",\n",
      "          \"user_id\" : 1\n",
      "        }\n",
      "      }\n",
      "    ]\n",
      "  }\n",
      "}\n"
     ]
    }
   ],
   "source": [
    "curl -XGET 'localhost:9200/_search?pretty' -H 'Content-Type: application/json' -d'\n",
    "{\n",
    "    \"query\": {\n",
    "      \"bool\": {\n",
    "        \"must_not\": {\n",
    "          \"exists\": {\n",
    "            \"field\": \"title\"\n",
    "          }\n",
    "        }\n",
    "      }\n",
    "    }\n",
    "}\n",
    "'"
   ]
  },
  {
   "cell_type": "code",
   "execution_count": null,
   "metadata": {
    "collapsed": true
   },
   "outputs": [],
   "source": []
  }
 ],
 "metadata": {
  "kernelspec": {
   "display_name": "Bash",
   "language": "bash",
   "name": "bash"
  },
  "language_info": {
   "codemirror_mode": "shell",
   "file_extension": ".sh",
   "mimetype": "text/x-sh",
   "name": "bash"
  }
 },
 "nbformat": 4,
 "nbformat_minor": 2
}

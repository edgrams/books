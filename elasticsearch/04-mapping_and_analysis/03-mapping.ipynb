{
 "cells": [
  {
   "cell_type": "markdown",
   "metadata": {},
   "source": [
    "delete 'gb' index"
   ]
  },
  {
   "cell_type": "code",
   "execution_count": 1,
   "metadata": {
    "collapsed": false
   },
   "outputs": [
    {
     "name": "stdout",
     "output_type": "stream",
     "text": [
      "{\n",
      "  \"acknowledged\" : true\n",
      "}\n"
     ]
    }
   ],
   "source": [
    "curl -XDELETE 'localhost:9200/gb?pretty'"
   ]
  },
  {
   "cell_type": "markdown",
   "metadata": {},
   "source": [
    "create new 'gb' index, and specify mappings w/ analyzer"
   ]
  },
  {
   "cell_type": "code",
   "execution_count": 2,
   "metadata": {
    "collapsed": false
   },
   "outputs": [
    {
     "name": "stdout",
     "output_type": "stream",
     "text": [
      "{\n",
      "  \"acknowledged\" : true,\n",
      "  \"shards_acknowledged\" : true\n",
      "}\n"
     ]
    }
   ],
   "source": [
    "curl -XPUT 'localhost:9200/gb?pretty' -H 'Content-Type: application/json' -d'\n",
    "{\n",
    "  \"mappings\": {\n",
    "    \"tweet\" : {\n",
    "      \"properties\" : {\n",
    "        \"tweet\" : {\n",
    "          \"type\" :    \"string\",\n",
    "          \"analyzer\": \"english\"\n",
    "        },\n",
    "        \"date\" : {\n",
    "          \"type\" :   \"date\"\n",
    "        },\n",
    "        \"name\" : {\n",
    "          \"type\" :   \"string\"\n",
    "        },\n",
    "        \"user_id\" : {\n",
    "          \"type\" :   \"long\"\n",
    "        }\n",
    "      }\n",
    "    }\n",
    "  }\n",
    "}\n",
    "'"
   ]
  },
  {
   "cell_type": "markdown",
   "metadata": {},
   "source": [
    "add new 'tag' field which we don't want to analyze"
   ]
  },
  {
   "cell_type": "code",
   "execution_count": 3,
   "metadata": {
    "collapsed": false
   },
   "outputs": [
    {
     "name": "stdout",
     "output_type": "stream",
     "text": [
      "{\n",
      "  \"acknowledged\" : true\n",
      "}\n"
     ]
    }
   ],
   "source": [
    "curl -XPUT 'localhost:9200/gb/_mapping/tweet?pretty' -H 'Content-Type: application/json' -d'\n",
    "{\n",
    "  \"properties\" : {\n",
    "    \"tag\" : {\n",
    "      \"type\" :    \"string\",\n",
    "      \"index\":    \"not_analyzed\"\n",
    "    }\n",
    "  }\n",
    "}\n",
    "'"
   ]
  },
  {
   "cell_type": "markdown",
   "metadata": {},
   "source": [
    "test analyze 'tweet'"
   ]
  },
  {
   "cell_type": "code",
   "execution_count": 5,
   "metadata": {
    "collapsed": false
   },
   "outputs": [
    {
     "name": "stdout",
     "output_type": "stream",
     "text": [
      "{\n",
      "  \"tokens\" : [\n",
      "    {\n",
      "      \"token\" : \"black\",\n",
      "      \"start_offset\" : 0,\n",
      "      \"end_offset\" : 5,\n",
      "      \"type\" : \"<ALPHANUM>\",\n",
      "      \"position\" : 0\n",
      "    },\n",
      "    {\n",
      "      \"token\" : \"cat\",\n",
      "      \"start_offset\" : 6,\n",
      "      \"end_offset\" : 10,\n",
      "      \"type\" : \"<ALPHANUM>\",\n",
      "      \"position\" : 1\n",
      "    }\n",
      "  ]\n",
      "}\n"
     ]
    }
   ],
   "source": [
    "curl -XGET 'localhost:9200/gb/_analyze?pretty' -H 'Content-Type: application/json' -d'\n",
    "{\n",
    "  \"field\": \"tweet\",\n",
    "  \"text\": \"Black-cats\" \n",
    "}\n",
    "'"
   ]
  },
  {
   "cell_type": "markdown",
   "metadata": {},
   "source": [
    "test analyze 'tag' (should fail!)"
   ]
  },
  {
   "cell_type": "code",
   "execution_count": 6,
   "metadata": {
    "collapsed": false
   },
   "outputs": [
    {
     "name": "stdout",
     "output_type": "stream",
     "text": [
      "{\n",
      "  \"error\" : {\n",
      "    \"root_cause\" : [\n",
      "      {\n",
      "        \"type\" : \"remote_transport_exception\",\n",
      "        \"reason\" : \"[node-2][127.0.0.1:9301][indices:admin/analyze[s]]\"\n",
      "      }\n",
      "    ],\n",
      "    \"type\" : \"illegal_argument_exception\",\n",
      "    \"reason\" : \"Can't process field [tag], Analysis requests are only supported on tokenized fields\"\n",
      "  },\n",
      "  \"status\" : 400\n",
      "}\n"
     ]
    }
   ],
   "source": [
    "curl -XGET 'localhost:9200/gb/_analyze?pretty' -H 'Content-Type: application/json' -d'\n",
    "{\n",
    "  \"field\": \"tag\",\n",
    "  \"text\": \"Black-cats\" \n",
    "}\n",
    "'"
   ]
  },
  {
   "cell_type": "code",
   "execution_count": null,
   "metadata": {
    "collapsed": true
   },
   "outputs": [],
   "source": []
  }
 ],
 "metadata": {
  "kernelspec": {
   "display_name": "Bash",
   "language": "bash",
   "name": "bash"
  },
  "language_info": {
   "codemirror_mode": "shell",
   "file_extension": ".sh",
   "mimetype": "text/x-sh",
   "name": "bash"
  }
 },
 "nbformat": 4,
 "nbformat_minor": 2
}

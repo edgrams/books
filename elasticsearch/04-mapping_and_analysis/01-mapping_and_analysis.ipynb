{
 "cells": [
  {
   "cell_type": "markdown",
   "metadata": {},
   "source": [
    "returns 12 events (_all & 2014)"
   ]
  },
  {
   "cell_type": "code",
   "execution_count": 4,
   "metadata": {
    "collapsed": false
   },
   "outputs": [
    {
     "name": "stdout",
     "output_type": "stream",
     "text": [
      "{\"took\":4,\"timed_out\":false,\"_shards\":{\"total\":19,\"successful\":19,\"failed\":0},\"hits\":{\"total\":12,\"max_score\":0.2876821,\"hits\":[{\"_index\":\"us\",\"_type\":\"tweet\",\"_id\":\"14\",\"_score\":0.2876821,\"_source\":\n",
      "{\n",
      "   \"date\" : \"2014-09-24\",\n",
      "   \"name\" : \"John Smith\",\n",
      "   \"tweet\" : \"How many more cheesy tweets do I have to write?\",\n",
      "   \"user_id\" : 1\n",
      "}\n",
      "},{\"_index\":\"gb\",\"_type\":\"tweet\",\"_id\":\"3\",\"_score\":0.1799469,\"_source\":\n",
      "{\n",
      "   \"date\" : \"2014-09-13\",\n",
      "   \"name\" : \"Mary Jones\",\n",
      "   \"tweet\" : \"Elasticsearch means full text search has never been so easy\",\n",
      "   \"user_id\" : 2\n",
      "}\n",
      "},{\"_index\":\"gb\",\"_type\":\"tweet\",\"_id\":\"11\",\"_score\":0.1799469,\"_source\":\n",
      "{\n",
      "   \"date\" : \"2014-09-21\",\n",
      "   \"name\" : \"Mary Jones\",\n",
      "   \"tweet\" : \"Elasticsearch is built for the cloud, easy to scale\",\n",
      "   \"user_id\" : 2\n",
      "}\n",
      "},{\"_index\":\"us\",\"_type\":\"tweet\",\"_id\":\"4\",\"_score\":0.17491904,\"_source\":\n",
      "{\n",
      "   \"date\" : \"2014-09-14\",\n",
      "   \"name\" : \"John Smith\",\n",
      "   \"tweet\" : \"@mary it is not just text, it does everything\",\n",
      "   \"user_id\" : 1\n",
      "}\n",
      "},{\"_index\":\"us\",\"_type\":\"tweet\",\"_id\":\"6\",\"_score\":0.17491904,\"_source\":\n",
      "{\n",
      "   \"date\" : \"2014-09-16\",\n",
      "   \"name\" : \"John Smith\",\n",
      "   \"tweet\" : \"The Elasticsearch API is really easy to use\",\n",
      "   \"user_id\" : 1\n",
      "}\n",
      "},{\"_index\":\"gb\",\"_type\":\"tweet\",\"_id\":\"7\",\"_score\":0.16948202,\"_source\":\n",
      "{\n",
      "   \"date\" : \"2014-09-17\",\n",
      "   \"name\" : \"Mary Jones\",\n",
      "   \"tweet\" : \"The Query DSL is really powerful and flexible\",\n",
      "   \"user_id\" : 2\n",
      "}\n",
      "},{\"_index\":\"gb\",\"_type\":\"tweet\",\"_id\":\"13\",\"_score\":0.16948202,\"_source\":\n",
      "{\n",
      "   \"date\" : \"2014-09-23\",\n",
      "   \"name\" : \"Mary Jones\",\n",
      "   \"tweet\" : \"So yes, I am an Elasticsearch fanboy\",\n",
      "   \"user_id\" : 2\n",
      "}\n",
      "},{\"_index\":\"us\",\"_type\":\"tweet\",\"_id\":\"8\",\"_score\":0.16613147,\"_source\":\n",
      "{\n",
      "   \"date\" : \"2014-09-18\",\n",
      "   \"name\" : \"John Smith\",\n",
      "   \"user_id\" : 1\n",
      "}\n",
      "},{\"_index\":\"gb\",\"_type\":\"tweet\",\"_id\":\"5\",\"_score\":0.16044298,\"_source\":\n",
      "{\n",
      "   \"date\" : \"2014-09-15\",\n",
      "   \"name\" : \"Mary Jones\",\n",
      "   \"tweet\" : \"However did I manage before Elasticsearch?\",\n",
      "   \"user_id\" : 2\n",
      "}\n",
      "},{\"_index\":\"gb\",\"_type\":\"tweet\",\"_id\":\"9\",\"_score\":0.16044298,\"_source\":\n",
      "{\n",
      "   \"date\" : \"2014-09-19\",\n",
      "   \"name\" : \"Mary Jones\",\n",
      "   \"tweet\" : \"Geo-location aggregations are really cool\",\n",
      "   \"user_id\" : 2\n",
      "}\n",
      "}]}}"
     ]
    }
   ],
   "source": [
    "curl -XGET 'localhost:9200/_search?q=2014'"
   ]
  },
  {
   "cell_type": "markdown",
   "metadata": {},
   "source": [
    "returns 12 events (_all & 2014)"
   ]
  },
  {
   "cell_type": "code",
   "execution_count": 2,
   "metadata": {
    "collapsed": false
   },
   "outputs": [
    {
     "name": "stdout",
     "output_type": "stream",
     "text": [
      "{\"took\":6,\"timed_out\":false,\"_shards\":{\"total\":19,\"successful\":19,\"failed\":0},\"hits\":{\"total\":12,\"max_score\":0.93085545,\"hits\":[{\"_index\":\"gb\",\"_type\":\"tweet\",\"_id\":\"5\",\"_score\":0.93085545,\"_source\":\n",
      "{\n",
      "   \"date\" : \"2014-09-15\",\n",
      "   \"name\" : \"Mary Jones\",\n",
      "   \"tweet\" : \"However did I manage before Elasticsearch?\",\n",
      "   \"user_id\" : 2\n",
      "}\n",
      "},{\"_index\":\"us\",\"_type\":\"tweet\",\"_id\":\"14\",\"_score\":0.5753642,\"_source\":\n",
      "{\n",
      "   \"date\" : \"2014-09-24\",\n",
      "   \"name\" : \"John Smith\",\n",
      "   \"tweet\" : \"How many more cheesy tweets do I have to write?\",\n",
      "   \"user_id\" : 1\n",
      "}\n",
      "},{\"_index\":\"gb\",\"_type\":\"tweet\",\"_id\":\"3\",\"_score\":0.3598938,\"_source\":\n",
      "{\n",
      "   \"date\" : \"2014-09-13\",\n",
      "   \"name\" : \"Mary Jones\",\n",
      "   \"tweet\" : \"Elasticsearch means full text search has never been so easy\",\n",
      "   \"user_id\" : 2\n",
      "}\n",
      "},{\"_index\":\"gb\",\"_type\":\"tweet\",\"_id\":\"11\",\"_score\":0.3598938,\"_source\":\n",
      "{\n",
      "   \"date\" : \"2014-09-21\",\n",
      "   \"name\" : \"Mary Jones\",\n",
      "   \"tweet\" : \"Elasticsearch is built for the cloud, easy to scale\",\n",
      "   \"user_id\" : 2\n",
      "}\n",
      "},{\"_index\":\"us\",\"_type\":\"tweet\",\"_id\":\"4\",\"_score\":0.34983808,\"_source\":\n",
      "{\n",
      "   \"date\" : \"2014-09-14\",\n",
      "   \"name\" : \"John Smith\",\n",
      "   \"tweet\" : \"@mary it is not just text, it does everything\",\n",
      "   \"user_id\" : 1\n",
      "}\n",
      "},{\"_index\":\"us\",\"_type\":\"tweet\",\"_id\":\"6\",\"_score\":0.34983808,\"_source\":\n",
      "{\n",
      "   \"date\" : \"2014-09-16\",\n",
      "   \"name\" : \"John Smith\",\n",
      "   \"tweet\" : \"The Elasticsearch API is really easy to use\",\n",
      "   \"user_id\" : 1\n",
      "}\n",
      "},{\"_index\":\"gb\",\"_type\":\"tweet\",\"_id\":\"7\",\"_score\":0.33896405,\"_source\":\n",
      "{\n",
      "   \"date\" : \"2014-09-17\",\n",
      "   \"name\" : \"Mary Jones\",\n",
      "   \"tweet\" : \"The Query DSL is really powerful and flexible\",\n",
      "   \"user_id\" : 2\n",
      "}\n",
      "},{\"_index\":\"gb\",\"_type\":\"tweet\",\"_id\":\"13\",\"_score\":0.33896405,\"_source\":\n",
      "{\n",
      "   \"date\" : \"2014-09-23\",\n",
      "   \"name\" : \"Mary Jones\",\n",
      "   \"tweet\" : \"So yes, I am an Elasticsearch fanboy\",\n",
      "   \"user_id\" : 2\n",
      "}\n",
      "},{\"_index\":\"us\",\"_type\":\"tweet\",\"_id\":\"8\",\"_score\":0.33226293,\"_source\":\n",
      "{\n",
      "   \"date\" : \"2014-09-18\",\n",
      "   \"name\" : \"John Smith\",\n",
      "   \"user_id\" : 1\n",
      "}\n",
      "},{\"_index\":\"gb\",\"_type\":\"tweet\",\"_id\":\"9\",\"_score\":0.32088596,\"_source\":\n",
      "{\n",
      "   \"date\" : \"2014-09-19\",\n",
      "   \"name\" : \"Mary Jones\",\n",
      "   \"tweet\" : \"Geo-location aggregations are really cool\",\n",
      "   \"user_id\" : 2\n",
      "}\n",
      "}]}}"
     ]
    }
   ],
   "source": [
    "curl -XGET 'localhost:9200/_search?q=2014-09-15'"
   ]
  },
  {
   "cell_type": "markdown",
   "metadata": {},
   "source": [
    "returns 1 exact match"
   ]
  },
  {
   "cell_type": "code",
   "execution_count": 3,
   "metadata": {
    "collapsed": false
   },
   "outputs": [
    {
     "name": "stdout",
     "output_type": "stream",
     "text": [
      "{\"took\":4,\"timed_out\":false,\"_shards\":{\"total\":19,\"successful\":19,\"failed\":0},\"hits\":{\"total\":1,\"max_score\":1.0,\"hits\":[{\"_index\":\"gb\",\"_type\":\"tweet\",\"_id\":\"5\",\"_score\":1.0,\"_source\":\n",
      "{\n",
      "   \"date\" : \"2014-09-15\",\n",
      "   \"name\" : \"Mary Jones\",\n",
      "   \"tweet\" : \"However did I manage before Elasticsearch?\",\n",
      "   \"user_id\" : 2\n",
      "}\n",
      "}]}}"
     ]
    }
   ],
   "source": [
    "curl -XGET 'localhost:9200/_search?q=date:2014-09-15'"
   ]
  },
  {
   "cell_type": "markdown",
   "metadata": {},
   "source": [
    "returns no results (no exact matches)"
   ]
  },
  {
   "cell_type": "code",
   "execution_count": 5,
   "metadata": {
    "collapsed": false
   },
   "outputs": [
    {
     "name": "stdout",
     "output_type": "stream",
     "text": [
      "{\"took\":2,\"timed_out\":false,\"_shards\":{\"total\":19,\"successful\":19,\"failed\":0},\"hits\":{\"total\":0,\"max_score\":null,\"hits\":[]}}"
     ]
    }
   ],
   "source": [
    "curl -XGET 'localhost:9200/_search?q=date:2014'"
   ]
  },
  {
   "cell_type": "markdown",
   "metadata": {},
   "source": [
    "show current mappings"
   ]
  },
  {
   "cell_type": "code",
   "execution_count": 6,
   "metadata": {
    "collapsed": false
   },
   "outputs": [
    {
     "name": "stdout",
     "output_type": "stream",
     "text": [
      "{\n",
      "  \"gb\" : {\n",
      "    \"mappings\" : {\n",
      "      \"tweet\" : {\n",
      "        \"properties\" : {\n",
      "          \"date\" : {\n",
      "            \"type\" : \"date\"\n",
      "          },\n",
      "          \"name\" : {\n",
      "            \"type\" : \"text\",\n",
      "            \"fields\" : {\n",
      "              \"keyword\" : {\n",
      "                \"type\" : \"keyword\",\n",
      "                \"ignore_above\" : 256\n",
      "              }\n",
      "            }\n",
      "          },\n",
      "          \"tweet\" : {\n",
      "            \"type\" : \"text\",\n",
      "            \"fields\" : {\n",
      "              \"keyword\" : {\n",
      "                \"type\" : \"keyword\",\n",
      "                \"ignore_above\" : 256\n",
      "              }\n",
      "            }\n",
      "          },\n",
      "          \"user_id\" : {\n",
      "            \"type\" : \"long\"\n",
      "          }\n",
      "        }\n",
      "      }\n",
      "    }\n",
      "  }\n",
      "}\n"
     ]
    }
   ],
   "source": [
    "curl -XGET 'localhost:9200/gb/_mapping/tweet?pretty'"
   ]
  },
  {
   "cell_type": "code",
   "execution_count": null,
   "metadata": {
    "collapsed": true
   },
   "outputs": [],
   "source": []
  }
 ],
 "metadata": {
  "kernelspec": {
   "display_name": "Bash",
   "language": "bash",
   "name": "bash"
  },
  "language_info": {
   "codemirror_mode": "shell",
   "file_extension": ".sh",
   "mimetype": "text/x-sh",
   "name": "bash"
  }
 },
 "nbformat": 4,
 "nbformat_minor": 2
}

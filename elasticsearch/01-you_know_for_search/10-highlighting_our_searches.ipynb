{
 "cells": [
  {
   "cell_type": "markdown",
   "metadata": {},
   "source": [
    "rerun query with highlighting"
   ]
  },
  {
   "cell_type": "code",
   "execution_count": 1,
   "metadata": {
    "collapsed": false
   },
   "outputs": [
    {
     "name": "stdout",
     "output_type": "stream",
     "text": [
      "{\n",
      "  \"took\" : 23,\n",
      "  \"timed_out\" : false,\n",
      "  \"_shards\" : {\n",
      "    \"total\" : 5,\n",
      "    \"successful\" : 5,\n",
      "    \"failed\" : 0\n",
      "  },\n",
      "  \"hits\" : {\n",
      "    \"total\" : 1,\n",
      "    \"max_score\" : 0.53484553,\n",
      "    \"hits\" : [\n",
      "      {\n",
      "        \"_index\" : \"megacorp\",\n",
      "        \"_type\" : \"employee\",\n",
      "        \"_id\" : \"1\",\n",
      "        \"_score\" : 0.53484553,\n",
      "        \"_source\" : {\n",
      "          \"first_name\" : \"John\",\n",
      "          \"last_name\" : \"Smith\",\n",
      "          \"age\" : 25,\n",
      "          \"about\" : \"I love to go rock climbing\",\n",
      "          \"interests\" : [\n",
      "            \"sports\",\n",
      "            \"music\"\n",
      "          ]\n",
      "        },\n",
      "        \"highlight\" : {\n",
      "          \"about\" : [\n",
      "            \"I love to go <em>rock</em> <em>climbing</em>\"\n",
      "          ]\n",
      "        }\n",
      "      }\n",
      "    ]\n",
      "  }\n",
      "}\n"
     ]
    }
   ],
   "source": [
    "curl -XGET 'localhost:9200/megacorp/employee/_search?pretty' -H 'Content-Type: application/json' -d'\n",
    "{\n",
    "    \"query\" : {\n",
    "        \"match_phrase\" : {\n",
    "            \"about\" : \"rock climbing\"\n",
    "        }\n",
    "    },\n",
    "    \"highlight\": {\n",
    "        \"fields\" : {\n",
    "            \"about\" : {}\n",
    "        }\n",
    "    }\n",
    "}\n",
    "'"
   ]
  },
  {
   "cell_type": "code",
   "execution_count": null,
   "metadata": {
    "collapsed": true
   },
   "outputs": [],
   "source": []
  }
 ],
 "metadata": {
  "kernelspec": {
   "display_name": "Bash",
   "language": "bash",
   "name": "bash"
  },
  "language_info": {
   "codemirror_mode": "shell",
   "file_extension": ".sh",
   "mimetype": "text/x-sh",
   "name": "bash"
  }
 },
 "nbformat": 4,
 "nbformat_minor": 2
}

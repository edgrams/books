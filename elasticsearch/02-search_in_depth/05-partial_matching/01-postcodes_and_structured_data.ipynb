{
 "cells": [
  {
   "cell_type": "markdown",
   "metadata": {},
   "source": [
    "delete old index"
   ]
  },
  {
   "cell_type": "code",
   "execution_count": 2,
   "metadata": {
    "collapsed": false
   },
   "outputs": [
    {
     "name": "stdout",
     "output_type": "stream",
     "text": [
      "{\n",
      "  \"acknowledged\" : true\n",
      "}\n"
     ]
    }
   ],
   "source": [
    "curl -XDELETE 'localhost:9200/my_index?pretty'"
   ]
  },
  {
   "cell_type": "markdown",
   "metadata": {},
   "source": [
    "set the mappings for a non-analyzed text field for postcode"
   ]
  },
  {
   "cell_type": "code",
   "execution_count": 3,
   "metadata": {
    "collapsed": false
   },
   "outputs": [
    {
     "name": "stdout",
     "output_type": "stream",
     "text": [
      "{\n",
      "  \"acknowledged\" : true,\n",
      "  \"shards_acknowledged\" : true\n",
      "}\n"
     ]
    }
   ],
   "source": [
    "curl -XPUT 'localhost:9200/my_index?pretty' -H 'Content-Type: application/json' -d'\n",
    "{\n",
    "    \"mappings\": {\n",
    "        \"address\": {\n",
    "            \"properties\": {\n",
    "                \"postcode\": {\n",
    "                    \"type\":  \"string\",\n",
    "                    \"index\": \"not_analyzed\"\n",
    "                }\n",
    "            }\n",
    "        }\n",
    "    }\n",
    "}\n",
    "'"
   ]
  },
  {
   "cell_type": "markdown",
   "metadata": {},
   "source": [
    "add some test data"
   ]
  },
  {
   "cell_type": "code",
   "execution_count": 5,
   "metadata": {
    "collapsed": false
   },
   "outputs": [
    {
     "name": "stdout",
     "output_type": "stream",
     "text": [
      "{\n",
      "  \"_index\" : \"my_index\",\n",
      "  \"_type\" : \"address\",\n",
      "  \"_id\" : \"1\",\n",
      "  \"_version\" : 1,\n",
      "  \"result\" : \"created\",\n",
      "  \"_shards\" : {\n",
      "    \"total\" : 2,\n",
      "    \"successful\" : 2,\n",
      "    \"failed\" : 0\n",
      "  },\n",
      "  \"created\" : true\n",
      "}\n",
      "{\n",
      "  \"_index\" : \"my_index\",\n",
      "  \"_type\" : \"address\",\n",
      "  \"_id\" : \"2\",\n",
      "  \"_version\" : 1,\n",
      "  \"result\" : \"created\",\n",
      "  \"_shards\" : {\n",
      "    \"total\" : 2,\n",
      "    \"successful\" : 2,\n",
      "    \"failed\" : 0\n",
      "  },\n",
      "  \"created\" : true\n",
      "}\n",
      "{\n",
      "  \"_index\" : \"my_index\",\n",
      "  \"_type\" : \"address\",\n",
      "  \"_id\" : \"3\",\n",
      "  \"_version\" : 1,\n",
      "  \"result\" : \"created\",\n",
      "  \"_shards\" : {\n",
      "    \"total\" : 2,\n",
      "    \"successful\" : 2,\n",
      "    \"failed\" : 0\n",
      "  },\n",
      "  \"created\" : true\n",
      "}\n",
      "{\n",
      "  \"_index\" : \"my_index\",\n",
      "  \"_type\" : \"address\",\n",
      "  \"_id\" : \"4\",\n",
      "  \"_version\" : 1,\n",
      "  \"result\" : \"created\",\n",
      "  \"_shards\" : {\n",
      "    \"total\" : 2,\n",
      "    \"successful\" : 2,\n",
      "    \"failed\" : 0\n",
      "  },\n",
      "  \"created\" : true\n",
      "}\n",
      "{\n",
      "  \"_index\" : \"my_index\",\n",
      "  \"_type\" : \"address\",\n",
      "  \"_id\" : \"5\",\n",
      "  \"_version\" : 1,\n",
      "  \"result\" : \"created\",\n",
      "  \"_shards\" : {\n",
      "    \"total\" : 2,\n",
      "    \"successful\" : 2,\n",
      "    \"failed\" : 0\n",
      "  },\n",
      "  \"created\" : true\n",
      "}\n"
     ]
    }
   ],
   "source": [
    "curl -XPUT 'localhost:9200/my_index/address/1?pretty' -H 'Content-Type: application/json' -d'\n",
    "{ \"postcode\": \"W1V 3DG\" }\n",
    "'\n",
    "curl -XPUT 'localhost:9200/my_index/address/2?pretty' -H 'Content-Type: application/json' -d'\n",
    "{ \"postcode\": \"W2F 8HW\" }\n",
    "'\n",
    "curl -XPUT 'localhost:9200/my_index/address/3?pretty' -H 'Content-Type: application/json' -d'\n",
    "{ \"postcode\": \"W1F 7HW\" }\n",
    "'\n",
    "curl -XPUT 'localhost:9200/my_index/address/4?pretty' -H 'Content-Type: application/json' -d'\n",
    "{ \"postcode\": \"WC1N 1LZ\" }\n",
    "'\n",
    "curl -XPUT 'localhost:9200/my_index/address/5?pretty' -H 'Content-Type: application/json' -d'\n",
    "{ \"postcode\": \"SW5 0BE\" }\n",
    "'"
   ]
  },
  {
   "cell_type": "code",
   "execution_count": null,
   "metadata": {
    "collapsed": true
   },
   "outputs": [],
   "source": []
  }
 ],
 "metadata": {
  "kernelspec": {
   "display_name": "Bash",
   "language": "bash",
   "name": "bash"
  },
  "language_info": {
   "codemirror_mode": "shell",
   "file_extension": ".sh",
   "mimetype": "text/x-sh",
   "name": "bash"
  }
 },
 "nbformat": 4,
 "nbformat_minor": 2
}

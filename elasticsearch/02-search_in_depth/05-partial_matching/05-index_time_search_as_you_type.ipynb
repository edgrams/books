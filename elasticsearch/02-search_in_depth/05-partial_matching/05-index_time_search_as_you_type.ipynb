{
 "cells": [
  {
   "cell_type": "markdown",
   "metadata": {},
   "source": [
    "delete the existing index"
   ]
  },
  {
   "cell_type": "code",
   "execution_count": 12,
   "metadata": {
    "collapsed": false
   },
   "outputs": [
    {
     "name": "stdout",
     "output_type": "stream",
     "text": [
      "{\n",
      "  \"acknowledged\" : true\n",
      "}\n"
     ]
    }
   ],
   "source": [
    "curl -XDELETE 'localhost:9200/my_index?pretty'"
   ]
  },
  {
   "cell_type": "markdown",
   "metadata": {},
   "source": [
    "create the token filter and analyzer"
   ]
  },
  {
   "cell_type": "code",
   "execution_count": 2,
   "metadata": {
    "collapsed": false
   },
   "outputs": [
    {
     "name": "stdout",
     "output_type": "stream",
     "text": [
      "{\n",
      "  \"acknowledged\" : true,\n",
      "  \"shards_acknowledged\" : true\n",
      "}\n"
     ]
    }
   ],
   "source": [
    "curl -XPUT 'localhost:9200/my_index?pretty' -H 'Content-Type: application/json' -d'\n",
    "{\n",
    "    \"settings\": {\n",
    "        \"number_of_shards\": 1, \n",
    "        \"analysis\": {\n",
    "            \"filter\": {\n",
    "                \"autocomplete_filter\": { \n",
    "                    \"type\":     \"edge_ngram\",\n",
    "                    \"min_gram\": 1,\n",
    "                    \"max_gram\": 20\n",
    "                }\n",
    "            },\n",
    "            \"analyzer\": {\n",
    "                \"autocomplete\": {\n",
    "                    \"type\":      \"custom\",\n",
    "                    \"tokenizer\": \"standard\",\n",
    "                    \"filter\": [\n",
    "                        \"lowercase\",\n",
    "                        \"autocomplete_filter\" \n",
    "                    ]\n",
    "                }\n",
    "            }\n",
    "        }\n",
    "    }\n",
    "}\n",
    "'"
   ]
  },
  {
   "cell_type": "markdown",
   "metadata": {},
   "source": [
    "test the new analyzer"
   ]
  },
  {
   "cell_type": "code",
   "execution_count": 3,
   "metadata": {
    "collapsed": false
   },
   "outputs": [
    {
     "name": "stdout",
     "output_type": "stream",
     "text": [
      "{\n",
      "  \"tokens\" : [\n",
      "    {\n",
      "      \"token\" : \"q\",\n",
      "      \"start_offset\" : 0,\n",
      "      \"end_offset\" : 5,\n",
      "      \"type\" : \"word\",\n",
      "      \"position\" : 0\n",
      "    },\n",
      "    {\n",
      "      \"token\" : \"qu\",\n",
      "      \"start_offset\" : 0,\n",
      "      \"end_offset\" : 5,\n",
      "      \"type\" : \"word\",\n",
      "      \"position\" : 0\n",
      "    },\n",
      "    {\n",
      "      \"token\" : \"qui\",\n",
      "      \"start_offset\" : 0,\n",
      "      \"end_offset\" : 5,\n",
      "      \"type\" : \"word\",\n",
      "      \"position\" : 0\n",
      "    },\n",
      "    {\n",
      "      \"token\" : \"quic\",\n",
      "      \"start_offset\" : 0,\n",
      "      \"end_offset\" : 5,\n",
      "      \"type\" : \"word\",\n",
      "      \"position\" : 0\n",
      "    },\n",
      "    {\n",
      "      \"token\" : \"quick\",\n",
      "      \"start_offset\" : 0,\n",
      "      \"end_offset\" : 5,\n",
      "      \"type\" : \"word\",\n",
      "      \"position\" : 0\n",
      "    },\n",
      "    {\n",
      "      \"token\" : \"b\",\n",
      "      \"start_offset\" : 6,\n",
      "      \"end_offset\" : 11,\n",
      "      \"type\" : \"word\",\n",
      "      \"position\" : 1\n",
      "    },\n",
      "    {\n",
      "      \"token\" : \"br\",\n",
      "      \"start_offset\" : 6,\n",
      "      \"end_offset\" : 11,\n",
      "      \"type\" : \"word\",\n",
      "      \"position\" : 1\n",
      "    },\n",
      "    {\n",
      "      \"token\" : \"bro\",\n",
      "      \"start_offset\" : 6,\n",
      "      \"end_offset\" : 11,\n",
      "      \"type\" : \"word\",\n",
      "      \"position\" : 1\n",
      "    },\n",
      "    {\n",
      "      \"token\" : \"brow\",\n",
      "      \"start_offset\" : 6,\n",
      "      \"end_offset\" : 11,\n",
      "      \"type\" : \"word\",\n",
      "      \"position\" : 1\n",
      "    },\n",
      "    {\n",
      "      \"token\" : \"brown\",\n",
      "      \"start_offset\" : 6,\n",
      "      \"end_offset\" : 11,\n",
      "      \"type\" : \"word\",\n",
      "      \"position\" : 1\n",
      "    }\n",
      "  ]\n",
      "}\n"
     ]
    }
   ],
   "source": [
    "curl -XGET 'localhost:9200/my_index/_analyze?pretty' -H 'Content-Type: application/json' -d'\n",
    "{\n",
    "  \"analyzer\": \"autocomplete\",\n",
    "  \"text\": \"quick brown\"\n",
    "}\n",
    "'"
   ]
  },
  {
   "cell_type": "markdown",
   "metadata": {},
   "source": [
    "apply the analyzer to a field"
   ]
  },
  {
   "cell_type": "code",
   "execution_count": 4,
   "metadata": {
    "collapsed": false
   },
   "outputs": [
    {
     "name": "stdout",
     "output_type": "stream",
     "text": [
      "{\n",
      "  \"acknowledged\" : true\n",
      "}\n"
     ]
    }
   ],
   "source": [
    "curl -XPUT 'localhost:9200/my_index/_mapping/my_type?pretty' -H 'Content-Type: application/json' -d'\n",
    "{\n",
    "    \"my_type\": {\n",
    "        \"properties\": {\n",
    "            \"name\": {\n",
    "                \"type\":     \"string\",\n",
    "                \"analyzer\": \"autocomplete\"\n",
    "            }\n",
    "        }\n",
    "    }\n",
    "}\n",
    "'"
   ]
  },
  {
   "cell_type": "markdown",
   "metadata": {},
   "source": [
    "add some test data"
   ]
  },
  {
   "cell_type": "code",
   "execution_count": 5,
   "metadata": {
    "collapsed": false
   },
   "outputs": [
    {
     "name": "stdout",
     "output_type": "stream",
     "text": [
      "{\n",
      "  \"took\" : 122,\n",
      "  \"errors\" : false,\n",
      "  \"items\" : [\n",
      "    {\n",
      "      \"index\" : {\n",
      "        \"_index\" : \"my_index\",\n",
      "        \"_type\" : \"my_type\",\n",
      "        \"_id\" : \"1\",\n",
      "        \"_version\" : 1,\n",
      "        \"result\" : \"created\",\n",
      "        \"_shards\" : {\n",
      "          \"total\" : 2,\n",
      "          \"successful\" : 2,\n",
      "          \"failed\" : 0\n",
      "        },\n",
      "        \"created\" : true,\n",
      "        \"status\" : 201\n",
      "      }\n",
      "    },\n",
      "    {\n",
      "      \"index\" : {\n",
      "        \"_index\" : \"my_index\",\n",
      "        \"_type\" : \"my_type\",\n",
      "        \"_id\" : \"2\",\n",
      "        \"_version\" : 1,\n",
      "        \"result\" : \"created\",\n",
      "        \"_shards\" : {\n",
      "          \"total\" : 2,\n",
      "          \"successful\" : 2,\n",
      "          \"failed\" : 0\n",
      "        },\n",
      "        \"created\" : true,\n",
      "        \"status\" : 201\n",
      "      }\n",
      "    }\n",
      "  ]\n",
      "}\n"
     ]
    }
   ],
   "source": [
    "curl -XPOST 'localhost:9200/my_index/my_type/_bulk?pretty' -H 'Content-Type: application/json' -d'\n",
    "{ \"index\": { \"_id\": 1            }}\n",
    "{ \"name\": \"Brown foxes\"    }\n",
    "{ \"index\": { \"_id\": 2            }}\n",
    "{ \"name\": \"Yellow furballs\" }\n",
    "'"
   ]
  },
  {
   "cell_type": "markdown",
   "metadata": {},
   "source": [
    "use the match query to test it out"
   ]
  },
  {
   "cell_type": "code",
   "execution_count": 6,
   "metadata": {
    "collapsed": false
   },
   "outputs": [
    {
     "name": "stdout",
     "output_type": "stream",
     "text": [
      "{\n",
      "  \"took\" : 2,\n",
      "  \"timed_out\" : false,\n",
      "  \"_shards\" : {\n",
      "    \"total\" : 1,\n",
      "    \"successful\" : 1,\n",
      "    \"failed\" : 0\n",
      "  },\n",
      "  \"hits\" : {\n",
      "    \"total\" : 2,\n",
      "    \"max_score\" : 1.7102298,\n",
      "    \"hits\" : [\n",
      "      {\n",
      "        \"_index\" : \"my_index\",\n",
      "        \"_type\" : \"my_type\",\n",
      "        \"_id\" : \"1\",\n",
      "        \"_score\" : 1.7102298,\n",
      "        \"_source\" : {\n",
      "          \"name\" : \"Brown foxes\"\n",
      "        }\n",
      "      },\n",
      "      {\n",
      "        \"_index\" : \"my_index\",\n",
      "        \"_type\" : \"my_type\",\n",
      "        \"_id\" : \"2\",\n",
      "        \"_score\" : 0.2688388,\n",
      "        \"_source\" : {\n",
      "          \"name\" : \"Yellow furballs\"\n",
      "        }\n",
      "      }\n",
      "    ]\n",
      "  }\n",
      "}\n"
     ]
    }
   ],
   "source": [
    "curl -XGET 'localhost:9200/my_index/my_type/_search?pretty' -H 'Content-Type: application/json' -d'\n",
    "{\n",
    "    \"query\": {\n",
    "        \"match\": {\n",
    "            \"name\": \"brown fo\"\n",
    "        }\n",
    "    }\n",
    "}\n",
    "'"
   ]
  },
  {
   "cell_type": "markdown",
   "metadata": {},
   "source": [
    "why did yellow furballs return? Use validate-query to shed some light"
   ]
  },
  {
   "cell_type": "code",
   "execution_count": 7,
   "metadata": {
    "collapsed": false
   },
   "outputs": [
    {
     "name": "stdout",
     "output_type": "stream",
     "text": [
      "{\n",
      "  \"valid\" : true,\n",
      "  \"_shards\" : {\n",
      "    \"total\" : 1,\n",
      "    \"successful\" : 1,\n",
      "    \"failed\" : 0\n",
      "  },\n",
      "  \"explanations\" : [\n",
      "    {\n",
      "      \"index\" : \"my_index\",\n",
      "      \"valid\" : true,\n",
      "      \"explanation\" : \"+(Synonym(name:b name:br name:bro name:brow name:brown) Synonym(name:f name:fo)) #(#_type:my_type)\"\n",
      "    }\n",
      "  ]\n",
      "}\n"
     ]
    }
   ],
   "source": [
    "curl -XGET 'localhost:9200/my_index/my_type/_validate/query?explain&pretty' -H 'Content-Type: application/json' -d'\n",
    "{\n",
    "    \"query\": {\n",
    "        \"match\": {\n",
    "            \"name\": \"brown fo\"\n",
    "        }\n",
    "    }\n",
    "}\n",
    "'"
   ]
  },
  {
   "cell_type": "markdown",
   "metadata": {},
   "source": [
    "its because of the letter f! But what we really want is only match full words a user has entered"
   ]
  },
  {
   "cell_type": "markdown",
   "metadata": {},
   "source": [
    "to do so, well want to change the analyzer at search time (the indexer will still behave the same)"
   ]
  },
  {
   "cell_type": "code",
   "execution_count": 8,
   "metadata": {
    "collapsed": false
   },
   "outputs": [
    {
     "name": "stdout",
     "output_type": "stream",
     "text": [
      "{\n",
      "  \"took\" : 1,\n",
      "  \"timed_out\" : false,\n",
      "  \"_shards\" : {\n",
      "    \"total\" : 1,\n",
      "    \"successful\" : 1,\n",
      "    \"failed\" : 0\n",
      "  },\n",
      "  \"hits\" : {\n",
      "    \"total\" : 1,\n",
      "    \"max_score\" : 2.044134,\n",
      "    \"hits\" : [\n",
      "      {\n",
      "        \"_index\" : \"my_index\",\n",
      "        \"_type\" : \"my_type\",\n",
      "        \"_id\" : \"1\",\n",
      "        \"_score\" : 2.044134,\n",
      "        \"_source\" : {\n",
      "          \"name\" : \"Brown foxes\"\n",
      "        }\n",
      "      }\n",
      "    ]\n",
      "  }\n",
      "}\n"
     ]
    }
   ],
   "source": [
    "curl -XGET 'localhost:9200/my_index/my_type/_search?pretty' -H 'Content-Type: application/json' -d'\n",
    "{\n",
    "    \"query\": {\n",
    "        \"match\": {\n",
    "            \"name\": {\n",
    "                \"query\":    \"brown fo\",\n",
    "                \"analyzer\": \"standard\" \n",
    "            }\n",
    "        }\n",
    "    }\n",
    "}\n",
    "'"
   ]
  },
  {
   "cell_type": "markdown",
   "metadata": {},
   "source": [
    "we can also update the search analyzer in the mapping"
   ]
  },
  {
   "cell_type": "code",
   "execution_count": 9,
   "metadata": {
    "collapsed": false
   },
   "outputs": [
    {
     "name": "stdout",
     "output_type": "stream",
     "text": [
      "{\n",
      "  \"acknowledged\" : true\n",
      "}\n"
     ]
    }
   ],
   "source": [
    "curl -XPUT 'localhost:9200/my_index/my_type/_mapping?pretty' -H 'Content-Type: application/json' -d'\n",
    "{\n",
    "    \"my_type\": {\n",
    "        \"properties\": {\n",
    "            \"name\": {\n",
    "                \"type\":            \"string\",\n",
    "                \"analyzer\":  \"autocomplete\", \n",
    "                \"search_analyzer\": \"standard\" \n",
    "            }\n",
    "        }\n",
    "    }\n",
    "}\n",
    "'"
   ]
  },
  {
   "cell_type": "markdown",
   "metadata": {},
   "source": [
    "now lets check our query"
   ]
  },
  {
   "cell_type": "code",
   "execution_count": 10,
   "metadata": {
    "collapsed": false
   },
   "outputs": [
    {
     "name": "stdout",
     "output_type": "stream",
     "text": [
      "{\n",
      "  \"valid\" : true,\n",
      "  \"_shards\" : {\n",
      "    \"total\" : 1,\n",
      "    \"successful\" : 1,\n",
      "    \"failed\" : 0\n",
      "  },\n",
      "  \"explanations\" : [\n",
      "    {\n",
      "      \"index\" : \"my_index\",\n",
      "      \"valid\" : true,\n",
      "      \"explanation\" : \"+(name:brown name:fo) #(#_type:my_type)\"\n",
      "    }\n",
      "  ]\n",
      "}\n"
     ]
    }
   ],
   "source": [
    "curl -XGET 'localhost:9200/my_index/my_type/_validate/query?explain&pretty' -H 'Content-Type: application/json' -d'\n",
    "{\n",
    "    \"query\": {\n",
    "        \"match\": {\n",
    "            \"name\": \"brown fo\"\n",
    "        }\n",
    "    }\n",
    "}\n",
    "'"
   ]
  },
  {
   "cell_type": "markdown",
   "metadata": {},
   "source": [
    "to make the search completion even more efficient, one can devise a finite state transducer (big graph)"
   ]
  },
  {
   "cell_type": "markdown",
   "metadata": {},
   "source": [
    "for the postcode example, one could change the string into a token stream (treat as non-analyzed), and use the n-gram token filter (delete the index first)"
   ]
  },
  {
   "cell_type": "code",
   "execution_count": 13,
   "metadata": {
    "collapsed": false
   },
   "outputs": [
    {
     "name": "stdout",
     "output_type": "stream",
     "text": [
      "{\n",
      "  \"acknowledged\" : true,\n",
      "  \"shards_acknowledged\" : true\n",
      "}\n"
     ]
    }
   ],
   "source": [
    "curl -XPUT 'localhost:9200/my_index?pretty' -H 'Content-Type: application/json' -d'\n",
    "{\n",
    "    \"settings\": {\n",
    "        \"analysis\": {\n",
    "            \"filter\": {\n",
    "                \"postcode_filter\": {\n",
    "                    \"type\":     \"edge_ngram\",\n",
    "                    \"min_gram\": 1,\n",
    "                    \"max_gram\": 8\n",
    "                }\n",
    "            },\n",
    "            \"analyzer\": {\n",
    "                \"postcode_index\": { \n",
    "                    \"tokenizer\": \"keyword\",\n",
    "                    \"filter\":    [ \"postcode_filter\" ]\n",
    "                },\n",
    "                \"postcode_search\": { \n",
    "                    \"tokenizer\": \"keyword\"\n",
    "                }\n",
    "            }\n",
    "        }\n",
    "    }\n",
    "}\n",
    "'"
   ]
  },
  {
   "cell_type": "code",
   "execution_count": null,
   "metadata": {
    "collapsed": true
   },
   "outputs": [],
   "source": []
  }
 ],
 "metadata": {
  "kernelspec": {
   "display_name": "Bash",
   "language": "bash",
   "name": "bash"
  },
  "language_info": {
   "codemirror_mode": "shell",
   "file_extension": ".sh",
   "mimetype": "text/x-sh",
   "name": "bash"
  }
 },
 "nbformat": 4,
 "nbformat_minor": 2
}

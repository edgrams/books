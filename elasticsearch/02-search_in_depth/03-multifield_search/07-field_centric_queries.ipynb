{
 "cells": [
  {
   "cell_type": "markdown",
   "metadata": {},
   "source": [
    "we want something more term-centric than field-centric. This is what our previous query looks like under the covers:"
   ]
  },
  {
   "cell_type": "code",
   "execution_count": 1,
   "metadata": {
    "collapsed": false
   },
   "outputs": [
    {
     "name": "stdout",
     "output_type": "stream",
     "text": [
      "{\n",
      "  \"valid\" : true,\n",
      "  \"_shards\" : {\n",
      "    \"total\" : 10,\n",
      "    \"successful\" : 10,\n",
      "    \"failed\" : 0\n",
      "  },\n",
      "  \"explanations\" : [\n",
      "    {\n",
      "      \"index\" : \".kibana\",\n",
      "      \"valid\" : true,\n",
      "      \"explanation\" : \"(city:poland city:street city:w1v) (country:poland country:street country:w1v) (postcode:poland postcode:street postcode:w1v) (street:poland street:street street:w1v)\"\n",
      "    },\n",
      "    {\n",
      "      \"index\" : \"my_index\",\n",
      "      \"valid\" : true,\n",
      "      \"explanation\" : \"(city:poland city:street city:w1v) (country:poland country:street country:w1v) (postcode:poland postcode:street postcode:w1v) (street:poland street:street street:w1v)\"\n",
      "    },\n",
      "    {\n",
      "      \"index\" : \"my_temp_index\",\n",
      "      \"valid\" : true,\n",
      "      \"explanation\" : \"(city:poland city:street city:w1v) (country:poland country:street country:w1v) (postcode:poland postcode:street postcode:w1v) (street:poland street:street street:w1v)\"\n",
      "    },\n",
      "    {\n",
      "      \"index\" : \"gb\",\n",
      "      \"valid\" : true,\n",
      "      \"explanation\" : \"(city:poland city:street city:w1v) (country:poland country:street country:w1v) (postcode:poland postcode:street postcode:w1v) (street:poland street:street street:w1v)\"\n",
      "    },\n",
      "    {\n",
      "      \"index\" : \"megacorp\",\n",
      "      \"valid\" : true,\n",
      "      \"explanation\" : \"(city:poland city:street city:w1v) (country:poland country:street country:w1v) (postcode:poland postcode:street postcode:w1v) (street:poland street:street street:w1v)\"\n",
      "    },\n",
      "    {\n",
      "      \"index\" : \"my_index_v1\",\n",
      "      \"valid\" : true,\n",
      "      \"explanation\" : \"(city:poland city:street city:w1v) (country:poland country:street country:w1v) (postcode:poland postcode:street postcode:w1v) (street:poland street:street street:w1v)\"\n",
      "    },\n",
      "    {\n",
      "      \"index\" : \"my_store\",\n",
      "      \"valid\" : true,\n",
      "      \"explanation\" : \"(city:poland city:street city:w1v) (country:poland country:street country:w1v) (postcode:poland postcode:street postcode:w1v) (street:poland street:street street:w1v)\"\n",
      "    },\n",
      "    {\n",
      "      \"index\" : \"spanish_docs\",\n",
      "      \"valid\" : true,\n",
      "      \"explanation\" : \"(city:poland city:street city:w1v) (country:poland country:street country:w1v) (postcode:poland postcode:street postcode:w1v) (street:poland street:street street:w1v)\"\n",
      "    },\n",
      "    {\n",
      "      \"index\" : \"us\",\n",
      "      \"valid\" : true,\n",
      "      \"explanation\" : \"(city:poland city:street city:w1v) (country:poland country:street country:w1v) (postcode:poland postcode:street postcode:w1v) (street:poland street:street street:w1v)\"\n",
      "    },\n",
      "    {\n",
      "      \"index\" : \"blogs\",\n",
      "      \"valid\" : true,\n",
      "      \"explanation\" : \"(city:poland city:street city:w1v) (country:poland country:street country:w1v) (postcode:poland postcode:street postcode:w1v) (street:poland street:street street:w1v)\"\n",
      "    }\n",
      "  ]\n",
      "}\n"
     ]
    }
   ],
   "source": [
    "curl -XGET 'localhost:9200/_validate/query?explain&pretty' -H 'Content-Type: application/json' -d'\n",
    "{\n",
    "  \"query\": {\n",
    "    \"multi_match\": {\n",
    "      \"query\":   \"Poland Street W1V\",\n",
    "      \"type\":    \"most_fields\",\n",
    "      \"fields\":  [ \"street\", \"city\", \"country\", \"postcode\" ]\n",
    "    }\n",
    "  }\n",
    "}\n",
    "'"
   ]
  },
  {
   "cell_type": "markdown",
   "metadata": {},
   "source": [
    "matching poland in two fields could match higher than poland street matching in one field. We don't want that"
   ]
  },
  {
   "cell_type": "markdown",
   "metadata": {},
   "source": [
    "try using the \"and\" operator to trim the long tail of results however"
   ]
  },
  {
   "cell_type": "code",
   "execution_count": 2,
   "metadata": {
    "collapsed": false
   },
   "outputs": [
    {
     "name": "stdout",
     "output_type": "stream",
     "text": [
      "{\n",
      "  \"valid\" : true,\n",
      "  \"_shards\" : {\n",
      "    \"total\" : 10,\n",
      "    \"successful\" : 10,\n",
      "    \"failed\" : 0\n",
      "  },\n",
      "  \"explanations\" : [\n",
      "    {\n",
      "      \"index\" : \".kibana\",\n",
      "      \"valid\" : true,\n",
      "      \"explanation\" : \"(city:poland city:street city:w1v) (country:poland country:street country:w1v) (postcode:poland postcode:street postcode:w1v) (street:poland street:street street:w1v)\"\n",
      "    },\n",
      "    {\n",
      "      \"index\" : \"my_index\",\n",
      "      \"valid\" : true,\n",
      "      \"explanation\" : \"(city:poland city:street city:w1v) (country:poland country:street country:w1v) (postcode:poland postcode:street postcode:w1v) (street:poland street:street street:w1v)\"\n",
      "    },\n",
      "    {\n",
      "      \"index\" : \"my_temp_index\",\n",
      "      \"valid\" : true,\n",
      "      \"explanation\" : \"(city:poland city:street city:w1v) (country:poland country:street country:w1v) (postcode:poland postcode:street postcode:w1v) (street:poland street:street street:w1v)\"\n",
      "    },\n",
      "    {\n",
      "      \"index\" : \"blogs\",\n",
      "      \"valid\" : true,\n",
      "      \"explanation\" : \"(city:poland city:street city:w1v) (country:poland country:street country:w1v) (postcode:poland postcode:street postcode:w1v) (street:poland street:street street:w1v)\"\n",
      "    },\n",
      "    {\n",
      "      \"index\" : \"gb\",\n",
      "      \"valid\" : true,\n",
      "      \"explanation\" : \"(city:poland city:street city:w1v) (country:poland country:street country:w1v) (postcode:poland postcode:street postcode:w1v) (street:poland street:street street:w1v)\"\n",
      "    },\n",
      "    {\n",
      "      \"index\" : \"megacorp\",\n",
      "      \"valid\" : true,\n",
      "      \"explanation\" : \"(city:poland city:street city:w1v) (country:poland country:street country:w1v) (postcode:poland postcode:street postcode:w1v) (street:poland street:street street:w1v)\"\n",
      "    },\n",
      "    {\n",
      "      \"index\" : \"my_index_v1\",\n",
      "      \"valid\" : true,\n",
      "      \"explanation\" : \"(city:poland city:street city:w1v) (country:poland country:street country:w1v) (postcode:poland postcode:street postcode:w1v) (street:poland street:street street:w1v)\"\n",
      "    },\n",
      "    {\n",
      "      \"index\" : \"my_store\",\n",
      "      \"valid\" : true,\n",
      "      \"explanation\" : \"(city:poland city:street city:w1v) (country:poland country:street country:w1v) (postcode:poland postcode:street postcode:w1v) (street:poland street:street street:w1v)\"\n",
      "    },\n",
      "    {\n",
      "      \"index\" : \"spanish_docs\",\n",
      "      \"valid\" : true,\n",
      "      \"explanation\" : \"(city:poland city:street city:w1v) (country:poland country:street country:w1v) (postcode:poland postcode:street postcode:w1v) (street:poland street:street street:w1v)\"\n",
      "    },\n",
      "    {\n",
      "      \"index\" : \"us\",\n",
      "      \"valid\" : true,\n",
      "      \"explanation\" : \"(city:poland city:street city:w1v) (country:poland country:street country:w1v) (postcode:poland postcode:street postcode:w1v) (street:poland street:street street:w1v)\"\n",
      "    }\n",
      "  ]\n",
      "}\n"
     ]
    }
   ],
   "source": [
    "curl -XGET 'localhost:9200/_validate/query?explain&pretty' -H 'Content-Type: application/json' -d'\n",
    "{\n",
    "  \"query\": {\n",
    "    \"multi_match\": {\n",
    "      \"query\":   \"Poland Street W1V\",\n",
    "      \"type\":    \"most_fields\",\n",
    "      \"fields\":  [ \"street\", \"city\", \"country\", \"postcode\" ]\n",
    "    }\n",
    "  }\n",
    "}\n",
    "'"
   ]
  },
  {
   "cell_type": "markdown",
   "metadata": {},
   "source": [
    "all three of the words must match a given field to return any results. Still not what we want"
   ]
  },
  {
   "cell_type": "markdown",
   "metadata": {},
   "source": [
    "here is a use case where a more rare term showing in one field will score higher than an exact match"
   ]
  },
  {
   "cell_type": "code",
   "execution_count": 4,
   "metadata": {
    "collapsed": false
   },
   "outputs": [
    {
     "name": "stdout",
     "output_type": "stream",
     "text": [
      "{\n",
      "  \"took\" : 1,\n",
      "  \"timed_out\" : false,\n",
      "  \"_shards\" : {\n",
      "    \"total\" : 1,\n",
      "    \"successful\" : 1,\n",
      "    \"failed\" : 0\n",
      "  },\n",
      "  \"hits\" : {\n",
      "    \"total\" : 0,\n",
      "    \"max_score\" : null,\n",
      "    \"hits\" : [ ]\n",
      "  }\n",
      "}\n"
     ]
    }
   ],
   "source": [
    "curl -XGET 'localhost:9200/my_index/_search?pretty' -H 'Content-Type: application/json' -d'\n",
    "{\n",
    "    \"query\": {\n",
    "        \"multi_match\": {\n",
    "            \"query\":       \"Peter Smith\",\n",
    "            \"type\":        \"most_fields\",\n",
    "            \"fields\":      [ \"*_name\" ]\n",
    "        }\n",
    "    }\n",
    "}\n",
    "'"
   ]
  },
  {
   "cell_type": "markdown",
   "metadata": {},
   "source": [
    "Smith Williams will score higher than Peter Smith!"
   ]
  },
  {
   "cell_type": "markdown",
   "metadata": {},
   "source": [
    "The solution is to add a third composite field for first and last name: full_name and search on that"
   ]
  },
  {
   "cell_type": "markdown",
   "metadata": {},
   "source": [
    "however, we don't care much for redundant data. Onto the next section"
   ]
  },
  {
   "cell_type": "code",
   "execution_count": null,
   "metadata": {
    "collapsed": true
   },
   "outputs": [],
   "source": []
  }
 ],
 "metadata": {
  "kernelspec": {
   "display_name": "Bash",
   "language": "bash",
   "name": "bash"
  },
  "language_info": {
   "codemirror_mode": "shell",
   "file_extension": ".sh",
   "mimetype": "text/x-sh",
   "name": "bash"
  }
 },
 "nbformat": 4,
 "nbformat_minor": 2
}

{
 "cells": [
  {
   "cell_type": "markdown",
   "metadata": {},
   "source": [
    "simple multiple field match"
   ]
  },
  {
   "cell_type": "code",
   "execution_count": 1,
   "metadata": {
    "collapsed": false
   },
   "outputs": [
    {
     "name": "stdout",
     "output_type": "stream",
     "text": [
      "{\n",
      "  \"took\" : 5,\n",
      "  \"timed_out\" : false,\n",
      "  \"_shards\" : {\n",
      "    \"total\" : 36,\n",
      "    \"successful\" : 36,\n",
      "    \"failed\" : 0\n",
      "  },\n",
      "  \"hits\" : {\n",
      "    \"total\" : 0,\n",
      "    \"max_score\" : null,\n",
      "    \"hits\" : [ ]\n",
      "  }\n",
      "}\n"
     ]
    }
   ],
   "source": [
    "curl -XGET 'localhost:9200/_search?pretty' -H 'Content-Type: application/json' -d'\n",
    "{\n",
    "  \"query\": {\n",
    "    \"bool\": {\n",
    "      \"should\": [\n",
    "        { \"match\": { \"title\":  \"War and Peace\" }},\n",
    "        { \"match\": { \"author\": \"Leo Tolstoy\"   }}\n",
    "      ]\n",
    "    }\n",
    "  }\n",
    "}\n",
    "'"
   ]
  },
  {
   "cell_type": "markdown",
   "metadata": {},
   "source": [
    "qualify the results with another bool"
   ]
  },
  {
   "cell_type": "code",
   "execution_count": 2,
   "metadata": {
    "collapsed": false
   },
   "outputs": [
    {
     "name": "stdout",
     "output_type": "stream",
     "text": [
      "{\n",
      "  \"took\" : 8,\n",
      "  \"timed_out\" : false,\n",
      "  \"_shards\" : {\n",
      "    \"total\" : 36,\n",
      "    \"successful\" : 36,\n",
      "    \"failed\" : 0\n",
      "  },\n",
      "  \"hits\" : {\n",
      "    \"total\" : 0,\n",
      "    \"max_score\" : null,\n",
      "    \"hits\" : [ ]\n",
      "  }\n",
      "}\n"
     ]
    }
   ],
   "source": [
    "curl -XGET 'localhost:9200/_search?pretty' -H 'Content-Type: application/json' -d'\n",
    "{\n",
    "  \"query\": {\n",
    "    \"bool\": {\n",
    "      \"should\": [\n",
    "        { \"match\": { \"title\":  \"War and Peace\" }},\n",
    "        { \"match\": { \"author\": \"Leo Tolstoy\"   }},\n",
    "        { \"bool\":  {\n",
    "          \"should\": [\n",
    "            { \"match\": { \"translator\": \"Constance Garnett\" }},\n",
    "            { \"match\": { \"translator\": \"Louise Maude\"      }}\n",
    "          ]\n",
    "        }}\n",
    "      ]\n",
    "    }\n",
    "  }\n",
    "}\n",
    "'"
   ]
  },
  {
   "cell_type": "markdown",
   "metadata": {},
   "source": [
    "give a simple boost to give the title and author more scoring weight"
   ]
  },
  {
   "cell_type": "code",
   "execution_count": 3,
   "metadata": {
    "collapsed": false
   },
   "outputs": [
    {
     "name": "stdout",
     "output_type": "stream",
     "text": [
      "{\n",
      "  \"took\" : 9,\n",
      "  \"timed_out\" : false,\n",
      "  \"_shards\" : {\n",
      "    \"total\" : 36,\n",
      "    \"successful\" : 36,\n",
      "    \"failed\" : 0\n",
      "  },\n",
      "  \"hits\" : {\n",
      "    \"total\" : 0,\n",
      "    \"max_score\" : null,\n",
      "    \"hits\" : [ ]\n",
      "  }\n",
      "}\n"
     ]
    }
   ],
   "source": [
    "curl -XGET 'localhost:9200/_search?pretty' -H 'Content-Type: application/json' -d'\n",
    "{\n",
    "  \"query\": {\n",
    "    \"bool\": {\n",
    "      \"should\": [\n",
    "        { \"match\": { \n",
    "            \"title\":  {\n",
    "              \"query\": \"War and Peace\",\n",
    "              \"boost\": 2\n",
    "        }}},\n",
    "        { \"match\": { \n",
    "            \"author\":  {\n",
    "              \"query\": \"Leo Tolstoy\",\n",
    "              \"boost\": 2\n",
    "        }}},\n",
    "        { \"bool\":  { \n",
    "            \"should\": [\n",
    "              { \"match\": { \"translator\": \"Constance Garnett\" }},\n",
    "              { \"match\": { \"translator\": \"Louise Maude\"      }}\n",
    "            ]\n",
    "        }}\n",
    "      ]\n",
    "    }\n",
    "  }\n",
    "}\n",
    "'"
   ]
  },
  {
   "cell_type": "code",
   "execution_count": null,
   "metadata": {
    "collapsed": true
   },
   "outputs": [],
   "source": []
  }
 ],
 "metadata": {
  "kernelspec": {
   "display_name": "Bash",
   "language": "bash",
   "name": "bash"
  },
  "language_info": {
   "codemirror_mode": "shell",
   "file_extension": ".sh",
   "mimetype": "text/x-sh",
   "name": "bash"
  }
 },
 "nbformat": 4,
 "nbformat_minor": 2
}

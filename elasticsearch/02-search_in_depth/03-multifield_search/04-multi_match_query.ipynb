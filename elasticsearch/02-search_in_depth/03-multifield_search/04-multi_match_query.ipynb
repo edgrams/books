{
 "cells": [
  {
   "cell_type": "markdown",
   "metadata": {},
   "source": [
    "this multi field search"
   ]
  },
  {
   "cell_type": "code",
   "execution_count": 2,
   "metadata": {
    "collapsed": false
   },
   "outputs": [
    {
     "name": "stdout",
     "output_type": "stream",
     "text": [
      "{\n",
      "  \"took\" : 1,\n",
      "  \"timed_out\" : false,\n",
      "  \"_shards\" : {\n",
      "    \"total\" : 1,\n",
      "    \"successful\" : 1,\n",
      "    \"failed\" : 0\n",
      "  },\n",
      "  \"hits\" : {\n",
      "    \"total\" : 2,\n",
      "    \"max_score\" : 1.3646611,\n",
      "    \"hits\" : [\n",
      "      {\n",
      "        \"_index\" : \"my_index\",\n",
      "        \"_type\" : \"my_type\",\n",
      "        \"_id\" : \"2\",\n",
      "        \"_score\" : 1.3646611,\n",
      "        \"_source\" : {\n",
      "          \"title\" : \"Keeping pets healthy\",\n",
      "          \"body\" : \"My quick brown fox eats rabbits on a regular basis.\"\n",
      "        }\n",
      "      },\n",
      "      {\n",
      "        \"_index\" : \"my_index\",\n",
      "        \"_type\" : \"my_type\",\n",
      "        \"_id\" : \"1\",\n",
      "        \"_score\" : 1.2823864,\n",
      "        \"_source\" : {\n",
      "          \"title\" : \"Quick brown rabbits\",\n",
      "          \"body\" : \"Brown rabbits are commonly seen.\"\n",
      "        }\n",
      "      }\n",
      "    ]\n",
      "  }\n",
      "}\n"
     ]
    }
   ],
   "source": [
    "curl -XGET 'localhost:9200/my_index/my_type/_search?pretty' -H 'Content-Type: application/json' -d'\n",
    "{\n",
    "    \"query\": {\n",
    "        \"dis_max\": {\n",
    "            \"queries\": [\n",
    "                {\n",
    "                    \"match\": {\n",
    "                        \"title\": {\n",
    "                            \"query\": \"Quick brown fox\",\n",
    "                            \"minimum_should_match\": \"30%\"\n",
    "                        }\n",
    "                    }\n",
    "                },\n",
    "                {\n",
    "                    \"match\": {\n",
    "                        \"body\": {\n",
    "                            \"query\": \"Quick brown fox\",\n",
    "                            \"minimum_should_match\": \"30%\"\n",
    "                        }\n",
    "                    }\n",
    "                }\n",
    "            ],\n",
    "            \"tie_breaker\": 0.3\n",
    "        }\n",
    "    }\n",
    "}\n",
    "'"
   ]
  },
  {
   "cell_type": "markdown",
   "metadata": {},
   "source": [
    "can be simplified using the multi match query (best_fields is the default type)"
   ]
  },
  {
   "cell_type": "code",
   "execution_count": 5,
   "metadata": {
    "collapsed": false
   },
   "outputs": [
    {
     "name": "stdout",
     "output_type": "stream",
     "text": [
      "{\n",
      "  \"took\" : 4,\n",
      "  \"timed_out\" : false,\n",
      "  \"_shards\" : {\n",
      "    \"total\" : 1,\n",
      "    \"successful\" : 1,\n",
      "    \"failed\" : 0\n",
      "  },\n",
      "  \"hits\" : {\n",
      "    \"total\" : 2,\n",
      "    \"max_score\" : 1.3646611,\n",
      "    \"hits\" : [\n",
      "      {\n",
      "        \"_index\" : \"my_index\",\n",
      "        \"_type\" : \"my_type\",\n",
      "        \"_id\" : \"2\",\n",
      "        \"_score\" : 1.3646611,\n",
      "        \"_source\" : {\n",
      "          \"title\" : \"Keeping pets healthy\",\n",
      "          \"body\" : \"My quick brown fox eats rabbits on a regular basis.\"\n",
      "        }\n",
      "      },\n",
      "      {\n",
      "        \"_index\" : \"my_index\",\n",
      "        \"_type\" : \"my_type\",\n",
      "        \"_id\" : \"1\",\n",
      "        \"_score\" : 1.2823864,\n",
      "        \"_source\" : {\n",
      "          \"title\" : \"Quick brown rabbits\",\n",
      "          \"body\" : \"Brown rabbits are commonly seen.\"\n",
      "        }\n",
      "      }\n",
      "    ]\n",
      "  }\n",
      "}\n"
     ]
    }
   ],
   "source": [
    "curl -XGET 'localhost:9200/my_index/my_type/_search?pretty' -H 'Content-Type: application/json' -d'\n",
    "{\n",
    "    \"query\": {\n",
    "        \"multi_match\": {\n",
    "            \"query\":                \"Quick brown fox\",\n",
    "            \"type\":                 \"best_fields\", \n",
    "            \"fields\":               [ \"title\", \"body\" ],\n",
    "            \"tie_breaker\":          0.3,\n",
    "            \"minimum_should_match\": \"30%\" \n",
    "        }\n",
    "    \n",
    "}\n",
    "'"
   ]
  },
  {
   "cell_type": "markdown",
   "metadata": {},
   "source": [
    "can use wildcards"
   ]
  },
  {
   "cell_type": "code",
   "execution_count": 9,
   "metadata": {
    "collapsed": false,
    "scrolled": true
   },
   "outputs": [
    {
     "name": "stdout",
     "output_type": "stream",
     "text": [
      "{\n",
      "  \"took\" : 1,\n",
      "  \"timed_out\" : false,\n",
      "  \"_shards\" : {\n",
      "    \"total\" : 1,\n",
      "    \"successful\" : 1,\n",
      "    \"failed\" : 0\n",
      "  },\n",
      "  \"hits\" : {\n",
      "    \"total\" : 1,\n",
      "    \"max_score\" : 1.219939,\n",
      "    \"hits\" : [\n",
      "      {\n",
      "        \"_index\" : \"my_index\",\n",
      "        \"_type\" : \"my_type\",\n",
      "        \"_id\" : \"1\",\n",
      "        \"_score\" : 1.219939,\n",
      "        \"_source\" : {\n",
      "          \"title\" : \"Quick brown rabbits\",\n",
      "          \"body\" : \"Brown rabbits are commonly seen.\"\n",
      "        }\n",
      "      }\n",
      "    ]\n",
      "  }\n",
      "}\n"
     ]
    }
   ],
   "source": [
    "curl -XGET 'localhost:9200/my_index/my_type/_search?pretty' -H 'Content-Type: application/json' -d'\n",
    "{\n",
    "    \"query\": {\n",
    "        \"multi_match\": {\n",
    "            \"query\":  \"Quick brown fox\",\n",
    "            \"fields\": \"*itle\"\n",
    "        }\n",
    "    }\n",
    "}\n",
    "'"
   ]
  },
  {
   "cell_type": "markdown",
   "metadata": {},
   "source": [
    "can add a boost to specific fields"
   ]
  },
  {
   "cell_type": "code",
   "execution_count": 10,
   "metadata": {
    "collapsed": false
   },
   "outputs": [
    {
     "name": "stdout",
     "output_type": "stream",
     "text": [
      "{\n",
      "  \"took\" : 2,\n",
      "  \"timed_out\" : false,\n",
      "  \"_shards\" : {\n",
      "    \"total\" : 1,\n",
      "    \"successful\" : 1,\n",
      "    \"failed\" : 0\n",
      "  },\n",
      "  \"hits\" : {\n",
      "    \"total\" : 2,\n",
      "    \"max_score\" : 2.7293222,\n",
      "    \"hits\" : [\n",
      "      {\n",
      "        \"_index\" : \"my_index\",\n",
      "        \"_type\" : \"my_type\",\n",
      "        \"_id\" : \"2\",\n",
      "        \"_score\" : 2.7293222,\n",
      "        \"_source\" : {\n",
      "          \"title\" : \"Keeping pets healthy\",\n",
      "          \"body\" : \"My quick brown fox eats rabbits on a regular basis.\"\n",
      "        }\n",
      "      },\n",
      "      {\n",
      "        \"_index\" : \"my_index\",\n",
      "        \"_type\" : \"my_type\",\n",
      "        \"_id\" : \"1\",\n",
      "        \"_score\" : 1.219939,\n",
      "        \"_source\" : {\n",
      "          \"title\" : \"Quick brown rabbits\",\n",
      "          \"body\" : \"Brown rabbits are commonly seen.\"\n",
      "        }\n",
      "      }\n",
      "    ]\n",
      "  }\n",
      "}\n"
     ]
    }
   ],
   "source": [
    "curl -XGET 'localhost:9200/my_index/my_type/_search?pretty' -H 'Content-Type: application/json' -d'\n",
    "{\n",
    "    \"query\": {\n",
    "        \"multi_match\": {\n",
    "            \"query\":  \"Quick brown fox\",\n",
    "            \"fields\": [ \"*itle\", \"body^2\" ] \n",
    "        }\n",
    "    }\n",
    "}\n",
    "'"
   ]
  },
  {
   "cell_type": "code",
   "execution_count": null,
   "metadata": {
    "collapsed": true
   },
   "outputs": [],
   "source": []
  }
 ],
 "metadata": {
  "kernelspec": {
   "display_name": "Bash",
   "language": "bash",
   "name": "bash"
  },
  "language_info": {
   "codemirror_mode": "shell",
   "file_extension": ".sh",
   "mimetype": "text/x-sh",
   "name": "bash"
  }
 },
 "nbformat": 4,
 "nbformat_minor": 2
}

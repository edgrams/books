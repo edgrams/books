{
 "cells": [
  {
   "cell_type": "markdown",
   "metadata": {},
   "source": [
    "wipe the current index"
   ]
  },
  {
   "cell_type": "code",
   "execution_count": 3,
   "metadata": {
    "collapsed": false
   },
   "outputs": [
    {
     "name": "stdout",
     "output_type": "stream",
     "text": [
      "{\n",
      "  \"error\" : {\n",
      "    \"root_cause\" : [\n",
      "      {\n",
      "        \"type\" : \"index_not_found_exception\",\n",
      "        \"reason\" : \"no such index\",\n",
      "        \"resource.type\" : \"index_or_alias\",\n",
      "        \"resource.id\" : \"my_index\",\n",
      "        \"index_uuid\" : \"_na_\",\n",
      "        \"index\" : \"my_index\"\n",
      "      }\n",
      "    ],\n",
      "    \"type\" : \"index_not_found_exception\",\n",
      "    \"reason\" : \"no such index\",\n",
      "    \"resource.type\" : \"index_or_alias\",\n",
      "    \"resource.id\" : \"my_index\",\n",
      "    \"index_uuid\" : \"_na_\",\n",
      "    \"index\" : \"my_index\"\n",
      "  },\n",
      "  \"status\" : 404\n",
      "}\n"
     ]
    }
   ],
   "source": [
    "curl -XDELETE 'localhost:9200/my_index?pretty'"
   ]
  },
  {
   "cell_type": "markdown",
   "metadata": {},
   "source": [
    "allow one primary shard"
   ]
  },
  {
   "cell_type": "code",
   "execution_count": 4,
   "metadata": {
    "collapsed": false
   },
   "outputs": [
    {
     "name": "stdout",
     "output_type": "stream",
     "text": [
      "{\n",
      "  \"acknowledged\" : true,\n",
      "  \"shards_acknowledged\" : true\n",
      "}\n"
     ]
    }
   ],
   "source": [
    "curl -XPUT 'localhost:9200/my_index?pretty' -H 'Content-Type: application/json' -d'\n",
    "{ \"settings\": { \"number_of_shards\": 1 }}\n",
    "'"
   ]
  },
  {
   "cell_type": "markdown",
   "metadata": {},
   "source": [
    "some test data"
   ]
  },
  {
   "cell_type": "code",
   "execution_count": 5,
   "metadata": {
    "collapsed": false
   },
   "outputs": [
    {
     "name": "stdout",
     "output_type": "stream",
     "text": [
      "{\n",
      "  \"_index\" : \"my_index\",\n",
      "  \"_type\" : \"my_type\",\n",
      "  \"_id\" : \"1\",\n",
      "  \"_version\" : 1,\n",
      "  \"result\" : \"created\",\n",
      "  \"_shards\" : {\n",
      "    \"total\" : 2,\n",
      "    \"successful\" : 2,\n",
      "    \"failed\" : 0\n",
      "  },\n",
      "  \"created\" : true\n",
      "}\n",
      "{\n",
      "  \"_index\" : \"my_index\",\n",
      "  \"_type\" : \"my_type\",\n",
      "  \"_id\" : \"2\",\n",
      "  \"_version\" : 1,\n",
      "  \"result\" : \"created\",\n",
      "  \"_shards\" : {\n",
      "    \"total\" : 2,\n",
      "    \"successful\" : 2,\n",
      "    \"failed\" : 0\n",
      "  },\n",
      "  \"created\" : true\n",
      "}\n"
     ]
    }
   ],
   "source": [
    "curl -XPUT 'localhost:9200/my_index/my_type/1?pretty' -H 'Content-Type: application/json' -d'\n",
    "{\n",
    "    \"title\": \"Quick brown rabbits\",\n",
    "    \"body\":  \"Brown rabbits are commonly seen.\"\n",
    "}\n",
    "'\n",
    "curl -XPUT 'localhost:9200/my_index/my_type/2?pretty' -H 'Content-Type: application/json' -d'\n",
    "{\n",
    "    \"title\": \"Keeping pets healthy\",\n",
    "    \"body\":  \"My quick brown fox eats rabbits on a regular basis.\"\n",
    "}\n",
    "'"
   ]
  },
  {
   "cell_type": "markdown",
   "metadata": {},
   "source": [
    " not sure which fields we should be searching w/ the query, let's try both"
   ]
  },
  {
   "cell_type": "code",
   "execution_count": 15,
   "metadata": {
    "collapsed": false
   },
   "outputs": [
    {
     "name": "stdout",
     "output_type": "stream",
     "text": [
      "{\n",
      "  \"took\" : 2,\n",
      "  \"timed_out\" : false,\n",
      "  \"_shards\" : {\n",
      "    \"total\" : 1,\n",
      "    \"successful\" : 1,\n",
      "    \"failed\" : 0\n",
      "  },\n",
      "  \"hits\" : {\n",
      "    \"total\" : 2,\n",
      "    \"max_score\" : 0.8181274,\n",
      "    \"hits\" : [\n",
      "      {\n",
      "        \"_index\" : \"my_index\",\n",
      "        \"_type\" : \"my_type\",\n",
      "        \"_id\" : \"1\",\n",
      "        \"_score\" : 0.8181274,\n",
      "        \"_source\" : {\n",
      "          \"title\" : \"Quick brown rabbits\",\n",
      "          \"body\" : \"Brown rabbits are commonly seen.\"\n",
      "        }\n",
      "      },\n",
      "      {\n",
      "        \"_index\" : \"my_index\",\n",
      "        \"_type\" : \"my_type\",\n",
      "        \"_id\" : \"2\",\n",
      "        \"_score\" : 0.7616384,\n",
      "        \"_source\" : {\n",
      "          \"title\" : \"Keeping pets healthy\",\n",
      "          \"body\" : \"My quick brown fox eats rabbits on a regular basis.\"\n",
      "        }\n",
      "      }\n",
      "    ]\n",
      "  }\n",
      "}\n"
     ]
    }
   ],
   "source": [
    "curl -XGET 'localhost:9200/my_index/my_type/_search?pretty' -H 'Content-Type: application/json' -d'\n",
    "{\n",
    "    \"query\": {\n",
    "        \"bool\": {\n",
    "            \"should\": [\n",
    "                { \"match\": { \"title\": \"Brown fox\" }},\n",
    "                { \"match\": { \"body\":  \"Brown fox\" }}\n",
    "            ]\n",
    "        }\n",
    "    }\n",
    "}\n",
    "'"
   ]
  },
  {
   "cell_type": "markdown",
   "metadata": {},
   "source": [
    "disjunction max query - return the best field matching score"
   ]
  },
  {
   "cell_type": "code",
   "execution_count": 16,
   "metadata": {
    "collapsed": false
   },
   "outputs": [
    {
     "name": "stdout",
     "output_type": "stream",
     "text": [
      "{\n",
      "  \"took\" : 3,\n",
      "  \"timed_out\" : false,\n",
      "  \"_shards\" : {\n",
      "    \"total\" : 1,\n",
      "    \"successful\" : 1,\n",
      "    \"failed\" : 0\n",
      "  },\n",
      "  \"hits\" : {\n",
      "    \"total\" : 2,\n",
      "    \"max_score\" : 0.7616384,\n",
      "    \"hits\" : [\n",
      "      {\n",
      "        \"_index\" : \"my_index\",\n",
      "        \"_type\" : \"my_type\",\n",
      "        \"_id\" : \"2\",\n",
      "        \"_score\" : 0.7616384,\n",
      "        \"_source\" : {\n",
      "          \"title\" : \"Keeping pets healthy\",\n",
      "          \"body\" : \"My quick brown fox eats rabbits on a regular basis.\"\n",
      "        }\n",
      "      },\n",
      "      {\n",
      "        \"_index\" : \"my_index\",\n",
      "        \"_type\" : \"my_type\",\n",
      "        \"_id\" : \"1\",\n",
      "        \"_score\" : 0.6099695,\n",
      "        \"_source\" : {\n",
      "          \"title\" : \"Quick brown rabbits\",\n",
      "          \"body\" : \"Brown rabbits are commonly seen.\"\n",
      "        }\n",
      "      }\n",
      "    ]\n",
      "  }\n",
      "}\n"
     ]
    }
   ],
   "source": [
    "curl -XGET 'localhost:9200/my_index/my_type/_search?pretty' -H 'Content-Type: application/json' -d'\n",
    "{\n",
    "    \"query\": {\n",
    "        \"dis_max\": {\n",
    "            \"queries\": [\n",
    "                { \"match\": { \"title\": \"Brown fox\" }},\n",
    "                { \"match\": { \"body\":  \"Brown fox\" }}\n",
    "            ]\n",
    "        }\n",
    "    }\n",
    "}\n",
    "'"
   ]
  },
  {
   "cell_type": "code",
   "execution_count": null,
   "metadata": {
    "collapsed": true
   },
   "outputs": [],
   "source": []
  }
 ],
 "metadata": {
  "kernelspec": {
   "display_name": "Bash",
   "language": "bash",
   "name": "bash"
  },
  "language_info": {
   "codemirror_mode": "shell",
   "file_extension": ".sh",
   "mimetype": "text/x-sh",
   "name": "bash"
  }
 },
 "nbformat": 4,
 "nbformat_minor": 2
}

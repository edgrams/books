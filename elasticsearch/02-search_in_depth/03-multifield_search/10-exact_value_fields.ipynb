{
 "cells": [
  {
   "cell_type": "markdown",
   "metadata": {},
   "source": [
    "for multi_match, best not to mix fields with non_analyzed and analyzed"
   ]
  },
  {
   "cell_type": "markdown",
   "metadata": {},
   "source": [
    "imagine if title was not_analyzed, it would look for the entire string to match the title!"
   ]
  },
  {
   "cell_type": "code",
   "execution_count": 1,
   "metadata": {
    "collapsed": false
   },
   "outputs": [
    {
     "name": "stdout",
     "output_type": "stream",
     "text": [
      "{\n",
      "  \"valid\" : true,\n",
      "  \"_shards\" : {\n",
      "    \"total\" : 10,\n",
      "    \"successful\" : 10,\n",
      "    \"failed\" : 0\n",
      "  },\n",
      "  \"explanations\" : [\n",
      "    {\n",
      "      \"index\" : \".kibana\",\n",
      "      \"valid\" : true,\n",
      "      \"explanation\" : \"(first_name:peter first_name:smith) (last_name:peter last_name:smith) (title:peter title:smith)\"\n",
      "    },\n",
      "    {\n",
      "      \"index\" : \"my_temp_index\",\n",
      "      \"valid\" : true,\n",
      "      \"explanation\" : \"(first_name:peter first_name:smith) (last_name:peter last_name:smith) (title:peter title:smith)\"\n",
      "    },\n",
      "    {\n",
      "      \"index\" : \"blogs\",\n",
      "      \"valid\" : true,\n",
      "      \"explanation\" : \"(first_name:peter first_name:smith) (last_name:peter last_name:smith) (title:peter title:smith)\"\n",
      "    },\n",
      "    {\n",
      "      \"index\" : \"gb\",\n",
      "      \"valid\" : true,\n",
      "      \"explanation\" : \"(first_name:peter first_name:smith) (last_name:peter last_name:smith) (title:peter title:smith)\"\n",
      "    },\n",
      "    {\n",
      "      \"index\" : \"megacorp\",\n",
      "      \"valid\" : true,\n",
      "      \"explanation\" : \"(title:peter title:smith) (blended(terms:[first_name:peter, last_name:peter]) blended(terms:[first_name:smith, last_name:smith]))\"\n",
      "    },\n",
      "    {\n",
      "      \"index\" : \"my_index\",\n",
      "      \"valid\" : true,\n",
      "      \"explanation\" : \"(last_name:peter last_name:smith) (title:peter title:smith) (first_name:peter first_name:smith)\"\n",
      "    },\n",
      "    {\n",
      "      \"index\" : \"my_index_v1\",\n",
      "      \"valid\" : true,\n",
      "      \"explanation\" : \"(first_name:peter first_name:smith) (last_name:peter last_name:smith) (title:peter title:smith)\"\n",
      "    },\n",
      "    {\n",
      "      \"index\" : \"my_store\",\n",
      "      \"valid\" : true,\n",
      "      \"explanation\" : \"(first_name:peter first_name:smith) (last_name:peter last_name:smith) (title:peter title:smith)\"\n",
      "    },\n",
      "    {\n",
      "      \"index\" : \"spanish_docs\",\n",
      "      \"valid\" : true,\n",
      "      \"explanation\" : \"(first_name:peter first_name:smith) (last_name:peter last_name:smith) (title:peter title:smith)\"\n",
      "    },\n",
      "    {\n",
      "      \"index\" : \"us\",\n",
      "      \"valid\" : true,\n",
      "      \"explanation\" : \"(first_name:peter first_name:smith) (last_name:peter last_name:smith) (title:peter title:smith)\"\n",
      "    }\n",
      "  ]\n",
      "}\n"
     ]
    }
   ],
   "source": [
    "curl -XGET 'localhost:9200/_validate/query?explain&pretty' -H 'Content-Type: application/json' -d'\n",
    "{\n",
    "    \"query\": {\n",
    "        \"multi_match\": {\n",
    "            \"query\":       \"peter smith\",\n",
    "            \"type\":        \"cross_fields\",\n",
    "            \"fields\":      [ \"title\", \"first_name\", \"last_name\" ]\n",
    "        }\n",
    "    }\n",
    "}\n",
    "'"
   ]
  },
  {
   "cell_type": "code",
   "execution_count": null,
   "metadata": {
    "collapsed": true
   },
   "outputs": [],
   "source": []
  }
 ],
 "metadata": {
  "kernelspec": {
   "display_name": "Bash",
   "language": "bash",
   "name": "bash"
  },
  "language_info": {
   "codemirror_mode": "shell",
   "file_extension": ".sh",
   "mimetype": "text/x-sh",
   "name": "bash"
  }
 },
 "nbformat": 4,
 "nbformat_minor": 2
}

{
 "cells": [
  {
   "cell_type": "markdown",
   "metadata": {},
   "source": [
    "give more weight (relevance) for ElasticSearch and Lucene"
   ]
  },
  {
   "cell_type": "code",
   "execution_count": 1,
   "metadata": {
    "collapsed": false
   },
   "outputs": [
    {
     "name": "stdout",
     "output_type": "stream",
     "text": [
      "{\n",
      "  \"took\" : 36,\n",
      "  \"timed_out\" : false,\n",
      "  \"_shards\" : {\n",
      "    \"total\" : 36,\n",
      "    \"successful\" : 36,\n",
      "    \"failed\" : 0\n",
      "  },\n",
      "  \"hits\" : {\n",
      "    \"total\" : 0,\n",
      "    \"max_score\" : null,\n",
      "    \"hits\" : [ ]\n",
      "  }\n",
      "}\n"
     ]
    }
   ],
   "source": [
    "curl -XGET 'localhost:9200/_search?pretty' -H 'Content-Type: application/json' -d'\n",
    "{\n",
    "    \"query\": {\n",
    "        \"bool\": {\n",
    "            \"must\": {\n",
    "                \"match\": {\n",
    "                    \"content\": { \n",
    "                        \"query\":    \"full text search\",\n",
    "                        \"operator\": \"and\"\n",
    "                    }\n",
    "                }\n",
    "            },\n",
    "            \"should\": [ \n",
    "                { \"match\": { \"content\": \"Elasticsearch\" }},\n",
    "                { \"match\": { \"content\": \"Lucene\"        }}\n",
    "            ]\n",
    "        }\n",
    "    }\n",
    "}\n",
    "'"
   ]
  },
  {
   "cell_type": "markdown",
   "metadata": {},
   "source": [
    "more granular control by boosting terms using a weight"
   ]
  },
  {
   "cell_type": "code",
   "execution_count": 2,
   "metadata": {
    "collapsed": false
   },
   "outputs": [
    {
     "name": "stdout",
     "output_type": "stream",
     "text": [
      "{\n",
      "  \"took\" : 5,\n",
      "  \"timed_out\" : false,\n",
      "  \"_shards\" : {\n",
      "    \"total\" : 36,\n",
      "    \"successful\" : 36,\n",
      "    \"failed\" : 0\n",
      "  },\n",
      "  \"hits\" : {\n",
      "    \"total\" : 0,\n",
      "    \"max_score\" : null,\n",
      "    \"hits\" : [ ]\n",
      "  }\n",
      "}\n"
     ]
    }
   ],
   "source": [
    "curl -XGET 'localhost:9200/_search?pretty' -H 'Content-Type: application/json' -d'\n",
    "{\n",
    "    \"query\": {\n",
    "        \"bool\": {\n",
    "            \"must\": {\n",
    "                \"match\": {  \n",
    "                    \"content\": {\n",
    "                        \"query\":    \"full text search\",\n",
    "                        \"operator\": \"and\"\n",
    "                    }\n",
    "                }\n",
    "            },\n",
    "            \"should\": [\n",
    "                { \"match\": {\n",
    "                    \"content\": {\n",
    "                        \"query\": \"Elasticsearch\",\n",
    "                        \"boost\": 3 \n",
    "                    }\n",
    "                }},\n",
    "                { \"match\": {\n",
    "                    \"content\": {\n",
    "                        \"query\": \"Lucene\",\n",
    "                        \"boost\": 2 \n",
    "                    }\n",
    "                }}\n",
    "            ]\n",
    "        }\n",
    "    }\n",
    "}\n",
    "'"
   ]
  },
  {
   "cell_type": "markdown",
   "metadata": {},
   "source": [
    "the boost value is complicated, and overriding it is outside of this book!"
   ]
  },
  {
   "cell_type": "code",
   "execution_count": null,
   "metadata": {
    "collapsed": true
   },
   "outputs": [],
   "source": []
  }
 ],
 "metadata": {
  "kernelspec": {
   "display_name": "Bash",
   "language": "bash",
   "name": "bash"
  },
  "language_info": {
   "codemirror_mode": "shell",
   "file_extension": ".sh",
   "mimetype": "text/x-sh",
   "name": "bash"
  }
 },
 "nbformat": 4,
 "nbformat_minor": 2
}

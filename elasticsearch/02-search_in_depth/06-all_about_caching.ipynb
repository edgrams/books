{
 "cells": [
  {
   "cell_type": "markdown",
   "metadata": {},
   "source": [
    "these two queries are identical, and share the same bitset"
   ]
  },
  {
   "cell_type": "markdown",
   "metadata": {},
   "source": [
    "GET /inbox/emails/_search\n",
    "{\n",
    "  \"query\": {\n",
    "      \"constant_score\": {\n",
    "          \"filter\": {\n",
    "              \"bool\": {\n",
    "                 \"should\": [\n",
    "                    { \"bool\": {\n",
    "                          \"must\": [\n",
    "                             { \"term\": { \"folder\": \"inbox\" }}, \n",
    "                             { \"term\": { \"read\": false }}\n",
    "                          ]\n",
    "                    }},\n",
    "                    { \"bool\": {\n",
    "                          \"must_not\": {\n",
    "                             \"term\": { \"folder\": \"inbox\" } \n",
    "                          },\n",
    "                          \"must\": {\n",
    "                             \"term\": { \"important\": true }\n",
    "                          }\n",
    "                    }}\n",
    "                 ]\n",
    "              }\n",
    "            }\n",
    "        }\n",
    "    }\n",
    "}"
   ]
  },
  {
   "cell_type": "markdown",
   "metadata": {},
   "source": [
    "caching is based on the size of the documents returned and the number of times it is queried"
   ]
  },
  {
   "cell_type": "markdown",
   "metadata": {},
   "source": [
    "cache is cleared based upon LRU (least recently used) when the cache full"
   ]
  },
  {
   "cell_type": "code",
   "execution_count": null,
   "metadata": {
    "collapsed": true
   },
   "outputs": [],
   "source": []
  }
 ],
 "metadata": {
  "kernelspec": {
   "display_name": "Bash",
   "language": "bash",
   "name": "bash"
  },
  "language_info": {
   "codemirror_mode": "shell",
   "file_extension": ".sh",
   "mimetype": "text/x-sh",
   "name": "bash"
  }
 },
 "nbformat": 4,
 "nbformat_minor": 2
}

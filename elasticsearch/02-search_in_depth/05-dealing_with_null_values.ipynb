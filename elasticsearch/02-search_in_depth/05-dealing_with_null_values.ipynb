{
 "cells": [
  {
   "cell_type": "markdown",
   "metadata": {},
   "source": [
    "null, [] and [null] are equivalent"
   ]
  },
  {
   "cell_type": "markdown",
   "metadata": {},
   "source": [
    "lets add some more test data"
   ]
  },
  {
   "cell_type": "code",
   "execution_count": 1,
   "metadata": {
    "collapsed": false
   },
   "outputs": [
    {
     "name": "stdout",
     "output_type": "stream",
     "text": [
      "{\n",
      "  \"took\" : 408,\n",
      "  \"errors\" : false,\n",
      "  \"items\" : [\n",
      "    {\n",
      "      \"index\" : {\n",
      "        \"_index\" : \"my_index\",\n",
      "        \"_type\" : \"posts\",\n",
      "        \"_id\" : \"1\",\n",
      "        \"_version\" : 1,\n",
      "        \"result\" : \"created\",\n",
      "        \"_shards\" : {\n",
      "          \"total\" : 2,\n",
      "          \"successful\" : 2,\n",
      "          \"failed\" : 0\n",
      "        },\n",
      "        \"created\" : true,\n",
      "        \"status\" : 201\n",
      "      }\n",
      "    },\n",
      "    {\n",
      "      \"index\" : {\n",
      "        \"_index\" : \"my_index\",\n",
      "        \"_type\" : \"posts\",\n",
      "        \"_id\" : \"2\",\n",
      "        \"_version\" : 1,\n",
      "        \"result\" : \"created\",\n",
      "        \"_shards\" : {\n",
      "          \"total\" : 2,\n",
      "          \"successful\" : 2,\n",
      "          \"failed\" : 0\n",
      "        },\n",
      "        \"created\" : true,\n",
      "        \"status\" : 201\n",
      "      }\n",
      "    },\n",
      "    {\n",
      "      \"index\" : {\n",
      "        \"_index\" : \"my_index\",\n",
      "        \"_type\" : \"posts\",\n",
      "        \"_id\" : \"3\",\n",
      "        \"_version\" : 1,\n",
      "        \"result\" : \"created\",\n",
      "        \"_shards\" : {\n",
      "          \"total\" : 2,\n",
      "          \"successful\" : 2,\n",
      "          \"failed\" : 0\n",
      "        },\n",
      "        \"created\" : true,\n",
      "        \"status\" : 201\n",
      "      }\n",
      "    },\n",
      "    {\n",
      "      \"index\" : {\n",
      "        \"_index\" : \"my_index\",\n",
      "        \"_type\" : \"posts\",\n",
      "        \"_id\" : \"4\",\n",
      "        \"_version\" : 1,\n",
      "        \"result\" : \"created\",\n",
      "        \"_shards\" : {\n",
      "          \"total\" : 2,\n",
      "          \"successful\" : 2,\n",
      "          \"failed\" : 0\n",
      "        },\n",
      "        \"created\" : true,\n",
      "        \"status\" : 201\n",
      "      }\n",
      "    },\n",
      "    {\n",
      "      \"index\" : {\n",
      "        \"_index\" : \"my_index\",\n",
      "        \"_type\" : \"posts\",\n",
      "        \"_id\" : \"5\",\n",
      "        \"_version\" : 1,\n",
      "        \"result\" : \"created\",\n",
      "        \"_shards\" : {\n",
      "          \"total\" : 2,\n",
      "          \"successful\" : 2,\n",
      "          \"failed\" : 0\n",
      "        },\n",
      "        \"created\" : true,\n",
      "        \"status\" : 201\n",
      "      }\n",
      "    }\n",
      "  ]\n",
      "}\n"
     ]
    }
   ],
   "source": [
    "curl -XPOST 'localhost:9200/my_index/posts/_bulk?pretty' -H 'Content-Type: application/json' -d'\n",
    "{ \"index\": { \"_id\": \"1\"              }}\n",
    "{ \"tags\" : [\"search\"]                }  \n",
    "{ \"index\": { \"_id\": \"2\"              }}\n",
    "{ \"tags\" : [\"search\", \"open_source\"] }  \n",
    "{ \"index\": { \"_id\": \"3\"              }}\n",
    "{ \"other_field\" : \"some data\"        }  \n",
    "{ \"index\": { \"_id\": \"4\"              }}\n",
    "{ \"tags\" : null                      }  \n",
    "{ \"index\": { \"_id\": \"5\"              }}\n",
    "{ \"tags\" : [\"search\", null]          }\n",
    "'"
   ]
  },
  {
   "cell_type": "markdown",
   "metadata": {},
   "source": [
    "find all values where a tag is set using the exists query"
   ]
  },
  {
   "cell_type": "markdown",
   "metadata": {},
   "source": [
    "SELECT tags\n",
    "FROM   posts\n",
    "WHERE  tags IS NOT NULL"
   ]
  },
  {
   "cell_type": "code",
   "execution_count": 2,
   "metadata": {
    "collapsed": false
   },
   "outputs": [
    {
     "name": "stdout",
     "output_type": "stream",
     "text": [
      "{\n",
      "  \"took\" : 3,\n",
      "  \"timed_out\" : false,\n",
      "  \"_shards\" : {\n",
      "    \"total\" : 5,\n",
      "    \"successful\" : 5,\n",
      "    \"failed\" : 0\n",
      "  },\n",
      "  \"hits\" : {\n",
      "    \"total\" : 3,\n",
      "    \"max_score\" : 1.0,\n",
      "    \"hits\" : [\n",
      "      {\n",
      "        \"_index\" : \"my_index\",\n",
      "        \"_type\" : \"posts\",\n",
      "        \"_id\" : \"5\",\n",
      "        \"_score\" : 1.0,\n",
      "        \"_source\" : {\n",
      "          \"tags\" : [\n",
      "            \"search\",\n",
      "            null\n",
      "          ]\n",
      "        }\n",
      "      },\n",
      "      {\n",
      "        \"_index\" : \"my_index\",\n",
      "        \"_type\" : \"posts\",\n",
      "        \"_id\" : \"2\",\n",
      "        \"_score\" : 1.0,\n",
      "        \"_source\" : {\n",
      "          \"tags\" : [\n",
      "            \"search\",\n",
      "            \"open_source\"\n",
      "          ]\n",
      "        }\n",
      "      },\n",
      "      {\n",
      "        \"_index\" : \"my_index\",\n",
      "        \"_type\" : \"posts\",\n",
      "        \"_id\" : \"1\",\n",
      "        \"_score\" : 1.0,\n",
      "        \"_source\" : {\n",
      "          \"tags\" : [\n",
      "            \"search\"\n",
      "          ]\n",
      "        }\n",
      "      }\n",
      "    ]\n",
      "  }\n",
      "}\n"
     ]
    }
   ],
   "source": [
    "curl -XGET 'localhost:9200/my_index/posts/_search?pretty' -H 'Content-Type: application/json' -d'\n",
    "{\n",
    "    \"query\" : {\n",
    "        \"constant_score\" : {\n",
    "            \"filter\" : {\n",
    "                \"exists\" : { \"field\" : \"tags\" }\n",
    "            }\n",
    "        }\n",
    "    }\n",
    "}\n",
    "'"
   ]
  },
  {
   "cell_type": "markdown",
   "metadata": {},
   "source": [
    "use the must not exists to find the opposite"
   ]
  },
  {
   "cell_type": "markdown",
   "metadata": {},
   "source": [
    "SELECT tags\n",
    "FROM   posts\n",
    "WHERE  tags IS NULL"
   ]
  },
  {
   "cell_type": "code",
   "execution_count": 5,
   "metadata": {
    "collapsed": false,
    "scrolled": true
   },
   "outputs": [
    {
     "name": "stdout",
     "output_type": "stream",
     "text": [
      "{\n",
      "  \"took\" : 2,\n",
      "  \"timed_out\" : false,\n",
      "  \"_shards\" : {\n",
      "    \"total\" : 5,\n",
      "    \"successful\" : 5,\n",
      "    \"failed\" : 0\n",
      "  },\n",
      "  \"hits\" : {\n",
      "    \"total\" : 2,\n",
      "    \"max_score\" : 1.0,\n",
      "    \"hits\" : [\n",
      "      {\n",
      "        \"_index\" : \"my_index\",\n",
      "        \"_type\" : \"posts\",\n",
      "        \"_id\" : \"4\",\n",
      "        \"_score\" : 1.0,\n",
      "        \"_source\" : {\n",
      "          \"tags\" : null\n",
      "        }\n",
      "      },\n",
      "      {\n",
      "        \"_index\" : \"my_index\",\n",
      "        \"_type\" : \"posts\",\n",
      "        \"_id\" : \"3\",\n",
      "        \"_score\" : 1.0,\n",
      "        \"_source\" : {\n",
      "          \"other_field\" : \"some data\"\n",
      "        }\n",
      "      }\n",
      "    ]\n",
      "  }\n",
      "}\n"
     ]
    }
   ],
   "source": [
    "curl -XGET 'localhost:9200/my_index/posts/_search?pretty' -H 'Content-Type: application/json' -d'\n",
    "{\n",
    "    \"query\": {\n",
    "        \"constant_score\" : { \n",
    "            \"filter\" : {\n",
    "                \"bool\": {\n",
    "                    \"must_not\": {\n",
    "                        \"exists\" : { \"field\" : \"tags\" }\n",
    "                    }\n",
    "                }\n",
    "            }\n",
    "        }\n",
    "    }\n",
    "}\n",
    "'"
   ]
  },
  {
   "cell_type": "markdown",
   "metadata": {},
   "source": [
    "exists works on nested fields too!"
   ]
  },
  {
   "cell_type": "markdown",
   "metadata": {},
   "source": [
    "{\n",
    "   \"name\" : {\n",
    "      \"first\" : \"John\",\n",
    "      \"last\" :  \"Smith\"\n",
    "   }\n",
    "}"
   ]
  },
  {
   "cell_type": "markdown",
   "metadata": {},
   "source": [
    "is flattened as:"
   ]
  },
  {
   "cell_type": "markdown",
   "metadata": {},
   "source": [
    "{\n",
    "   \"name.first\" : \"John\",\n",
    "   \"name.last\"  : \"Smith\"\n",
    "}"
   ]
  },
  {
   "cell_type": "markdown",
   "metadata": {},
   "source": [
    "and the query:"
   ]
  },
  {
   "cell_type": "markdown",
   "metadata": {},
   "source": [
    "{\n",
    "    \"exists\" : { \"field\" : \"name\" }\n",
    "}"
   ]
  },
  {
   "cell_type": "markdown",
   "metadata": {},
   "source": [
    "is really executed as:"
   ]
  },
  {
   "cell_type": "markdown",
   "metadata": {},
   "source": [
    "{\n",
    "    \"bool\": {\n",
    "        \"should\": [\n",
    "            { \"exists\": { \"field\": \"name.first\" }},\n",
    "            { \"exists\": { \"field\": \"name.last\" }}\n",
    "        ]\n",
    "    }\n",
    "}"
   ]
  }
 ],
 "metadata": {
  "kernelspec": {
   "display_name": "Bash",
   "language": "bash",
   "name": "bash"
  },
  "language_info": {
   "codemirror_mode": "shell",
   "file_extension": ".sh",
   "mimetype": "text/x-sh",
   "name": "bash"
  }
 },
 "nbformat": 4,
 "nbformat_minor": 2
}

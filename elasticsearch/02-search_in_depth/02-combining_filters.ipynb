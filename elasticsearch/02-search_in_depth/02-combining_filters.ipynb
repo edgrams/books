{
 "cells": [
  {
   "cell_type": "markdown",
   "metadata": {},
   "source": [
    "should (aka OR) match product id and price, but not a particular price"
   ]
  },
  {
   "cell_type": "markdown",
   "metadata": {},
   "source": [
    "SELECT product\n",
    "FROM   products\n",
    "WHERE  (price = 20 OR productID = \"XHDK-A-1293-#fJ3\")\n",
    "  AND  (price != 30)"
   ]
  },
  {
   "cell_type": "code",
   "execution_count": 1,
   "metadata": {
    "collapsed": false
   },
   "outputs": [
    {
     "name": "stdout",
     "output_type": "stream",
     "text": [
      "{\n",
      "  \"took\" : 10,\n",
      "  \"timed_out\" : false,\n",
      "  \"_shards\" : {\n",
      "    \"total\" : 5,\n",
      "    \"successful\" : 5,\n",
      "    \"failed\" : 0\n",
      "  },\n",
      "  \"hits\" : {\n",
      "    \"total\" : 2,\n",
      "    \"max_score\" : 1.0,\n",
      "    \"hits\" : [\n",
      "      {\n",
      "        \"_index\" : \"my_store\",\n",
      "        \"_type\" : \"products\",\n",
      "        \"_id\" : \"2\",\n",
      "        \"_score\" : 1.0,\n",
      "        \"_source\" : {\n",
      "          \"price\" : 20,\n",
      "          \"productID\" : \"KDKE-B-9947-#kL5\"\n",
      "        }\n",
      "      },\n",
      "      {\n",
      "        \"_index\" : \"my_store\",\n",
      "        \"_type\" : \"products\",\n",
      "        \"_id\" : \"1\",\n",
      "        \"_score\" : 1.0,\n",
      "        \"_source\" : {\n",
      "          \"price\" : 10,\n",
      "          \"productID\" : \"XHDK-A-1293-#fJ3\"\n",
      "        }\n",
      "      }\n",
      "    ]\n",
      "  }\n",
      "}\n"
     ]
    }
   ],
   "source": [
    "curl -XGET 'localhost:9200/my_store/products/_search?pretty' -H 'Content-Type: application/json' -d'\n",
    "{\n",
    "   \"query\" : {\n",
    "      \"constant_score\" : { \n",
    "         \"filter\" : {\n",
    "            \"bool\" : {\n",
    "              \"should\" : [\n",
    "                 { \"term\" : {\"price\" : 20}}, \n",
    "                 { \"term\" : {\"productID\" : \"XHDK-A-1293-#fJ3\"}} \n",
    "              ],\n",
    "              \"must_not\" : {\n",
    "                 \"term\" : {\"price\" : 30} \n",
    "              }\n",
    "           }\n",
    "         }\n",
    "      }\n",
    "   }\n",
    "}\n",
    "'"
   ]
  },
  {
   "cell_type": "markdown",
   "metadata": {},
   "source": [
    "nested boolean query example"
   ]
  },
  {
   "cell_type": "markdown",
   "metadata": {},
   "source": [
    "SELECT document\n",
    "FROM   products\n",
    "WHERE  productID      = \"KDKE-B-9947-#kL5\"\n",
    "  OR (     productID = \"JODL-X-1937-#pV7\"\n",
    "       AND price     = 30 )"
   ]
  },
  {
   "cell_type": "code",
   "execution_count": 2,
   "metadata": {
    "collapsed": false
   },
   "outputs": [
    {
     "name": "stdout",
     "output_type": "stream",
     "text": [
      "{\n",
      "  \"took\" : 6,\n",
      "  \"timed_out\" : false,\n",
      "  \"_shards\" : {\n",
      "    \"total\" : 5,\n",
      "    \"successful\" : 5,\n",
      "    \"failed\" : 0\n",
      "  },\n",
      "  \"hits\" : {\n",
      "    \"total\" : 2,\n",
      "    \"max_score\" : 1.0,\n",
      "    \"hits\" : [\n",
      "      {\n",
      "        \"_index\" : \"my_store\",\n",
      "        \"_type\" : \"products\",\n",
      "        \"_id\" : \"2\",\n",
      "        \"_score\" : 1.0,\n",
      "        \"_source\" : {\n",
      "          \"price\" : 20,\n",
      "          \"productID\" : \"KDKE-B-9947-#kL5\"\n",
      "        }\n",
      "      },\n",
      "      {\n",
      "        \"_index\" : \"my_store\",\n",
      "        \"_type\" : \"products\",\n",
      "        \"_id\" : \"3\",\n",
      "        \"_score\" : 1.0,\n",
      "        \"_source\" : {\n",
      "          \"price\" : 30,\n",
      "          \"productID\" : \"JODL-X-1937-#pV7\"\n",
      "        }\n",
      "      }\n",
      "    ]\n",
      "  }\n",
      "}\n"
     ]
    }
   ],
   "source": [
    "curl -XGET 'localhost:9200/my_store/products/_search?pretty' -H 'Content-Type: application/json' -d'\n",
    "{\n",
    "   \"query\" : {\n",
    "      \"constant_score\" : {\n",
    "         \"filter\" : {\n",
    "            \"bool\" : {\n",
    "              \"should\" : [\n",
    "                { \"term\" : {\"productID\" : \"KDKE-B-9947-#kL5\"}}, \n",
    "                { \"bool\" : { \n",
    "                  \"must\" : [\n",
    "                    { \"term\" : {\"productID\" : \"JODL-X-1937-#pV7\"}}, \n",
    "                    { \"term\" : {\"price\" : 30}} \n",
    "                  ]\n",
    "                }}\n",
    "              ]\n",
    "           }\n",
    "         }\n",
    "      }\n",
    "   }\n",
    "}\n",
    "'"
   ]
  },
  {
   "cell_type": "code",
   "execution_count": null,
   "metadata": {
    "collapsed": true
   },
   "outputs": [],
   "source": []
  }
 ],
 "metadata": {
  "kernelspec": {
   "display_name": "Bash",
   "language": "bash",
   "name": "bash"
  },
  "language_info": {
   "codemirror_mode": "shell",
   "file_extension": ".sh",
   "mimetype": "text/x-sh",
   "name": "bash"
  }
 },
 "nbformat": 4,
 "nbformat_minor": 2
}

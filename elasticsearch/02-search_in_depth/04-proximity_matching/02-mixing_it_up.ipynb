{
 "cells": [
  {
   "cell_type": "markdown",
   "metadata": {},
   "source": [
    "slop param allows flexibility, terms can be allowed farther apart"
   ]
  },
  {
   "cell_type": "code",
   "execution_count": 3,
   "metadata": {
    "collapsed": false
   },
   "outputs": [
    {
     "name": "stdout",
     "output_type": "stream",
     "text": [
      "{\n",
      "  \"took\" : 2,\n",
      "  \"timed_out\" : false,\n",
      "  \"_shards\" : {\n",
      "    \"total\" : 1,\n",
      "    \"successful\" : 1,\n",
      "    \"failed\" : 0\n",
      "  },\n",
      "  \"hits\" : {\n",
      "    \"total\" : 3,\n",
      "    \"max_score\" : 0.37540385,\n",
      "    \"hits\" : [\n",
      "      {\n",
      "        \"_index\" : \"my_index\",\n",
      "        \"_type\" : \"my_type\",\n",
      "        \"_id\" : \"1\",\n",
      "        \"_score\" : 0.37540385,\n",
      "        \"_source\" : {\n",
      "          \"title\" : \"The quick brown fox\"\n",
      "        }\n",
      "      },\n",
      "      {\n",
      "        \"_index\" : \"my_index\",\n",
      "        \"_type\" : \"my_type\",\n",
      "        \"_id\" : \"2\",\n",
      "        \"_score\" : 0.2291588,\n",
      "        \"_source\" : {\n",
      "          \"title\" : \"The quick brown fox jumps over the lazy dog\"\n",
      "        }\n",
      "      },\n",
      "      {\n",
      "        \"_index\" : \"my_index\",\n",
      "        \"_type\" : \"my_type\",\n",
      "        \"_id\" : \"3\",\n",
      "        \"_score\" : 0.2291588,\n",
      "        \"_source\" : {\n",
      "          \"title\" : \"The quick brown fox jumps over the quick dog\"\n",
      "        }\n",
      "      }\n",
      "    ]\n",
      "  }\n",
      "}\n"
     ]
    }
   ],
   "source": [
    "curl -XGET 'localhost:9200/my_index/my_type/_search?pretty' -H 'Content-Type: application/json' -d'\n",
    "{\n",
    "    \"query\": {\n",
    "        \"match_phrase\": {\n",
    "            \"title\": {\n",
    "                \"query\": \"quick fox\",\n",
    "                \"slop\":  1\n",
    "            }\n",
    "        }\n",
    "    }\n",
    "}\n",
    "'"
   ]
  },
  {
   "cell_type": "markdown",
   "metadata": {},
   "source": [
    "not enough slop, make it higher with words rearranged to still match"
   ]
  },
  {
   "cell_type": "code",
   "execution_count": 5,
   "metadata": {
    "collapsed": false
   },
   "outputs": [
    {
     "name": "stdout",
     "output_type": "stream",
     "text": [
      "{\n",
      "  \"took\" : 1,\n",
      "  \"timed_out\" : false,\n",
      "  \"_shards\" : {\n",
      "    \"total\" : 1,\n",
      "    \"successful\" : 1,\n",
      "    \"failed\" : 0\n",
      "  },\n",
      "  \"hits\" : {\n",
      "    \"total\" : 3,\n",
      "    \"max_score\" : 0.23021282,\n",
      "    \"hits\" : [\n",
      "      {\n",
      "        \"_index\" : \"my_index\",\n",
      "        \"_type\" : \"my_type\",\n",
      "        \"_id\" : \"1\",\n",
      "        \"_score\" : 0.23021282,\n",
      "        \"_source\" : {\n",
      "          \"title\" : \"The quick brown fox\"\n",
      "        }\n",
      "      },\n",
      "      {\n",
      "        \"_index\" : \"my_index\",\n",
      "        \"_type\" : \"my_type\",\n",
      "        \"_id\" : \"3\",\n",
      "        \"_score\" : 0.2291588,\n",
      "        \"_source\" : {\n",
      "          \"title\" : \"The quick brown fox jumps over the quick dog\"\n",
      "        }\n",
      "      },\n",
      "      {\n",
      "        \"_index\" : \"my_index\",\n",
      "        \"_type\" : \"my_type\",\n",
      "        \"_id\" : \"2\",\n",
      "        \"_score\" : 0.12913586,\n",
      "        \"_source\" : {\n",
      "          \"title\" : \"The quick brown fox jumps over the lazy dog\"\n",
      "        }\n",
      "      }\n",
      "    ]\n",
      "  }\n",
      "}\n"
     ]
    }
   ],
   "source": [
    "curl -XGET 'localhost:9200/my_index/my_type/_search?pretty' -H 'Content-Type: application/json' -d'\n",
    "{\n",
    "    \"query\": {\n",
    "        \"match_phrase\": {\n",
    "            \"title\": {\n",
    "                \"query\": \"fox quick\",\n",
    "                \"slop\":  3\n",
    "            }\n",
    "        }\n",
    "    }\n",
    "}\n",
    "'"
   ]
  },
  {
   "cell_type": "code",
   "execution_count": null,
   "metadata": {
    "collapsed": true
   },
   "outputs": [],
   "source": []
  }
 ],
 "metadata": {
  "kernelspec": {
   "display_name": "Bash",
   "language": "bash",
   "name": "bash"
  },
  "language_info": {
   "codemirror_mode": "shell",
   "file_extension": ".sh",
   "mimetype": "text/x-sh",
   "name": "bash"
  }
 },
 "nbformat": 4,
 "nbformat_minor": 2
}

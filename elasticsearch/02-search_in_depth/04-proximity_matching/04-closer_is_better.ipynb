{
 "cells": [
  {
   "cell_type": "markdown",
   "metadata": {},
   "source": [
    "create a proximity query by adding slop. Closer to the position of the elements, the higher the score"
   ]
  },
  {
   "cell_type": "code",
   "execution_count": 1,
   "metadata": {
    "collapsed": false
   },
   "outputs": [
    {
     "name": "stdout",
     "output_type": "stream",
     "text": [
      "{\n",
      "  \"took\" : 1,\n",
      "  \"timed_out\" : false,\n",
      "  \"_shards\" : {\n",
      "    \"total\" : 1,\n",
      "    \"successful\" : 1,\n",
      "    \"failed\" : 0\n",
      "  },\n",
      "  \"hits\" : {\n",
      "    \"total\" : 2,\n",
      "    \"max_score\" : 0.5774314,\n",
      "    \"hits\" : [\n",
      "      {\n",
      "        \"_index\" : \"my_index\",\n",
      "        \"_type\" : \"my_type\",\n",
      "        \"_id\" : \"3\",\n",
      "        \"_score\" : 0.5774314,\n",
      "        \"_source\" : {\n",
      "          \"title\" : \"The quick brown fox jumps over the quick dog\"\n",
      "        }\n",
      "      },\n",
      "      {\n",
      "        \"_index\" : \"my_index\",\n",
      "        \"_type\" : \"my_type\",\n",
      "        \"_id\" : \"2\",\n",
      "        \"_score\" : 0.12048975,\n",
      "        \"_source\" : {\n",
      "          \"title\" : \"The quick brown fox jumps over the lazy dog\"\n",
      "        }\n",
      "      }\n",
      "    ]\n",
      "  }\n",
      "}\n"
     ]
    }
   ],
   "source": [
    "curl -XPOST 'localhost:9200/my_index/my_type/_search?pretty' -H 'Content-Type: application/json' -d'\n",
    "{\n",
    "   \"query\": {\n",
    "      \"match_phrase\": {\n",
    "         \"title\": {\n",
    "            \"query\": \"quick dog\",\n",
    "            \"slop\":  50 \n",
    "         }\n",
    "      }\n",
    "   }\n",
    "}\n",
    "'"
   ]
  },
  {
   "cell_type": "markdown",
   "metadata": {},
   "source": [
    "higher score because quick and dog are closer together"
   ]
  },
  {
   "cell_type": "code",
   "execution_count": null,
   "metadata": {
    "collapsed": true
   },
   "outputs": [],
   "source": []
  }
 ],
 "metadata": {
  "kernelspec": {
   "display_name": "Bash",
   "language": "bash",
   "name": "bash"
  },
  "language_info": {
   "codemirror_mode": "shell",
   "file_extension": ".sh",
   "mimetype": "text/x-sh",
   "name": "bash"
  }
 },
 "nbformat": 4,
 "nbformat_minor": 2
}

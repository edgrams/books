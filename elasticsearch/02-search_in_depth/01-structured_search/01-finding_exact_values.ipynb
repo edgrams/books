{
 "cells": [
  {
   "cell_type": "markdown",
   "metadata": {},
   "source": [
    "load test data"
   ]
  },
  {
   "cell_type": "code",
   "execution_count": 7,
   "metadata": {
    "collapsed": false,
    "scrolled": true
   },
   "outputs": [
    {
     "name": "stdout",
     "output_type": "stream",
     "text": [
      "{\n",
      "  \"took\" : 1935,\n",
      "  \"errors\" : false,\n",
      "  \"items\" : [\n",
      "    {\n",
      "      \"index\" : {\n",
      "        \"_index\" : \"my_store\",\n",
      "        \"_type\" : \"products\",\n",
      "        \"_id\" : \"1\",\n",
      "        \"_version\" : 1,\n",
      "        \"result\" : \"created\",\n",
      "        \"_shards\" : {\n",
      "          \"total\" : 2,\n",
      "          \"successful\" : 2,\n",
      "          \"failed\" : 0\n",
      "        },\n",
      "        \"created\" : true,\n",
      "        \"status\" : 201\n",
      "      }\n",
      "    },\n",
      "    {\n",
      "      \"index\" : {\n",
      "        \"_index\" : \"my_store\",\n",
      "        \"_type\" : \"products\",\n",
      "        \"_id\" : \"2\",\n",
      "        \"_version\" : 1,\n",
      "        \"result\" : \"created\",\n",
      "        \"_shards\" : {\n",
      "          \"total\" : 2,\n",
      "          \"successful\" : 2,\n",
      "          \"failed\" : 0\n",
      "        },\n",
      "        \"created\" : true,\n",
      "        \"status\" : 201\n",
      "      }\n",
      "    },\n",
      "    {\n",
      "      \"index\" : {\n",
      "        \"_index\" : \"my_store\",\n",
      "        \"_type\" : \"products\",\n",
      "        \"_id\" : \"3\",\n",
      "        \"_version\" : 1,\n",
      "        \"result\" : \"created\",\n",
      "        \"_shards\" : {\n",
      "          \"total\" : 2,\n",
      "          \"successful\" : 2,\n",
      "          \"failed\" : 0\n",
      "        },\n",
      "        \"created\" : true,\n",
      "        \"status\" : 201\n",
      "      }\n",
      "    },\n",
      "    {\n",
      "      \"index\" : {\n",
      "        \"_index\" : \"my_store\",\n",
      "        \"_type\" : \"products\",\n",
      "        \"_id\" : \"4\",\n",
      "        \"_version\" : 1,\n",
      "        \"result\" : \"created\",\n",
      "        \"_shards\" : {\n",
      "          \"total\" : 2,\n",
      "          \"successful\" : 2,\n",
      "          \"failed\" : 0\n",
      "        },\n",
      "        \"created\" : true,\n",
      "        \"status\" : 201\n",
      "      }\n",
      "    }\n",
      "  ]\n",
      "}\n"
     ]
    }
   ],
   "source": [
    "curl -XPOST 'localhost:9200/my_store/products/_bulk?pretty' -H 'Content-Type: application/json' -d'\n",
    "{ \"index\": { \"_id\": 1 }}\n",
    "{ \"price\" : 10, \"productID\" : \"XHDK-A-1293-#fJ3\" }\n",
    "{ \"index\": { \"_id\": 2 }}\n",
    "{ \"price\" : 20, \"productID\" : \"KDKE-B-9947-#kL5\" }\n",
    "{ \"index\": { \"_id\": 3 }}\n",
    "{ \"price\" : 30, \"productID\" : \"JODL-X-1937-#pV7\" }\n",
    "{ \"index\": { \"_id\": 4 }}\n",
    "{ \"price\" : 30, \"productID\" : \"QQPX-R-3956-#aD8\" }\n",
    "'"
   ]
  },
  {
   "cell_type": "markdown",
   "metadata": {},
   "source": [
    "use a constant score query, to turn query into a filter, for non-scoring mode"
   ]
  },
  {
   "cell_type": "markdown",
   "metadata": {},
   "source": [
    "SELECT document\n",
    "FROM   products\n",
    "WHERE  price = 20"
   ]
  },
  {
   "cell_type": "code",
   "execution_count": 2,
   "metadata": {
    "collapsed": false
   },
   "outputs": [
    {
     "name": "stdout",
     "output_type": "stream",
     "text": [
      "{\n",
      "  \"took\" : 72,\n",
      "  \"timed_out\" : false,\n",
      "  \"_shards\" : {\n",
      "    \"total\" : 5,\n",
      "    \"successful\" : 5,\n",
      "    \"failed\" : 0\n",
      "  },\n",
      "  \"hits\" : {\n",
      "    \"total\" : 1,\n",
      "    \"max_score\" : 1.0,\n",
      "    \"hits\" : [\n",
      "      {\n",
      "        \"_index\" : \"my_store\",\n",
      "        \"_type\" : \"products\",\n",
      "        \"_id\" : \"2\",\n",
      "        \"_score\" : 1.0,\n",
      "        \"_source\" : {\n",
      "          \"price\" : 20,\n",
      "          \"productID\" : \"KDKE-B-9947-#kL5\"\n",
      "        }\n",
      "      }\n",
      "    ]\n",
      "  }\n",
      "}\n"
     ]
    }
   ],
   "source": [
    "curl -XGET 'localhost:9200/my_store/products/_search?pretty' -H 'Content-Type: application/json' -d'\n",
    "{\n",
    "    \"query\" : {\n",
    "        \"constant_score\" : { \n",
    "            \"filter\" : {\n",
    "                \"term\" : { \n",
    "                    \"price\" : 20\n",
    "                }\n",
    "            }\n",
    "        }\n",
    "    }\n",
    "}\n",
    "'"
   ]
  },
  {
   "cell_type": "markdown",
   "metadata": {},
   "source": [
    "filter by a string ... but no results, why?"
   ]
  },
  {
   "cell_type": "markdown",
   "metadata": {},
   "source": [
    "SELECT product\n",
    "FROM   products\n",
    "WHERE  productID = \"XHDK-A-1293-#fJ3\""
   ]
  },
  {
   "cell_type": "code",
   "execution_count": 3,
   "metadata": {
    "collapsed": false
   },
   "outputs": [
    {
     "name": "stdout",
     "output_type": "stream",
     "text": [
      "{\n",
      "  \"took\" : 12,\n",
      "  \"timed_out\" : false,\n",
      "  \"_shards\" : {\n",
      "    \"total\" : 5,\n",
      "    \"successful\" : 5,\n",
      "    \"failed\" : 0\n",
      "  },\n",
      "  \"hits\" : {\n",
      "    \"total\" : 0,\n",
      "    \"max_score\" : null,\n",
      "    \"hits\" : [ ]\n",
      "  }\n",
      "}\n"
     ]
    }
   ],
   "source": [
    "curl -XGET 'localhost:9200/my_store/products/_search?pretty' -H 'Content-Type: application/json' -d'\n",
    "{\n",
    "    \"query\" : {\n",
    "        \"constant_score\" : {\n",
    "            \"filter\" : {\n",
    "                \"term\" : {\n",
    "                    \"productID\" : \"XHDK-A-1293-#fJ3\"\n",
    "                }\n",
    "            }\n",
    "        }\n",
    "    }\n",
    "}\n",
    "'"
   ]
  },
  {
   "cell_type": "markdown",
   "metadata": {},
   "source": [
    "the field has an analyzer, that's why!"
   ]
  },
  {
   "cell_type": "code",
   "execution_count": 4,
   "metadata": {
    "collapsed": false
   },
   "outputs": [
    {
     "name": "stdout",
     "output_type": "stream",
     "text": [
      "{\n",
      "  \"tokens\" : [\n",
      "    {\n",
      "      \"token\" : \"xhdk\",\n",
      "      \"start_offset\" : 0,\n",
      "      \"end_offset\" : 4,\n",
      "      \"type\" : \"<ALPHANUM>\",\n",
      "      \"position\" : 0\n",
      "    },\n",
      "    {\n",
      "      \"token\" : \"a\",\n",
      "      \"start_offset\" : 5,\n",
      "      \"end_offset\" : 6,\n",
      "      \"type\" : \"<ALPHANUM>\",\n",
      "      \"position\" : 1\n",
      "    },\n",
      "    {\n",
      "      \"token\" : \"1293\",\n",
      "      \"start_offset\" : 7,\n",
      "      \"end_offset\" : 11,\n",
      "      \"type\" : \"<NUM>\",\n",
      "      \"position\" : 2\n",
      "    },\n",
      "    {\n",
      "      \"token\" : \"fj3\",\n",
      "      \"start_offset\" : 13,\n",
      "      \"end_offset\" : 16,\n",
      "      \"type\" : \"<ALPHANUM>\",\n",
      "      \"position\" : 3\n",
      "    }\n",
      "  ]\n",
      "}\n"
     ]
    }
   ],
   "source": [
    "curl -XGET 'localhost:9200/my_store/_analyze?pretty' -H 'Content-Type: application/json' -d'\n",
    "{\n",
    "  \"field\": \"productID\",\n",
    "  \"text\": \"XHDK-A-1293-#fJ3\"\n",
    "}\n",
    "'"
   ]
  },
  {
   "cell_type": "markdown",
   "metadata": {},
   "source": [
    "we need to tell es not to index this field, so we need to start over"
   ]
  },
  {
   "cell_type": "code",
   "execution_count": 8,
   "metadata": {
    "collapsed": false
   },
   "outputs": [
    {
     "name": "stdout",
     "output_type": "stream",
     "text": [
      "{\n",
      "  \"acknowledged\" : true\n",
      "}\n"
     ]
    }
   ],
   "source": [
    "curl -XDELETE 'localhost:9200/my_store?pretty'"
   ]
  },
  {
   "cell_type": "markdown",
   "metadata": {},
   "source": [
    "lets not analyze the productID field, umkay?"
   ]
  },
  {
   "cell_type": "code",
   "execution_count": 10,
   "metadata": {
    "collapsed": false
   },
   "outputs": [
    {
     "name": "stdout",
     "output_type": "stream",
     "text": [
      "{\n",
      "  \"acknowledged\" : true,\n",
      "  \"shards_acknowledged\" : true\n",
      "}\n"
     ]
    }
   ],
   "source": [
    "curl -XPUT 'localhost:9200/my_store?pretty' -H 'Content-Type: application/json' -d'\n",
    "{\n",
    "    \"mappings\" : {\n",
    "        \"products\" : {\n",
    "            \"properties\" : {\n",
    "                \"productID\" : {\n",
    "                    \"type\" : \"string\",\n",
    "                    \"index\" : \"not_analyzed\" \n",
    "                }\n",
    "            }\n",
    "        }\n",
    "    }\n",
    "}\n",
    "'"
   ]
  },
  {
   "cell_type": "markdown",
   "metadata": {},
   "source": [
    "repopulate index"
   ]
  },
  {
   "cell_type": "code",
   "execution_count": 11,
   "metadata": {
    "collapsed": false
   },
   "outputs": [
    {
     "name": "stdout",
     "output_type": "stream",
     "text": [
      "{\n",
      "  \"took\" : 249,\n",
      "  \"errors\" : false,\n",
      "  \"items\" : [\n",
      "    {\n",
      "      \"index\" : {\n",
      "        \"_index\" : \"my_store\",\n",
      "        \"_type\" : \"products\",\n",
      "        \"_id\" : \"1\",\n",
      "        \"_version\" : 1,\n",
      "        \"result\" : \"created\",\n",
      "        \"_shards\" : {\n",
      "          \"total\" : 2,\n",
      "          \"successful\" : 2,\n",
      "          \"failed\" : 0\n",
      "        },\n",
      "        \"created\" : true,\n",
      "        \"status\" : 201\n",
      "      }\n",
      "    },\n",
      "    {\n",
      "      \"index\" : {\n",
      "        \"_index\" : \"my_store\",\n",
      "        \"_type\" : \"products\",\n",
      "        \"_id\" : \"2\",\n",
      "        \"_version\" : 1,\n",
      "        \"result\" : \"created\",\n",
      "        \"_shards\" : {\n",
      "          \"total\" : 2,\n",
      "          \"successful\" : 2,\n",
      "          \"failed\" : 0\n",
      "        },\n",
      "        \"created\" : true,\n",
      "        \"status\" : 201\n",
      "      }\n",
      "    },\n",
      "    {\n",
      "      \"index\" : {\n",
      "        \"_index\" : \"my_store\",\n",
      "        \"_type\" : \"products\",\n",
      "        \"_id\" : \"3\",\n",
      "        \"_version\" : 1,\n",
      "        \"result\" : \"created\",\n",
      "        \"_shards\" : {\n",
      "          \"total\" : 2,\n",
      "          \"successful\" : 2,\n",
      "          \"failed\" : 0\n",
      "        },\n",
      "        \"created\" : true,\n",
      "        \"status\" : 201\n",
      "      }\n",
      "    },\n",
      "    {\n",
      "      \"index\" : {\n",
      "        \"_index\" : \"my_store\",\n",
      "        \"_type\" : \"products\",\n",
      "        \"_id\" : \"4\",\n",
      "        \"_version\" : 1,\n",
      "        \"result\" : \"created\",\n",
      "        \"_shards\" : {\n",
      "          \"total\" : 2,\n",
      "          \"successful\" : 2,\n",
      "          \"failed\" : 0\n",
      "        },\n",
      "        \"created\" : true,\n",
      "        \"status\" : 201\n",
      "      }\n",
      "    }\n",
      "  ]\n",
      "}\n"
     ]
    }
   ],
   "source": [
    "curl -XPOST 'localhost:9200/my_store/products/_bulk?pretty' -H 'Content-Type: application/json' -d'\n",
    "{ \"index\": { \"_id\": 1 }}\n",
    "{ \"price\" : 10, \"productID\" : \"XHDK-A-1293-#fJ3\" }\n",
    "{ \"index\": { \"_id\": 2 }}\n",
    "{ \"price\" : 20, \"productID\" : \"KDKE-B-9947-#kL5\" }\n",
    "{ \"index\": { \"_id\": 3 }}\n",
    "{ \"price\" : 30, \"productID\" : \"JODL-X-1937-#pV7\" }\n",
    "{ \"index\": { \"_id\": 4 }}\n",
    "{ \"price\" : 30, \"productID\" : \"QQPX-R-3956-#aD8\" }\n",
    "'"
   ]
  },
  {
   "cell_type": "markdown",
   "metadata": {},
   "source": [
    "now we should match on an exact value!"
   ]
  },
  {
   "cell_type": "markdown",
   "metadata": {},
   "source": [
    "SELECT product\n",
    "FROM   products\n",
    "WHERE  productID = \"XHDK-A-1293-#fJ3\""
   ]
  },
  {
   "cell_type": "code",
   "execution_count": 12,
   "metadata": {
    "collapsed": false
   },
   "outputs": [
    {
     "name": "stdout",
     "output_type": "stream",
     "text": [
      "{\n",
      "  \"took\" : 7,\n",
      "  \"timed_out\" : false,\n",
      "  \"_shards\" : {\n",
      "    \"total\" : 5,\n",
      "    \"successful\" : 5,\n",
      "    \"failed\" : 0\n",
      "  },\n",
      "  \"hits\" : {\n",
      "    \"total\" : 1,\n",
      "    \"max_score\" : 1.0,\n",
      "    \"hits\" : [\n",
      "      {\n",
      "        \"_index\" : \"my_store\",\n",
      "        \"_type\" : \"products\",\n",
      "        \"_id\" : \"1\",\n",
      "        \"_score\" : 1.0,\n",
      "        \"_source\" : {\n",
      "          \"price\" : 10,\n",
      "          \"productID\" : \"XHDK-A-1293-#fJ3\"\n",
      "        }\n",
      "      }\n",
      "    ]\n",
      "  }\n",
      "}\n"
     ]
    }
   ],
   "source": [
    "curl -XGET 'localhost:9200/my_store/products/_search?pretty' -H 'Content-Type: application/json' -d'\n",
    "{\n",
    "    \"query\" : {\n",
    "        \"constant_score\" : {\n",
    "            \"filter\" : {\n",
    "                \"term\" : {\n",
    "                    \"productID\" : \"XHDK-A-1293-#fJ3\"\n",
    "                }\n",
    "            }\n",
    "        }\n",
    "    }\n",
    "}\n",
    "'"
   ]
  },
  {
   "cell_type": "code",
   "execution_count": null,
   "metadata": {
    "collapsed": true
   },
   "outputs": [],
   "source": []
  }
 ],
 "metadata": {
  "kernelspec": {
   "display_name": "Bash",
   "language": "bash",
   "name": "bash"
  },
  "language_info": {
   "codemirror_mode": "shell",
   "file_extension": ".sh",
   "mimetype": "text/x-sh",
   "name": "bash"
  }
 },
 "nbformat": 4,
 "nbformat_minor": 2
}

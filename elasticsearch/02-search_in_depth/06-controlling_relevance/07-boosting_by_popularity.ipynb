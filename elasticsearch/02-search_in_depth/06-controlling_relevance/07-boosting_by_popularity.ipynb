{
 "cells": [
  {
   "cell_type": "markdown",
   "metadata": {},
   "source": [
    "we want to combine full-text score with popularity"
   ]
  },
  {
   "cell_type": "code",
   "execution_count": 1,
   "metadata": {
    "collapsed": false
   },
   "outputs": [
    {
     "name": "stdout",
     "output_type": "stream",
     "text": [
      "{\n",
      "  \"_index\" : \"blogposts\",\n",
      "  \"_type\" : \"post\",\n",
      "  \"_id\" : \"1\",\n",
      "  \"_version\" : 1,\n",
      "  \"result\" : \"created\",\n",
      "  \"_shards\" : {\n",
      "    \"total\" : 2,\n",
      "    \"successful\" : 2,\n",
      "    \"failed\" : 0\n",
      "  },\n",
      "  \"created\" : true\n",
      "}\n"
     ]
    }
   ],
   "source": [
    "curl -XPUT 'localhost:9200/blogposts/post/1?pretty' -H 'Content-Type: application/json' -d'\n",
    "{\n",
    "  \"title\":   \"About popularity\",\n",
    "  \"content\": \"In this post we will talk about...\",\n",
    "  \"votes\":   6\n",
    "}\n",
    "'"
   ]
  },
  {
   "cell_type": "markdown",
   "metadata": {},
   "source": [
    "use the function_score query to do this"
   ]
  },
  {
   "cell_type": "code",
   "execution_count": 4,
   "metadata": {
    "collapsed": false
   },
   "outputs": [
    {
     "name": "stdout",
     "output_type": "stream",
     "text": [
      "{\n",
      "  \"took\" : 8,\n",
      "  \"timed_out\" : false,\n",
      "  \"_shards\" : {\n",
      "    \"total\" : 5,\n",
      "    \"successful\" : 5,\n",
      "    \"failed\" : 0\n",
      "  },\n",
      "  \"hits\" : {\n",
      "    \"total\" : 1,\n",
      "    \"max_score\" : 1.5486964,\n",
      "    \"hits\" : [\n",
      "      {\n",
      "        \"_index\" : \"blogposts\",\n",
      "        \"_type\" : \"post\",\n",
      "        \"_id\" : \"1\",\n",
      "        \"_score\" : 1.5486964,\n",
      "        \"_source\" : {\n",
      "          \"title\" : \"About popularity\",\n",
      "          \"content\" : \"In this post we will talk about...\",\n",
      "          \"votes\" : 6\n",
      "        }\n",
      "      }\n",
      "    ]\n",
      "  }\n",
      "}\n"
     ]
    }
   ],
   "source": [
    "curl -XGET 'localhost:9200/blogposts/post/_search?pretty' -H 'Content-Type: application/json' -d'\n",
    "{\n",
    "  \"query\": {\n",
    "    \"function_score\": { \n",
    "      \"query\": { \n",
    "        \"multi_match\": {\n",
    "          \"query\":    \"popularity\",\n",
    "          \"fields\": [ \"title\", \"content\" ]\n",
    "        }\n",
    "      },\n",
    "      \"field_value_factor\": { \n",
    "        \"field\": \"votes\" \n",
    "      }\n",
    "    }\n",
    "  }\n",
    "}\n",
    "'"
   ]
  },
  {
   "cell_type": "markdown",
   "metadata": {},
   "source": [
    "votes are counting for way too much, need to smooth it out"
   ]
  },
  {
   "cell_type": "code",
   "execution_count": 5,
   "metadata": {
    "collapsed": false
   },
   "outputs": [
    {
     "name": "stdout",
     "output_type": "stream",
     "text": [
      "{\n",
      "  \"took\" : 2,\n",
      "  \"timed_out\" : false,\n",
      "  \"_shards\" : {\n",
      "    \"total\" : 5,\n",
      "    \"successful\" : 5,\n",
      "    \"failed\" : 0\n",
      "  },\n",
      "  \"hits\" : {\n",
      "    \"total\" : 1,\n",
      "    \"max_score\" : 0.21813338,\n",
      "    \"hits\" : [\n",
      "      {\n",
      "        \"_index\" : \"blogposts\",\n",
      "        \"_type\" : \"post\",\n",
      "        \"_id\" : \"1\",\n",
      "        \"_score\" : 0.21813338,\n",
      "        \"_source\" : {\n",
      "          \"title\" : \"About popularity\",\n",
      "          \"content\" : \"In this post we will talk about...\",\n",
      "          \"votes\" : 6\n",
      "        }\n",
      "      }\n",
      "    ]\n",
      "  }\n",
      "}\n"
     ]
    }
   ],
   "source": [
    "curl -XGET 'localhost:9200/blogposts/post/_search?pretty' -H 'Content-Type: application/json' -d'\n",
    "{\n",
    "  \"query\": {\n",
    "    \"function_score\": {\n",
    "      \"query\": {\n",
    "        \"multi_match\": {\n",
    "          \"query\":    \"popularity\",\n",
    "          \"fields\": [ \"title\", \"content\" ]\n",
    "        }\n",
    "      },\n",
    "      \"field_value_factor\": {\n",
    "        \"field\":    \"votes\",\n",
    "        \"modifier\": \"log1p\" \n",
    "      }\n",
    "    }\n",
    "  }\n",
    "}\n",
    "'"
   ]
  },
  {
   "cell_type": "markdown",
   "metadata": {},
   "source": [
    "we can increase the votes strength by adding a factor"
   ]
  },
  {
   "cell_type": "code",
   "execution_count": 6,
   "metadata": {
    "collapsed": false
   },
   "outputs": [
    {
     "name": "stdout",
     "output_type": "stream",
     "text": [
      "{\n",
      "  \"took\" : 1,\n",
      "  \"timed_out\" : false,\n",
      "  \"_shards\" : {\n",
      "    \"total\" : 5,\n",
      "    \"successful\" : 5,\n",
      "    \"failed\" : 0\n",
      "  },\n",
      "  \"hits\" : {\n",
      "    \"total\" : 1,\n",
      "    \"max_score\" : 0.28752667,\n",
      "    \"hits\" : [\n",
      "      {\n",
      "        \"_index\" : \"blogposts\",\n",
      "        \"_type\" : \"post\",\n",
      "        \"_id\" : \"1\",\n",
      "        \"_score\" : 0.28752667,\n",
      "        \"_source\" : {\n",
      "          \"title\" : \"About popularity\",\n",
      "          \"content\" : \"In this post we will talk about...\",\n",
      "          \"votes\" : 6\n",
      "        }\n",
      "      }\n",
      "    ]\n",
      "  }\n",
      "}\n"
     ]
    }
   ],
   "source": [
    "curl -XGET 'localhost:9200/blogposts/post/_search?pretty' -H 'Content-Type: application/json' -d'\n",
    "{\n",
    "  \"query\": {\n",
    "    \"function_score\": {\n",
    "      \"query\": {\n",
    "        \"multi_match\": {\n",
    "          \"query\":    \"popularity\",\n",
    "          \"fields\": [ \"title\", \"content\" ]\n",
    "        }\n",
    "      },\n",
    "      \"field_value_factor\": {\n",
    "        \"field\":    \"votes\",\n",
    "        \"modifier\": \"log1p\",\n",
    "        \"factor\":   2 \n",
    "      }\n",
    "    }\n",
    "  }\n",
    "}\n",
    "'"
   ]
  },
  {
   "cell_type": "markdown",
   "metadata": {},
   "source": [
    "simmer down weight for votes, we can add a boost mode to add the scores and not multiply"
   ]
  },
  {
   "cell_type": "code",
   "execution_count": 7,
   "metadata": {
    "collapsed": false
   },
   "outputs": [
    {
     "name": "stdout",
     "output_type": "stream",
     "text": [
      "{\n",
      "  \"took\" : 6,\n",
      "  \"timed_out\" : false,\n",
      "  \"_shards\" : {\n",
      "    \"total\" : 5,\n",
      "    \"successful\" : 5,\n",
      "    \"failed\" : 0\n",
      "  },\n",
      "  \"hits\" : {\n",
      "    \"total\" : 1,\n",
      "    \"max_score\" : 0.46223605,\n",
      "    \"hits\" : [\n",
      "      {\n",
      "        \"_index\" : \"blogposts\",\n",
      "        \"_type\" : \"post\",\n",
      "        \"_id\" : \"1\",\n",
      "        \"_score\" : 0.46223605,\n",
      "        \"_source\" : {\n",
      "          \"title\" : \"About popularity\",\n",
      "          \"content\" : \"In this post we will talk about...\",\n",
      "          \"votes\" : 6\n",
      "        }\n",
      "      }\n",
      "    ]\n",
      "  }\n",
      "}\n"
     ]
    }
   ],
   "source": [
    "curl -XGET 'localhost:9200/blogposts/post/_search?pretty' -H 'Content-Type: application/json' -d'\n",
    "{\n",
    "  \"query\": {\n",
    "    \"function_score\": {\n",
    "      \"query\": {\n",
    "        \"multi_match\": {\n",
    "          \"query\":    \"popularity\",\n",
    "          \"fields\": [ \"title\", \"content\" ]\n",
    "        }\n",
    "      },\n",
    "      \"field_value_factor\": {\n",
    "        \"field\":    \"votes\",\n",
    "        \"modifier\": \"log1p\",\n",
    "        \"factor\":   0.1\n",
    "      },\n",
    "      \"boost_mode\": \"sum\" \n",
    "    }\n",
    "  }\n",
    "}\n",
    "'"
   ]
  },
  {
   "cell_type": "markdown",
   "metadata": {},
   "source": [
    "we can cap the field_value_factor value but applying a max_boost"
   ]
  },
  {
   "cell_type": "code",
   "execution_count": 8,
   "metadata": {
    "collapsed": false
   },
   "outputs": [
    {
     "name": "stdout",
     "output_type": "stream",
     "text": [
      "{\n",
      "  \"took\" : 4,\n",
      "  \"timed_out\" : false,\n",
      "  \"_shards\" : {\n",
      "    \"total\" : 5,\n",
      "    \"successful\" : 5,\n",
      "    \"failed\" : 0\n",
      "  },\n",
      "  \"hits\" : {\n",
      "    \"total\" : 1,\n",
      "    \"max_score\" : 0.46223605,\n",
      "    \"hits\" : [\n",
      "      {\n",
      "        \"_index\" : \"blogposts\",\n",
      "        \"_type\" : \"post\",\n",
      "        \"_id\" : \"1\",\n",
      "        \"_score\" : 0.46223605,\n",
      "        \"_source\" : {\n",
      "          \"title\" : \"About popularity\",\n",
      "          \"content\" : \"In this post we will talk about...\",\n",
      "          \"votes\" : 6\n",
      "        }\n",
      "      }\n",
      "    ]\n",
      "  }\n",
      "}\n"
     ]
    }
   ],
   "source": [
    "curl -XGET 'localhost:9200/blogposts/post/_search?pretty' -H 'Content-Type: application/json' -d'\n",
    "{\n",
    "  \"query\": {\n",
    "    \"function_score\": {\n",
    "      \"query\": {\n",
    "        \"multi_match\": {\n",
    "          \"query\":    \"popularity\",\n",
    "          \"fields\": [ \"title\", \"content\" ]\n",
    "        }\n",
    "      },\n",
    "      \"field_value_factor\": {\n",
    "        \"field\":    \"votes\",\n",
    "        \"modifier\": \"log1p\",\n",
    "        \"factor\":   0.1\n",
    "      },\n",
    "      \"boost_mode\": \"sum\",\n",
    "      \"max_boost\":  1.5 \n",
    "    }\n",
    "  }\n",
    "}\n",
    "'"
   ]
  },
  {
   "cell_type": "code",
   "execution_count": null,
   "metadata": {
    "collapsed": true
   },
   "outputs": [],
   "source": []
  }
 ],
 "metadata": {
  "kernelspec": {
   "display_name": "Bash",
   "language": "bash",
   "name": "bash"
  },
  "language_info": {
   "codemirror_mode": "shell",
   "file_extension": ".sh",
   "mimetype": "text/x-sh",
   "name": "bash"
  }
 },
 "nbformat": 4,
 "nbformat_minor": 2
}

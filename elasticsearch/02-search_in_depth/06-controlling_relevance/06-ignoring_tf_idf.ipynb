{
 "cells": [
  {
   "cell_type": "markdown",
   "metadata": {},
   "source": [
    "use a constant score query to match on terms youd like to see"
   ]
  },
  {
   "cell_type": "code",
   "execution_count": 1,
   "metadata": {
    "collapsed": false
   },
   "outputs": [
    {
     "name": "stdout",
     "output_type": "stream",
     "text": [
      "{\n",
      "  \"took\" : 5,\n",
      "  \"timed_out\" : false,\n",
      "  \"_shards\" : {\n",
      "    \"total\" : 40,\n",
      "    \"successful\" : 40,\n",
      "    \"failed\" : 0\n",
      "  },\n",
      "  \"hits\" : {\n",
      "    \"total\" : 0,\n",
      "    \"max_score\" : null,\n",
      "    \"hits\" : [ ]\n",
      "  }\n",
      "}\n"
     ]
    }
   ],
   "source": [
    "curl -XGET 'localhost:9200/_search?pretty' -H 'Content-Type: application/json' -d'\n",
    "{\n",
    "  \"query\": {\n",
    "    \"bool\": {\n",
    "      \"should\": [\n",
    "        { \"constant_score\": {\n",
    "          \"query\": { \"match\": { \"description\": \"wifi\" }}\n",
    "        }},\n",
    "        { \"constant_score\": {\n",
    "          \"query\": { \"match\": { \"description\": \"garden\" }}\n",
    "        }},\n",
    "        { \"constant_score\": {\n",
    "          \"query\": { \"match\": { \"description\": \"pool\" }}\n",
    "        }}\n",
    "      ]\n",
    "    }\n",
    "  }\n",
    "}\n",
    "'"
   ]
  },
  {
   "cell_type": "markdown",
   "metadata": {},
   "source": [
    "give a boost to terms youd like to see ranked higher"
   ]
  },
  {
   "cell_type": "code",
   "execution_count": 3,
   "metadata": {
    "collapsed": false
   },
   "outputs": [
    {
     "name": "stdout",
     "output_type": "stream",
     "text": [
      "{\n",
      "  \"took\" : 5,\n",
      "  \"timed_out\" : false,\n",
      "  \"_shards\" : {\n",
      "    \"total\" : 40,\n",
      "    \"successful\" : 40,\n",
      "    \"failed\" : 0\n",
      "  },\n",
      "  \"hits\" : {\n",
      "    \"total\" : 0,\n",
      "    \"max_score\" : null,\n",
      "    \"hits\" : [ ]\n",
      "  }\n",
      "}\n"
     ]
    }
   ],
   "source": [
    "curl -XGET 'localhost:9200/_search?pretty' -H 'Content-Type: application/json' -d'\n",
    "{\n",
    "  \"query\": {\n",
    "    \"bool\": {\n",
    "      \"should\": [\n",
    "        { \"constant_score\": {\n",
    "          \"query\": { \"match\": { \"description\": \"wifi\" }}\n",
    "        }},\n",
    "        { \"constant_score\": {\n",
    "          \"query\": { \"match\": { \"description\": \"garden\" }}\n",
    "        }},\n",
    "        { \"constant_score\": {\n",
    "          \"boost\":   2,\n",
    "          \"query\": { \"match\": { \"description\": \"pool\" }}\n",
    "        }}\n",
    "      ]\n",
    "    }\n",
    "  }\n",
    "}\n",
    "'"
   ]
  },
  {
   "cell_type": "markdown",
   "metadata": {},
   "source": [
    "we could use a filter property like this:"
   ]
  },
  {
   "cell_type": "markdown",
   "metadata": {},
   "source": [
    "{ \"features\": [ \"wifi\", \"pool\", \"garden\" ] }"
   ]
  },
  {
   "cell_type": "markdown",
   "metadata": {},
   "source": [
    "and use an not_analyzed field, however, the inverse document frequency still is taken into account!"
   ]
  },
  {
   "cell_type": "code",
   "execution_count": 5,
   "metadata": {
    "collapsed": false
   },
   "outputs": [
    {
     "name": "stdout",
     "output_type": "stream",
     "text": [
      "{\n",
      "  \"took\" : 4,\n",
      "  \"timed_out\" : false,\n",
      "  \"_shards\" : {\n",
      "    \"total\" : 40,\n",
      "    \"successful\" : 40,\n",
      "    \"failed\" : 0\n",
      "  },\n",
      "  \"hits\" : {\n",
      "    \"total\" : 0,\n",
      "    \"max_score\" : null,\n",
      "    \"hits\" : [ ]\n",
      "  }\n",
      "}\n"
     ]
    }
   ],
   "source": [
    "curl -XGET 'localhost:9200/_search?pretty' -H 'Content-Type: application/json' -d'\n",
    "{\n",
    "  \"query\": {\n",
    "    \"bool\": {\n",
    "      \"should\": [\n",
    "        { \"constant_score\": {\n",
    "          \"query\": { \"match\": { \"features\": \"wifi\" }}\n",
    "        }},\n",
    "        { \"constant_score\": {\n",
    "          \"query\": { \"match\": { \"features\": \"garden\" }}\n",
    "        }},\n",
    "        { \"constant_score\": {\n",
    "          \"boost\":   2,\n",
    "          \"query\": { \"match\": { \"features\": \"pool\" }}\n",
    "        }}\n",
    "      ]\n",
    "    }\n",
    "  }\n",
    "}\n",
    "'"
   ]
  },
  {
   "cell_type": "markdown",
   "metadata": {},
   "source": [
    "what we really want is a filter that allows scoring ..."
   ]
  },
  {
   "cell_type": "code",
   "execution_count": null,
   "metadata": {
    "collapsed": true
   },
   "outputs": [],
   "source": []
  }
 ],
 "metadata": {
  "kernelspec": {
   "display_name": "Bash",
   "language": "bash",
   "name": "bash"
  },
  "language_info": {
   "codemirror_mode": "shell",
   "file_extension": ".sh",
   "mimetype": "text/x-sh",
   "name": "bash"
  }
 },
 "nbformat": 4,
 "nbformat_minor": 2
}

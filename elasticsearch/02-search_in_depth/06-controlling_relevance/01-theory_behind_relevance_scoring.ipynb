{
 "cells": [
  {
   "cell_type": "markdown",
   "metadata": {},
   "source": [
    "delete old index"
   ]
  },
  {
   "cell_type": "code",
   "execution_count": 4,
   "metadata": {
    "collapsed": false
   },
   "outputs": [
    {
     "name": "stdout",
     "output_type": "stream",
     "text": [
      "{\n",
      "  \"acknowledged\" : true\n",
      "}\n"
     ]
    }
   ],
   "source": [
    "curl -XDELETE 'localhost:9200/my_index?pretty'"
   ]
  },
  {
   "cell_type": "markdown",
   "metadata": {},
   "source": [
    "disable term frequency scoring in mapping"
   ]
  },
  {
   "cell_type": "code",
   "execution_count": 2,
   "metadata": {
    "collapsed": false
   },
   "outputs": [
    {
     "name": "stdout",
     "output_type": "stream",
     "text": [
      "{\n",
      "  \"acknowledged\" : true,\n",
      "  \"shards_acknowledged\" : true\n",
      "}\n"
     ]
    }
   ],
   "source": [
    "curl -XPUT 'localhost:9200/my_index?pretty' -H 'Content-Type: application/json' -d'\n",
    "{\n",
    "  \"mappings\": {\n",
    "    \"doc\": {\n",
    "      \"properties\": {\n",
    "        \"text\": {\n",
    "          \"type\":          \"string\",\n",
    "          \"index_options\": \"docs\" \n",
    "        }\n",
    "      }\n",
    "    }\n",
    "  }\n",
    "}\n",
    "'"
   ]
  },
  {
   "cell_type": "markdown",
   "metadata": {},
   "source": [
    "disable norms (field length scoring) in mapping"
   ]
  },
  {
   "cell_type": "code",
   "execution_count": 5,
   "metadata": {
    "collapsed": false,
    "scrolled": false
   },
   "outputs": [
    {
     "name": "stdout",
     "output_type": "stream",
     "text": [
      "{\n",
      "  \"acknowledged\" : true,\n",
      "  \"shards_acknowledged\" : true\n",
      "}\n"
     ]
    }
   ],
   "source": [
    "curl -XPUT 'localhost:9200/my_index?pretty' -H 'Content-Type: application/json' -d'\n",
    "{\n",
    "  \"mappings\": {\n",
    "    \"doc\": {\n",
    "      \"properties\": {\n",
    "        \"text\": {\n",
    "          \"type\": \"string\",\n",
    "          \"norms\": { \"enabled\": false } \n",
    "        }\n",
    "      }\n",
    "    }\n",
    "  }\n",
    "}\n",
    "'"
   ]
  },
  {
   "cell_type": "markdown",
   "metadata": {},
   "source": [
    "test data"
   ]
  },
  {
   "cell_type": "code",
   "execution_count": 6,
   "metadata": {
    "collapsed": false
   },
   "outputs": [
    {
     "name": "stdout",
     "output_type": "stream",
     "text": [
      "{\n",
      "  \"_index\" : \"my_index\",\n",
      "  \"_type\" : \"doc\",\n",
      "  \"_id\" : \"1\",\n",
      "  \"_version\" : 1,\n",
      "  \"result\" : \"created\",\n",
      "  \"_shards\" : {\n",
      "    \"total\" : 2,\n",
      "    \"successful\" : 2,\n",
      "    \"failed\" : 0\n",
      "  },\n",
      "  \"created\" : true\n",
      "}\n"
     ]
    }
   ],
   "source": [
    "curl -XPUT 'localhost:9200/my_index/doc/1?pretty' -H 'Content-Type: application/json' -d'\n",
    "{ \"text\" : \"quick brown fox\" }\n",
    "'"
   ]
  },
  {
   "cell_type": "markdown",
   "metadata": {},
   "source": [
    "explain the search query scoring"
   ]
  },
  {
   "cell_type": "code",
   "execution_count": 7,
   "metadata": {
    "collapsed": false
   },
   "outputs": [
    {
     "name": "stdout",
     "output_type": "stream",
     "text": [
      "{\"took\":2,\"timed_out\":false,\"_shards\":{\"total\":5,\"successful\":5,\"failed\":0},\"hits\":{\"total\":1,\"max_score\":0.2876821,\"hits\":[{\"_shard\":\"[my_index][3]\",\"_node\":\"FP3DCIqWT3GoWyZhWVxT3Q\",\"_index\":\"my_index\",\"_type\":\"doc\",\"_id\":\"1\",\"_score\":0.2876821,\"_source\":\n",
      "{ \"text\" : \"quick brown fox\" }\n",
      ",\"_explanation\":{\"value\":0.2876821,\"description\":\"sum of:\",\"details\":[{\"value\":0.2876821,\"description\":\"weight(text:fox in 0) [PerFieldSimilarity], result of:\",\"details\":[{\"value\":0.2876821,\"description\":\"score(doc=0,freq=1.0 = termFreq=1.0\\n), product of:\",\"details\":[{\"value\":0.2876821,\"description\":\"idf, computed as log(1 + (docCount - docFreq + 0.5) / (docFreq + 0.5)) from:\",\"details\":[{\"value\":1.0,\"description\":\"docFreq\",\"details\":[]},{\"value\":1.0,\"description\":\"docCount\",\"details\":[]}]},{\"value\":1.0,\"description\":\"tfNorm, computed as (freq * (k1 + 1)) / (freq + k1) from:\",\"details\":[{\"value\":1.0,\"description\":\"termFreq=1.0\",\"details\":[]},{\"value\":1.2,\"description\":\"parameter k1\",\"details\":[]},{\"value\":0.0,\"description\":\"parameter b (norms omitted for field)\",\"details\":[]}]}]}]},{\"value\":0.0,\"description\":\"match on required clause, product of:\",\"details\":[{\"value\":0.0,\"description\":\"# clause\",\"details\":[]},{\"value\":1.0,\"description\":\"*:*, product of:\",\"details\":[{\"value\":1.0,\"description\":\"boost\",\"details\":[]},{\"value\":1.0,\"description\":\"queryNorm\",\"details\":[]}]}]}]}}]}}"
     ]
    }
   ],
   "source": [
    "curl -XGET 'localhost:9200/my_index/doc/_search?explain' -H 'Content-Type: application/json' -d'\n",
    "{\n",
    "  \"query\": {\n",
    "    \"term\": {\n",
    "      \"text\": \"fox\"\n",
    "    }\n",
    "  }\n",
    "}\n",
    "'"
   ]
  },
  {
   "cell_type": "code",
   "execution_count": null,
   "metadata": {
    "collapsed": true
   },
   "outputs": [],
   "source": []
  }
 ],
 "metadata": {
  "kernelspec": {
   "display_name": "Bash",
   "language": "bash",
   "name": "bash"
  },
  "language_info": {
   "codemirror_mode": "shell",
   "file_extension": ".sh",
   "mimetype": "text/x-sh",
   "name": "bash"
  }
 },
 "nbformat": 4,
 "nbformat_minor": 2
}

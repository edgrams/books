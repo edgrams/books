{
 "cells": [
  {
   "cell_type": "markdown",
   "metadata": {},
   "source": [
    "use a decay curve for results outside the norm"
   ]
  },
  {
   "cell_type": "code",
   "execution_count": 1,
   "metadata": {
    "collapsed": false
   },
   "outputs": [
    {
     "name": "stdout",
     "output_type": "stream",
     "text": [
      "{\n",
      "  \"error\" : {\n",
      "    \"root_cause\" : [\n",
      "      {\n",
      "        \"type\" : \"parsing_exception\",\n",
      "        \"reason\" : \"unknown field [location]\",\n",
      "        \"line\" : 1,\n",
      "        \"col\" : 0\n",
      "      }\n",
      "    ],\n",
      "    \"type\" : \"search_phase_execution_exception\",\n",
      "    \"reason\" : \"all shards failed\",\n",
      "    \"phase\" : \"query\",\n",
      "    \"grouped\" : true,\n",
      "    \"failed_shards\" : [\n",
      "      {\n",
      "        \"shard\" : 0,\n",
      "        \"index\" : \".kibana\",\n",
      "        \"node\" : \"_RopipB9SfSxiz91YfjrzA\",\n",
      "        \"reason\" : {\n",
      "          \"type\" : \"parsing_exception\",\n",
      "          \"reason\" : \"unknown field [location]\",\n",
      "          \"line\" : 1,\n",
      "          \"col\" : 0\n",
      "        }\n",
      "      }\n",
      "    ],\n",
      "    \"caused_by\" : {\n",
      "      \"type\" : \"parsing_exception\",\n",
      "      \"reason\" : \"unknown field [location]\",\n",
      "      \"line\" : 1,\n",
      "      \"col\" : 0\n",
      "    }\n",
      "  },\n",
      "  \"status\" : 400\n",
      "}\n"
     ]
    }
   ],
   "source": [
    "curl -XGET 'localhost:9200/_search?pretty' -H 'Content-Type: application/json' -d'\n",
    "{\n",
    "  \"query\": {\n",
    "    \"function_score\": {\n",
    "      \"functions\": [\n",
    "        {\n",
    "          \"gauss\": {\n",
    "            \"location\": { \n",
    "              \"origin\": { \"lat\": 51.5, \"lon\": 0.12 },\n",
    "              \"offset\": \"2km\",\n",
    "              \"scale\":  \"3km\"\n",
    "            }\n",
    "          }\n",
    "        },\n",
    "        {\n",
    "          \"gauss\": {\n",
    "            \"price\": { \n",
    "              \"origin\": \"50\", \n",
    "              \"offset\": \"50\",\n",
    "              \"scale\":  \"20\"\n",
    "            }\n",
    "          },\n",
    "          \"weight\": 2 \n",
    "        }\n",
    "      ]\n",
    "    }\n",
    "  }\n",
    "}\n",
    "'"
   ]
  },
  {
   "cell_type": "code",
   "execution_count": null,
   "metadata": {
    "collapsed": true
   },
   "outputs": [],
   "source": []
  }
 ],
 "metadata": {
  "kernelspec": {
   "display_name": "Bash",
   "language": "bash",
   "name": "bash"
  },
  "language_info": {
   "codemirror_mode": "shell",
   "file_extension": ".sh",
   "mimetype": "text/x-sh",
   "name": "bash"
  }
 },
 "nbformat": 4,
 "nbformat_minor": 2
}

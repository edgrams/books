{
 "cells": [
  {
   "cell_type": "markdown",
   "metadata": {},
   "source": [
    "we use random scoring, to have a different random sort order to expose matching results"
   ]
  },
  {
   "cell_type": "markdown",
   "metadata": {},
   "source": [
    "but we also want the sorting to be constant e.g. for paging"
   ]
  },
  {
   "cell_type": "code",
   "execution_count": 2,
   "metadata": {
    "collapsed": false
   },
   "outputs": [
    {
     "name": "stdout",
     "output_type": "stream",
     "text": [
      "{\n",
      "  \"took\" : 29,\n",
      "  \"timed_out\" : false,\n",
      "  \"_shards\" : {\n",
      "    \"total\" : 45,\n",
      "    \"successful\" : 45,\n",
      "    \"failed\" : 0\n",
      "  },\n",
      "  \"hits\" : {\n",
      "    \"total\" : 0,\n",
      "    \"max_score\" : null,\n",
      "    \"hits\" : [ ]\n",
      "  }\n",
      "}\n"
     ]
    }
   ],
   "source": [
    "curl -XGET 'localhost:9200/_search?pretty' -H 'Content-Type: application/json' -d'\n",
    "{\n",
    "  \"query\": {\n",
    "    \"function_score\": {\n",
    "      \"query\": {\n",
    "        \"bool\": {\n",
    "          \"filter\": { \n",
    "            \"term\": { \"city\": \"Barcelona\" }\n",
    "          }\n",
    "        }\n",
    "      },\n",
    "      \"functions\": [ \n",
    "        {\n",
    "          \"filter\": { \"term\": { \"features\": \"wifi\" }}, \n",
    "          \"weight\": 1\n",
    "        },\n",
    "        {\n",
    "          \"filter\": { \"term\": { \"features\": \"garden\" }}, \n",
    "          \"weight\": 1\n",
    "        },\n",
    "        {\n",
    "          \"filter\": { \"term\": { \"features\": \"pool\" }}, \n",
    "          \"weight\": 2 \n",
    "        },\n",
    "        {\n",
    "          \"random_score\": { \n",
    "            \"seed\":  \"the users session id\" \n",
    "          }\n",
    "        }\n",
    "      ],\n",
    "      \"score_mode\": \"sum\"\n",
    "    }\n",
    "  }\n",
    "}\n",
    "'"
   ]
  },
  {
   "cell_type": "markdown",
   "metadata": {},
   "source": [
    "the seed will see the same randomization, if new items are not indexed that change the overall score"
   ]
  },
  {
   "cell_type": "code",
   "execution_count": null,
   "metadata": {
    "collapsed": true
   },
   "outputs": [],
   "source": []
  }
 ],
 "metadata": {
  "kernelspec": {
   "display_name": "Bash",
   "language": "bash",
   "name": "bash"
  },
  "language_info": {
   "codemirror_mode": "shell",
   "file_extension": ".sh",
   "mimetype": "text/x-sh",
   "name": "bash"
  }
 },
 "nbformat": 4,
 "nbformat_minor": 2
}

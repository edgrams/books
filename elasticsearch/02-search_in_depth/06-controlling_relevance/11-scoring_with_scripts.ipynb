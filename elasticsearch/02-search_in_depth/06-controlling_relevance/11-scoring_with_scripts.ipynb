{
 "cells": [
  {
   "cell_type": "markdown",
   "metadata": {},
   "source": [
    "use scripts if function_score doesn't work for you (not working, out of date)"
   ]
  },
  {
   "cell_type": "code",
   "execution_count": 3,
   "metadata": {
    "collapsed": false
   },
   "outputs": [
    {
     "name": "stdout",
     "output_type": "stream",
     "text": [
      "{\n",
      "  \"error\" : {\n",
      "    \"root_cause\" : [\n",
      "      {\n",
      "        \"type\" : \"parsing_exception\",\n",
      "        \"reason\" : \"script_score query does not support [params]\",\n",
      "        \"line\" : 27,\n",
      "        \"col\" : 21\n",
      "      }\n",
      "    ],\n",
      "    \"type\" : \"parsing_exception\",\n",
      "    \"reason\" : \"script_score query does not support [params]\",\n",
      "    \"line\" : 27,\n",
      "    \"col\" : 21\n",
      "  },\n",
      "  \"status\" : 400\n",
      "}\n"
     ]
    }
   ],
   "source": [
    "curl -XGET 'localhost:9200/_search?pretty' -H 'Content-Type: application/json' -d'\n",
    "{\n",
    "  \"query\": {\n",
    "  \"function_score\": {\n",
    "    \"functions\": [\n",
    "      {\n",
    "        \"gauss\": {\n",
    "          \"location\": { \n",
    "            \"origin\": { \"lat\": 51.5, \"lon\": 0.12 },\n",
    "            \"offset\": \"2km\",\n",
    "            \"scale\":  \"3km\"\n",
    "          }\n",
    "        }\n",
    "      },\n",
    "      {\n",
    "        \"gauss\": {\n",
    "          \"price\": { \n",
    "            \"origin\": \"50\", \n",
    "            \"offset\": \"50\",\n",
    "            \"scale\":  \"20\"\n",
    "          }\n",
    "        },\n",
    "        \"weight\": 2 \n",
    "      },\n",
    "      {\n",
    "        \"script_score\": {\n",
    "          \"params\": { \n",
    "            \"threshold\": 80,\n",
    "            \"discount\": 0.1,\n",
    "            \"target\": 10\n",
    "          },\n",
    "          \"script\": \"price  = doc['price'].value; margin = doc['margin'].value;\n",
    "          if (price < threshold) { return price * margin / target };\n",
    "          return price * (1 - discount) * margin / target;\" \n",
    "        }\n",
    "      }\n",
    "    ]\n",
    "  }\n",
    "  }\n",
    "}\n",
    "'"
   ]
  },
  {
   "cell_type": "code",
   "execution_count": null,
   "metadata": {
    "collapsed": true
   },
   "outputs": [],
   "source": []
  }
 ],
 "metadata": {
  "kernelspec": {
   "display_name": "Bash",
   "language": "bash",
   "name": "bash"
  },
  "language_info": {
   "codemirror_mode": "shell",
   "file_extension": ".sh",
   "mimetype": "text/x-sh",
   "name": "bash"
  }
 },
 "nbformat": 4,
 "nbformat_minor": 2
}
